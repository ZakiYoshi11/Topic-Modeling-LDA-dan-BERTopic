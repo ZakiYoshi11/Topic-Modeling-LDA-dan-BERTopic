{
 "cells": [
  {
   "cell_type": "markdown",
   "id": "91eacb91",
   "metadata": {},
   "source": [
    "# Topic Modeling - Artikel Kompas dari tahun 2019 hingga 2020"
   ]
  },
  {
   "cell_type": "markdown",
   "id": "bd2eca96",
   "metadata": {},
   "source": [
    "- Pada studi kasus saat ini yaitu melakukan proses topic modeling, dimana data diambil dari kaggle. dataset sendiri merupakan artikel yang berasal dari salah satu platform berita indonesia yaitu kompas, dimana artikel berita dalam rentang waktu 2019-2020. karena volume data yang terlalu besar sehingga sangat sulit untuk mengehtahui topik utama yang sedang tren pada tahun 2019 - 2020, sulit menyaring informasi yang relavan secara cepat. Untuk itu topic modeling disini menjadi sebuah solusi untuk mengehtahui struktur atau makna yang tersembunyi dalam sebuah dokumen.\n",
    "\n",
    "- Fokus analisis\n",
    "  - apa saja kata kunci yang paling mewakili setiap topik?\n",
    "  - melakukan perbandingan model antara LDA dan BERTopic"
   ]
  },
  {
   "cell_type": "code",
   "execution_count": 37,
   "id": "ef2f892e",
   "metadata": {},
   "outputs": [],
   "source": [
    "# load data\n",
    "import pandas as pd\n",
    "import numpy as np\n",
    "\n",
    "# preprocessing\n",
    "import re\n",
    "from nltk.corpus import stopwords\n",
    "from nltk.tokenize import word_tokenize\n",
    "import ast\n",
    "\n",
    "# Model & Visualization\n",
    "from sklearn.feature_extraction.text import CountVectorizer\n",
    "from sklearn.decomposition import LatentDirichletAllocation\n",
    "import matplotlib.pyplot as plt\n",
    "from bertopic import BERTopic\n",
    "from sklearn.decomposition import PCA\n",
    "from gensim.corpora.dictionary import Dictionary\n",
    "from gensim.models import CoherenceModel\n",
    "from sklearn.metrics import silhouette_score\n",
    "from sklearn.metrics import calinski_harabasz_score\n",
    "from sklearn.metrics import davies_bouldin_score\n",
    "import pyLDAvis\n",
    "import pyLDAvis.gensim_models\n",
    "from gensim.models.ldamodel import LdaModel\n",
    "from gensim import corpora\n",
    "from umap import UMAP\n",
    "from Sastrawi.StopWordRemover.StopWordRemoverFactory import StopWordRemoverFactory\n"
   ]
  },
  {
   "cell_type": "code",
   "execution_count": 2,
   "id": "e4acd83d",
   "metadata": {},
   "outputs": [],
   "source": [
    "# melakukana proses import data dari file csv\n",
    "data = pd.read_csv('Cache/kompas_news_2019_2020_filtered.csv')"
   ]
  },
  {
   "cell_type": "markdown",
   "id": "0affb992",
   "metadata": {},
   "source": [
    "**Noted**\n",
    "\n",
    "- untuk proses pengumpulan data dilakukan dengan cara mendownload data melalaui Kaggle, dimana data berisi mengenai artikel yang berasal dari kompas muali tahun 2019 - 2020. untuk link datasetnya yaitu sebagai berikut: https://www.kaggle.com/datasets/iwanmanurung/kompas-news-2019-2020/data"
   ]
  },
  {
   "cell_type": "code",
   "execution_count": 3,
   "id": "edd28592",
   "metadata": {},
   "outputs": [
    {
     "data": {
      "text/html": [
       "<div>\n",
       "<style scoped>\n",
       "    .dataframe tbody tr th:only-of-type {\n",
       "        vertical-align: middle;\n",
       "    }\n",
       "\n",
       "    .dataframe tbody tr th {\n",
       "        vertical-align: top;\n",
       "    }\n",
       "\n",
       "    .dataframe thead th {\n",
       "        text-align: right;\n",
       "    }\n",
       "</style>\n",
       "<table border=\"1\" class=\"dataframe\">\n",
       "  <thead>\n",
       "    <tr style=\"text-align: right;\">\n",
       "      <th></th>\n",
       "      <th>date</th>\n",
       "      <th>title</th>\n",
       "      <th>news</th>\n",
       "    </tr>\n",
       "  </thead>\n",
       "  <tbody>\n",
       "    <tr>\n",
       "      <th>0</th>\n",
       "      <td>2019-09-01</td>\n",
       "      <td>Beasiswa S1 plus Tunjangan Bulanan dari Univer...</td>\n",
       "      <td>- chulalongkorndimembuka programsarjana (s1) b...</td>\n",
       "    </tr>\n",
       "    <tr>\n",
       "      <th>1</th>\n",
       "      <td>2019-09-01</td>\n",
       "      <td>\"Puldapia Education Expo\" Tampilkan Wajah Dina...</td>\n",
       "      <td>- berdasarkan data kementerian agama, jumlahdi...</td>\n",
       "    </tr>\n",
       "    <tr>\n",
       "      <th>2</th>\n",
       "      <td>2019-09-01</td>\n",
       "      <td>Beasiswa DataPrint untuk 225 Pelajar dan Mahas...</td>\n",
       "      <td>dataprint kembali memberikan programkepada kon...</td>\n",
       "    </tr>\n",
       "    <tr>\n",
       "      <th>3</th>\n",
       "      <td>2019-09-01</td>\n",
       "      <td>5 Wisudawan UI Raih IPK Sempurna, Siapa Mereka?</td>\n",
       "      <td>,universitas indonesia () kembali menyelenggar...</td>\n",
       "    </tr>\n",
       "    <tr>\n",
       "      <th>4</th>\n",
       "      <td>2019-09-01</td>\n",
       "      <td>Mengenal Integrasi Konsep Kampus dan Properti ...</td>\n",
       "      <td>- sektortelah menjadi bagian tidak terpisahaka...</td>\n",
       "    </tr>\n",
       "  </tbody>\n",
       "</table>\n",
       "</div>"
      ],
      "text/plain": [
       "         date                                              title  \\\n",
       "0  2019-09-01  Beasiswa S1 plus Tunjangan Bulanan dari Univer...   \n",
       "1  2019-09-01  \"Puldapia Education Expo\" Tampilkan Wajah Dina...   \n",
       "2  2019-09-01  Beasiswa DataPrint untuk 225 Pelajar dan Mahas...   \n",
       "3  2019-09-01    5 Wisudawan UI Raih IPK Sempurna, Siapa Mereka?   \n",
       "4  2019-09-01  Mengenal Integrasi Konsep Kampus dan Properti ...   \n",
       "\n",
       "                                                news  \n",
       "0  - chulalongkorndimembuka programsarjana (s1) b...  \n",
       "1  - berdasarkan data kementerian agama, jumlahdi...  \n",
       "2  dataprint kembali memberikan programkepada kon...  \n",
       "3  ,universitas indonesia () kembali menyelenggar...  \n",
       "4  - sektortelah menjadi bagian tidak terpisahaka...  "
      ]
     },
     "execution_count": 3,
     "metadata": {},
     "output_type": "execute_result"
    }
   ],
   "source": [
    "# melihat 5 data teratas\n",
    "data.head()"
   ]
  },
  {
   "cell_type": "code",
   "execution_count": 4,
   "id": "0f0e4c0f",
   "metadata": {},
   "outputs": [
    {
     "data": {
      "text/plain": [
       "(294955, 3)"
      ]
     },
     "execution_count": 4,
     "metadata": {},
     "output_type": "execute_result"
    }
   ],
   "source": [
    "# nelihat total keseluruhan data (baris, kolom dataset)\n",
    "data.shape"
   ]
  },
  {
   "cell_type": "code",
   "execution_count": 5,
   "id": "93906d29",
   "metadata": {},
   "outputs": [
    {
     "data": {
      "text/plain": [
       "date     0\n",
       "title    0\n",
       "news     0\n",
       "dtype: int64"
      ]
     },
     "execution_count": 5,
     "metadata": {},
     "output_type": "execute_result"
    }
   ],
   "source": [
    "# melihat data null yangada pada dataset\n",
    "data.isna().sum()"
   ]
  },
  {
   "cell_type": "markdown",
   "id": "94a29c60",
   "metadata": {},
   "source": [
    "**Noted**\n",
    "\n",
    "berdasarkan code yang telah dibuat terdapat beberapa proses yang dilakukan, pertama tentunya melakukan proses import data csv yang terdapat pada folder Cache. Langkah kedua adalah meilihat jumlah data secara keselurahan dimana terdapat 294955 baris dan 3 kolom data. Langkah ketiga yaitu melihat apakah pada dataset terdapat data null atau tidal, berdasarkan hasil yang telah dilakukan sebelumnya tidak terdapat data null pada dataset."
   ]
  },
  {
   "cell_type": "code",
   "execution_count": 6,
   "id": "b3ed26cb",
   "metadata": {},
   "outputs": [],
   "source": [
    "# mengambil 50k dataset saja\n",
    "df_sample = data.sample(n=50000, random_state=42)"
   ]
  },
  {
   "cell_type": "markdown",
   "id": "345cfa9c",
   "metadata": {},
   "source": [
    "## Preprocessing Data"
   ]
  },
  {
   "cell_type": "markdown",
   "id": "d3ca7fe6",
   "metadata": {},
   "source": [
    "pemrosesan utama data terdiri dari case folding, tokenisasi, stopword removal, dan filtering kata yang tidak penting."
   ]
  },
  {
   "cell_type": "code",
   "execution_count": 7,
   "id": "0bf02ce5",
   "metadata": {},
   "outputs": [],
   "source": [
    "# menghapus kolom yang tidak diperlukan\n",
    "df = df_sample.drop(columns=['title'])"
   ]
  },
  {
   "cell_type": "code",
   "execution_count": 8,
   "id": "4c7ab021",
   "metadata": {},
   "outputs": [
    {
     "data": {
      "text/plain": [
       "4"
      ]
     },
     "execution_count": 8,
     "metadata": {},
     "output_type": "execute_result"
    }
   ],
   "source": [
    "# melakukan pengecekan terdahap data suplikat\n",
    "df.duplicated().sum()"
   ]
  },
  {
   "cell_type": "code",
   "execution_count": 9,
   "id": "3a35d47c",
   "metadata": {},
   "outputs": [
    {
     "data": {
      "text/html": [
       "<div>\n",
       "<style scoped>\n",
       "    .dataframe tbody tr th:only-of-type {\n",
       "        vertical-align: middle;\n",
       "    }\n",
       "\n",
       "    .dataframe tbody tr th {\n",
       "        vertical-align: top;\n",
       "    }\n",
       "\n",
       "    .dataframe thead th {\n",
       "        text-align: right;\n",
       "    }\n",
       "</style>\n",
       "<table border=\"1\" class=\"dataframe\">\n",
       "  <thead>\n",
       "    <tr style=\"text-align: right;\">\n",
       "      <th></th>\n",
       "      <th>date</th>\n",
       "      <th>news</th>\n",
       "    </tr>\n",
       "  </thead>\n",
       "  <tbody>\n",
       "    <tr>\n",
       "      <th>52599</th>\n",
       "      <td>2019-10-26</td>\n",
       "      <td>-menjadi salah satu pilihan minuman yang digem...</td>\n",
       "    </tr>\n",
       "    <tr>\n",
       "      <th>204945</th>\n",
       "      <td>2019-08-06</td>\n",
       "      <td>kh maimun zubair, dikenal luas sebagai mbah mo...</td>\n",
       "    </tr>\n",
       "    <tr>\n",
       "      <th>198998</th>\n",
       "      <td>2019-08-15</td>\n",
       "      <td>bagi yang tak mencoba mengenali lebih dalam, m...</td>\n",
       "    </tr>\n",
       "    <tr>\n",
       "      <th>94988</th>\n",
       "      <td>2020-01-24</td>\n",
       "      <td>disebut punya pangsa 99 persen usaha, tapi kon...</td>\n",
       "    </tr>\n",
       "  </tbody>\n",
       "</table>\n",
       "</div>"
      ],
      "text/plain": [
       "              date                                               news\n",
       "52599   2019-10-26  -menjadi salah satu pilihan minuman yang digem...\n",
       "204945  2019-08-06  kh maimun zubair, dikenal luas sebagai mbah mo...\n",
       "198998  2019-08-15  bagi yang tak mencoba mengenali lebih dalam, m...\n",
       "94988   2020-01-24  disebut punya pangsa 99 persen usaha, tapi kon..."
      ]
     },
     "execution_count": 9,
     "metadata": {},
     "output_type": "execute_result"
    }
   ],
   "source": [
    "df[df.duplicated()]"
   ]
  },
  {
   "cell_type": "code",
   "execution_count": 10,
   "id": "d662ad95",
   "metadata": {},
   "outputs": [],
   "source": [
    "# melakukan pemrosesan data case folding\n",
    "df['news_case'] = df['news'].str.lower()"
   ]
  },
  {
   "cell_type": "markdown",
   "id": "444bf29d",
   "metadata": {},
   "source": [
    "**Noted**\n",
    "\n",
    "Fungsi dari code diatas adalah mengubah semua huruf yang ada di dalam dataset kolom news menjadi huruf kecil, kemudian dimasukkan kedalam kolom baru yaitu news_case"
   ]
  },
  {
   "cell_type": "code",
   "execution_count": 11,
   "id": "9911f712",
   "metadata": {},
   "outputs": [],
   "source": [
    "# remove function words\n",
    "df['news_remove'] = df['news_case'].apply(lambda x: re.sub(r'[^\\w\\s]', ' ', x))"
   ]
  },
  {
   "cell_type": "markdown",
   "id": "4a6f5c6e",
   "metadata": {},
   "source": [
    "**Noted**\n",
    "\n",
    "Proses berikutnya yaitu melakukan pemrosesan dengan menghapus simbol simbol yang terdapat dalam teks, dimana simbol yang ada tidak akan digunakan nantinya sehingga simbol tersebut perlu dihapus."
   ]
  },
  {
   "cell_type": "code",
   "execution_count": 12,
   "id": "4068756d",
   "metadata": {},
   "outputs": [],
   "source": [
    "# Pemrosesan data menjadi token\n",
    "df['news_tokens'] = df['news_remove'].apply(lambda x: re.findall(r'\\b[\\w-]+\\b', x))"
   ]
  },
  {
   "cell_type": "markdown",
   "id": "8459aa2b",
   "metadata": {},
   "source": [
    "**Noted**\n",
    "\n",
    "pada tahap ini pmeorsesan yang dilakukan adalah membuat setiap baris dataset yang ada menjadi sebuah token, atau biasa juga disebut dengan tokenisasi."
   ]
  },
  {
   "cell_type": "code",
   "execution_count": 13,
   "id": "27820951",
   "metadata": {},
   "outputs": [
    {
     "data": {
      "text/html": [
       "<div>\n",
       "<style scoped>\n",
       "    .dataframe tbody tr th:only-of-type {\n",
       "        vertical-align: middle;\n",
       "    }\n",
       "\n",
       "    .dataframe tbody tr th {\n",
       "        vertical-align: top;\n",
       "    }\n",
       "\n",
       "    .dataframe thead th {\n",
       "        text-align: right;\n",
       "    }\n",
       "</style>\n",
       "<table border=\"1\" class=\"dataframe\">\n",
       "  <thead>\n",
       "    <tr style=\"text-align: right;\">\n",
       "      <th></th>\n",
       "      <th>date</th>\n",
       "      <th>news</th>\n",
       "      <th>news_case</th>\n",
       "      <th>news_remove</th>\n",
       "      <th>news_tokens</th>\n",
       "    </tr>\n",
       "  </thead>\n",
       "  <tbody>\n",
       "    <tr>\n",
       "      <th>36198</th>\n",
       "      <td>2020-04-26</td>\n",
       "      <td>, , sejumlah di jawa tengah memilih untuk ti...</td>\n",
       "      <td>, , sejumlah di jawa tengah memilih untuk ti...</td>\n",
       "      <td>sejumlah di jawa tengah memilih untuk ti...</td>\n",
       "      <td>[sejumlah, di, jawa, tengah, memilih, untuk, t...</td>\n",
       "    </tr>\n",
       "    <tr>\n",
       "      <th>60401</th>\n",
       "      <td>2020-03-05</td>\n",
       "      <td>- polres metro jakarta utara menjual ribuan ma...</td>\n",
       "      <td>- polres metro jakarta utara menjual ribuan ma...</td>\n",
       "      <td>polres metro jakarta utara menjual ribuan ma...</td>\n",
       "      <td>[polres, metro, jakarta, utara, menjual, ribua...</td>\n",
       "    </tr>\n",
       "    <tr>\n",
       "      <th>226017</th>\n",
       "      <td>2019-03-30</td>\n",
       "      <td>- Pertandingan Persebaya Surabaya versus PS T...</td>\n",
       "      <td>- pertandingan persebaya surabaya versus ps t...</td>\n",
       "      <td>pertandingan persebaya surabaya versus ps t...</td>\n",
       "      <td>[pertandingan, persebaya, surabaya, versus, ps...</td>\n",
       "    </tr>\n",
       "    <tr>\n",
       "      <th>225869</th>\n",
       "      <td>2019-03-29</td>\n",
       "      <td>- Maskapai Garuda Indonesia akan memberikan d...</td>\n",
       "      <td>- maskapai garuda indonesia akan memberikan d...</td>\n",
       "      <td>maskapai garuda indonesia akan memberikan d...</td>\n",
       "      <td>[maskapai, garuda, indonesia, akan, memberikan...</td>\n",
       "    </tr>\n",
       "    <tr>\n",
       "      <th>154977</th>\n",
       "      <td>2019-12-10</td>\n",
       "      <td>,timnas u23 indonesia kalah 0-3 dari timnas u2...</td>\n",
       "      <td>,timnas u23 indonesia kalah 0-3 dari timnas u2...</td>\n",
       "      <td>timnas u23 indonesia kalah 0 3 dari timnas u2...</td>\n",
       "      <td>[timnas, u23, indonesia, kalah, 0, 3, dari, ti...</td>\n",
       "    </tr>\n",
       "  </tbody>\n",
       "</table>\n",
       "</div>"
      ],
      "text/plain": [
       "              date                                               news  \\\n",
       "36198   2020-04-26    , , sejumlah di jawa tengah memilih untuk ti...   \n",
       "60401   2020-03-05  - polres metro jakarta utara menjual ribuan ma...   \n",
       "226017  2019-03-30   - Pertandingan Persebaya Surabaya versus PS T...   \n",
       "225869  2019-03-29   - Maskapai Garuda Indonesia akan memberikan d...   \n",
       "154977  2019-12-10  ,timnas u23 indonesia kalah 0-3 dari timnas u2...   \n",
       "\n",
       "                                                news_case  \\\n",
       "36198     , , sejumlah di jawa tengah memilih untuk ti...   \n",
       "60401   - polres metro jakarta utara menjual ribuan ma...   \n",
       "226017   - pertandingan persebaya surabaya versus ps t...   \n",
       "225869   - maskapai garuda indonesia akan memberikan d...   \n",
       "154977  ,timnas u23 indonesia kalah 0-3 dari timnas u2...   \n",
       "\n",
       "                                              news_remove  \\\n",
       "36198         sejumlah di jawa tengah memilih untuk ti...   \n",
       "60401     polres metro jakarta utara menjual ribuan ma...   \n",
       "226017     pertandingan persebaya surabaya versus ps t...   \n",
       "225869     maskapai garuda indonesia akan memberikan d...   \n",
       "154977   timnas u23 indonesia kalah 0 3 dari timnas u2...   \n",
       "\n",
       "                                              news_tokens  \n",
       "36198   [sejumlah, di, jawa, tengah, memilih, untuk, t...  \n",
       "60401   [polres, metro, jakarta, utara, menjual, ribua...  \n",
       "226017  [pertandingan, persebaya, surabaya, versus, ps...  \n",
       "225869  [maskapai, garuda, indonesia, akan, memberikan...  \n",
       "154977  [timnas, u23, indonesia, kalah, 0, 3, dari, ti...  "
      ]
     },
     "execution_count": 13,
     "metadata": {},
     "output_type": "execute_result"
    }
   ],
   "source": [
    "df.head()"
   ]
  },
  {
   "cell_type": "code",
   "execution_count": 14,
   "id": "0bbcb9cc",
   "metadata": {},
   "outputs": [],
   "source": [
    "# melakukan proses stopword removal\n",
    "stop_words = set(stopwords.words('indonesian'))\n",
    "stopword_costume = ['chulalongkorndimembuka', 'sektortelah', 'programkepada ']\n",
    "stop_words.update(stopword_costume)\n",
    "def remove_stopwords(tokens):\n",
    "    return [word for word in tokens if word not in stop_words]"
   ]
  },
  {
   "cell_type": "code",
   "execution_count": 15,
   "id": "810daa4c",
   "metadata": {},
   "outputs": [],
   "source": [
    "df['news_stopwords'] = df['news_tokens'].apply(remove_stopwords)"
   ]
  },
  {
   "cell_type": "markdown",
   "id": "03632df3",
   "metadata": {},
   "source": [
    "**Noted**\n",
    "\n",
    "pada proses ini yaitu melakukan filtering setiap kata yang ada, kata yang tidak memiliki makna akan dihapus. terdapat juga kata yang saya hapus secara manual dimana data tersebut terdapat kesalahan dalam penulisan. selain itu menurut pendapat saya, kata tersebut juga tidak terlalu memiliki makna yang signifikan terdapat data yang ada."
   ]
  },
  {
   "cell_type": "code",
   "execution_count": 16,
   "id": "08c66865",
   "metadata": {},
   "outputs": [
    {
     "data": {
      "text/html": [
       "<div>\n",
       "<style scoped>\n",
       "    .dataframe tbody tr th:only-of-type {\n",
       "        vertical-align: middle;\n",
       "    }\n",
       "\n",
       "    .dataframe tbody tr th {\n",
       "        vertical-align: top;\n",
       "    }\n",
       "\n",
       "    .dataframe thead th {\n",
       "        text-align: right;\n",
       "    }\n",
       "</style>\n",
       "<table border=\"1\" class=\"dataframe\">\n",
       "  <thead>\n",
       "    <tr style=\"text-align: right;\">\n",
       "      <th></th>\n",
       "      <th>date</th>\n",
       "      <th>news</th>\n",
       "      <th>news_case</th>\n",
       "      <th>news_remove</th>\n",
       "      <th>news_tokens</th>\n",
       "      <th>news_stopwords</th>\n",
       "    </tr>\n",
       "  </thead>\n",
       "  <tbody>\n",
       "    <tr>\n",
       "      <th>36198</th>\n",
       "      <td>2020-04-26</td>\n",
       "      <td>, , sejumlah di jawa tengah memilih untuk ti...</td>\n",
       "      <td>, , sejumlah di jawa tengah memilih untuk ti...</td>\n",
       "      <td>sejumlah di jawa tengah memilih untuk ti...</td>\n",
       "      <td>[sejumlah, di, jawa, tengah, memilih, untuk, t...</td>\n",
       "      <td>[jawa, memilih, memilih, bertahan, tinggalnya,...</td>\n",
       "    </tr>\n",
       "    <tr>\n",
       "      <th>60401</th>\n",
       "      <td>2020-03-05</td>\n",
       "      <td>- polres metro jakarta utara menjual ribuan ma...</td>\n",
       "      <td>- polres metro jakarta utara menjual ribuan ma...</td>\n",
       "      <td>polres metro jakarta utara menjual ribuan ma...</td>\n",
       "      <td>[polres, metro, jakarta, utara, menjual, ribua...</td>\n",
       "      <td>[polres, metro, jakarta, utara, menjual, ribua...</td>\n",
       "    </tr>\n",
       "    <tr>\n",
       "      <th>226017</th>\n",
       "      <td>2019-03-30</td>\n",
       "      <td>- Pertandingan Persebaya Surabaya versus PS T...</td>\n",
       "      <td>- pertandingan persebaya surabaya versus ps t...</td>\n",
       "      <td>pertandingan persebaya surabaya versus ps t...</td>\n",
       "      <td>[pertandingan, persebaya, surabaya, versus, ps...</td>\n",
       "      <td>[pertandingan, persebaya, surabaya, versus, ps...</td>\n",
       "    </tr>\n",
       "    <tr>\n",
       "      <th>225869</th>\n",
       "      <td>2019-03-29</td>\n",
       "      <td>- Maskapai Garuda Indonesia akan memberikan d...</td>\n",
       "      <td>- maskapai garuda indonesia akan memberikan d...</td>\n",
       "      <td>maskapai garuda indonesia akan memberikan d...</td>\n",
       "      <td>[maskapai, garuda, indonesia, akan, memberikan...</td>\n",
       "      <td>[maskapai, garuda, indonesia, diskon, harga, t...</td>\n",
       "    </tr>\n",
       "    <tr>\n",
       "      <th>154977</th>\n",
       "      <td>2019-12-10</td>\n",
       "      <td>,timnas u23 indonesia kalah 0-3 dari timnas u2...</td>\n",
       "      <td>,timnas u23 indonesia kalah 0-3 dari timnas u2...</td>\n",
       "      <td>timnas u23 indonesia kalah 0 3 dari timnas u2...</td>\n",
       "      <td>[timnas, u23, indonesia, kalah, 0, 3, dari, ti...</td>\n",
       "      <td>[timnas, u23, indonesia, kalah, 0, 3, timnas, ...</td>\n",
       "    </tr>\n",
       "  </tbody>\n",
       "</table>\n",
       "</div>"
      ],
      "text/plain": [
       "              date                                               news  \\\n",
       "36198   2020-04-26    , , sejumlah di jawa tengah memilih untuk ti...   \n",
       "60401   2020-03-05  - polres metro jakarta utara menjual ribuan ma...   \n",
       "226017  2019-03-30   - Pertandingan Persebaya Surabaya versus PS T...   \n",
       "225869  2019-03-29   - Maskapai Garuda Indonesia akan memberikan d...   \n",
       "154977  2019-12-10  ,timnas u23 indonesia kalah 0-3 dari timnas u2...   \n",
       "\n",
       "                                                news_case  \\\n",
       "36198     , , sejumlah di jawa tengah memilih untuk ti...   \n",
       "60401   - polres metro jakarta utara menjual ribuan ma...   \n",
       "226017   - pertandingan persebaya surabaya versus ps t...   \n",
       "225869   - maskapai garuda indonesia akan memberikan d...   \n",
       "154977  ,timnas u23 indonesia kalah 0-3 dari timnas u2...   \n",
       "\n",
       "                                              news_remove  \\\n",
       "36198         sejumlah di jawa tengah memilih untuk ti...   \n",
       "60401     polres metro jakarta utara menjual ribuan ma...   \n",
       "226017     pertandingan persebaya surabaya versus ps t...   \n",
       "225869     maskapai garuda indonesia akan memberikan d...   \n",
       "154977   timnas u23 indonesia kalah 0 3 dari timnas u2...   \n",
       "\n",
       "                                              news_tokens  \\\n",
       "36198   [sejumlah, di, jawa, tengah, memilih, untuk, t...   \n",
       "60401   [polres, metro, jakarta, utara, menjual, ribua...   \n",
       "226017  [pertandingan, persebaya, surabaya, versus, ps...   \n",
       "225869  [maskapai, garuda, indonesia, akan, memberikan...   \n",
       "154977  [timnas, u23, indonesia, kalah, 0, 3, dari, ti...   \n",
       "\n",
       "                                           news_stopwords  \n",
       "36198   [jawa, memilih, memilih, bertahan, tinggalnya,...  \n",
       "60401   [polres, metro, jakarta, utara, menjual, ribua...  \n",
       "226017  [pertandingan, persebaya, surabaya, versus, ps...  \n",
       "225869  [maskapai, garuda, indonesia, diskon, harga, t...  \n",
       "154977  [timnas, u23, indonesia, kalah, 0, 3, timnas, ...  "
      ]
     },
     "execution_count": 16,
     "metadata": {},
     "output_type": "execute_result"
    }
   ],
   "source": [
    "df.head()"
   ]
  },
  {
   "cell_type": "markdown",
   "id": "aed5b0a1",
   "metadata": {},
   "source": [
    "**Noted**\n",
    "\n",
    "Setelah melakukan beberapa pemrosesan data sebelumnya maka dapat kita lihat hasil dari pemorsesan data yang telah dilakukan, agar terlihat perbedaannya disini saya membuat kolom baru setiap step pemrosesan data yang ada."
   ]
  },
  {
   "cell_type": "code",
   "execution_count": 17,
   "id": "a91d4158",
   "metadata": {},
   "outputs": [],
   "source": [
    "# melakukan proses BOW untuk digunakan pada algoritma LDA\n",
    "\n",
    "# proses penggabungan dataset yang semulanya berupa list menjadi string\n",
    "df['clean_tokens'] = df['news_stopwords'].apply(lambda words: [w for w in words if w.isalpha()])\n",
    "text = df['clean_tokens'].apply(lambda x: ' '.join(x))\n",
    "\n",
    "# melakukan proses initialisasi CountVectorizer\n",
    "vectorizer = CountVectorizer(ngram_range=(1, 2), min_df=5)\n",
    "\n",
    "# tahap selanjutnya yaitu fit transform data\n",
    "bow = vectorizer.fit_transform(text)\n",
    "\n",
    "# mendapatkan kosakata\n",
    "vocab = vectorizer.get_feature_names_out()\n"
   ]
  },
  {
   "cell_type": "code",
   "execution_count": 18,
   "id": "ef2b6d07",
   "metadata": {},
   "outputs": [
    {
     "data": {
      "text/plain": [
       "array(['aa', 'aa positif', 'aaa', 'aaji', 'aal', 'aal melewati',\n",
       "       'aaliyah', 'aaliyah massaid', 'aam', 'aam pbnu'], dtype=object)"
      ]
     },
     "execution_count": 18,
     "metadata": {},
     "output_type": "execute_result"
    }
   ],
   "source": [
    "# melihat kosakata yang ada pada dataset\n",
    "vocab[:10]"
   ]
  },
  {
   "cell_type": "markdown",
   "id": "5a582306",
   "metadata": {},
   "source": [
    "**Noted**\n",
    "\n",
    "proses diatas merupakan proses BOW dimana nantinya akan digunakan pada LDA. BOW sendiri yaitu mengubah sekumpulan teks corpus menjedasi refresentasi vektor berdasarkan frekuensi. Pada studi kasus ini juga saya menggunakan Bigram (1,2), min_df berfungsi untuk menentukan jumlah dokumen yang mengandung suatu kata untuk diikutsertakan ke dalam BOW nantinya."
   ]
  },
  {
   "cell_type": "markdown",
   "id": "b25b3811",
   "metadata": {},
   "source": [
    "## Algoritma "
   ]
  },
  {
   "cell_type": "markdown",
   "id": "3536992b",
   "metadata": {},
   "source": [
    "### LDA"
   ]
  },
  {
   "cell_type": "code",
   "execution_count": 19,
   "id": "6abb632d",
   "metadata": {},
   "outputs": [],
   "source": [
    "# algoritma LDA\n",
    "model_lda = LatentDirichletAllocation(n_components=15, max_iter=10, random_state=42)\n",
    "lda = model_lda.fit(bow)"
   ]
  },
  {
   "cell_type": "code",
   "execution_count": 20,
   "id": "6879ca9e",
   "metadata": {},
   "outputs": [
    {
     "data": {
      "text/plain": [
       "(15, 236651)"
      ]
     },
     "execution_count": 20,
     "metadata": {},
     "output_type": "execute_result"
    }
   ],
   "source": [
    "# meilihat Fitur atau topik yang dihasilkan\n",
    "lda.components_.shape"
   ]
  },
  {
   "cell_type": "code",
   "execution_count": 21,
   "id": "cc5add29",
   "metadata": {},
   "outputs": [],
   "source": [
    "# meanampilkan topik yang dihasilkan oleh model LDA\n",
    "def topic (model):\n",
    "     return [[vocab[idx] for idx in reversed(comp.argsort()[-6:]) if vocab[idx].isalnum()]\n",
    "        for comp in model.components_]"
   ]
  },
  {
   "cell_type": "markdown",
   "id": "2be21c72",
   "metadata": {},
   "source": [
    "**Noted**\n",
    "\n",
    "proses diatas merupakan proses untuk melatih model LDA dimana pada pelatihan model tersebut terdapat beberapa parameter yang digunakan yaitu:\n",
    "- n_components --> berfungsi untuk menentukan jumlah topik yang akan ditemukan oleh LDA\n",
    "- max_iter --> merupakan jumlah maksimal iterasi yang dilakukan untuk mengoptimalkan hasil topik.\n",
    "- random_state --> mengatur seed random agar tetap konsisten\n",
    "\n",
    "selain itu juga terdapat proses dimana menampilkan daftar kata-kata topik utama dari model LDA, terdapat pada fungsi \"topic\""
   ]
  },
  {
   "cell_type": "markdown",
   "id": "635f249a",
   "metadata": {},
   "source": [
    "### BERTopic"
   ]
  },
  {
   "cell_type": "code",
   "execution_count": 22,
   "id": "36d23aee",
   "metadata": {},
   "outputs": [],
   "source": [
    "# Ambil stopwords Bahasa Indonesia dari Sastrawi\n",
    "stopwords_id = StopWordRemoverFactory().get_stop_words()\n",
    "\n",
    "# Konversi list token menjadi string (dokumen)\n",
    "docs = df['clean_tokens'].apply(lambda x: ' '.join(x)).tolist()\n",
    "\n",
    "# UMAP model\n",
    "umap_model = UMAP(\n",
    "    n_neighbors=10,\n",
    "    n_components=5,\n",
    "    min_dist=0.0,\n",
    "    metric='cosine',\n",
    "    low_memory=False,\n",
    "    random_state=1337\n",
    ")"
   ]
  },
  {
   "cell_type": "code",
   "execution_count": 23,
   "id": "cb235b34",
   "metadata": {},
   "outputs": [],
   "source": [
    "# Vectorizer dengan stopwords dari Sastrawi\n",
    "vectorizer_model = CountVectorizer(\n",
    "    stop_words=stopwords_id,\n",
    "    ngram_range=(1, 2),\n",
    "    min_df=5\n",
    ")"
   ]
  },
  {
   "cell_type": "code",
   "execution_count": 24,
   "id": "9328f825",
   "metadata": {},
   "outputs": [],
   "source": [
    "# BERTopic model\n",
    "topic_model = BERTopic(\n",
    "    language=\"indonesian\",\n",
    "    umap_model=umap_model,\n",
    "    calculate_probabilities=True,\n",
    "    vectorizer_model=vectorizer_model,\n",
    "    verbose=True\n",
    ")"
   ]
  },
  {
   "cell_type": "code",
   "execution_count": 25,
   "id": "fde09dad",
   "metadata": {},
   "outputs": [
    {
     "name": "stderr",
     "output_type": "stream",
     "text": [
      "2025-06-10 06:26:23,668 - BERTopic - Embedding - Transforming documents to embeddings.\n",
      "Batches: 100%|██████████| 1563/1563 [24:56<00:00,  1.04it/s]\n",
      "2025-06-10 06:51:33,924 - BERTopic - Embedding - Completed ✓\n",
      "2025-06-10 06:51:33,926 - BERTopic - Dimensionality - Fitting the dimensionality reduction algorithm\n",
      "2025-06-10 06:52:54,107 - BERTopic - Dimensionality - Completed ✓\n",
      "2025-06-10 06:52:54,109 - BERTopic - Cluster - Start clustering the reduced embeddings\n",
      "2025-06-10 07:08:37,939 - BERTopic - Cluster - Completed ✓\n",
      "2025-06-10 07:08:37,957 - BERTopic - Representation - Fine-tuning topics using representation models.\n",
      "2025-06-10 07:09:03,588 - BERTopic - Representation - Completed ✓\n"
     ]
    }
   ],
   "source": [
    "# Fit model\n",
    "topics, probs = topic_model.fit_transform(docs)"
   ]
  },
  {
   "cell_type": "code",
   "execution_count": null,
   "id": "67e0deb6",
   "metadata": {},
   "outputs": [],
   "source": [
    "# # menampilkan topik yang dihasilkan olej model BERTopic\n",
    "# def bert_topics_dict(model, top_n_words=6):\n",
    "#     topics = model.get_topics()\n",
    "#     return {\n",
    "#         topic_id: topics[topic_id][:top_n_words]\n",
    "#         for topic_id in sorted(topics.keys())\n",
    "#         if topic_id != -1\n",
    "#     }"
   ]
  },
  {
   "cell_type": "markdown",
   "id": "58dd6dc1",
   "metadata": {},
   "source": [
    "**Noted**\n",
    "\n",
    "Proses diatas merupakan proses pelatihan model BERTopic, dimana pada saat pelatihan model bahasa disetting menjadi bahasa indonesia, alasannya karena dataset tentunya dalam bahasa indonesia. kemudian terdapat juga proses fungsi untuk menampilkan topic yang didapatkan oleh model BERTtopic\n",
    "- n_neighbors=10: merupakan jumlah tetangga terdekat saat membuat struktur lokal dimana berpengaruh terhadap struktur dari cluster.\n",
    "- n_components bentuk vektor akan berbentuk dimensi sesuai nilai yang di inputkan untuk nilai emmbeding\n",
    "- metric='cosine'--> menggunakan consine similairty untuk melakukan pengukuran terrhadap kedekatan dokumen\n",
    "- calculate_probabilities --> dibuat menjadi true, berfungsi untuk menghitung probabilitas topik untuk setiap dokumen.\n",
    "-verbose --> dibuat true, berfungsi untuk mencetak proses informasi training\n",
    "\n"
   ]
  },
  {
   "cell_type": "markdown",
   "id": "18a75851",
   "metadata": {},
   "source": [
    "## Evaluasi dan Perbandingan Hasil"
   ]
  },
  {
   "cell_type": "markdown",
   "id": "774c899a",
   "metadata": {},
   "source": [
    "### LDA"
   ]
  },
  {
   "cell_type": "code",
   "execution_count": 34,
   "id": "63171a59",
   "metadata": {},
   "outputs": [],
   "source": [
    "# Preprocess token list\n",
    "texts = df['clean_tokens'].tolist()\n",
    "\n",
    "# Buat dictionary dan corpus\n",
    "dictionary = corpora.Dictionary(texts)\n",
    "corpus = [dictionary.doc2bow(text) for text in texts]"
   ]
  },
  {
   "cell_type": "code",
   "execution_count": 35,
   "id": "3c3acbc3",
   "metadata": {},
   "outputs": [],
   "source": [
    "# LDA model dari Gensim\n",
    "lda_model = LdaModel(corpus=corpus,\n",
    "                     id2word=dictionary,\n",
    "                     num_topics=15,\n",
    "                     random_state=42,\n",
    "                     passes=10,\n",
    "                     alpha='auto',\n",
    "                     per_word_topics=True)"
   ]
  },
  {
   "cell_type": "code",
   "execution_count": 36,
   "id": "259c277e",
   "metadata": {},
   "outputs": [
    {
     "data": {
      "text/html": [
       "\n",
       "<link rel=\"stylesheet\" type=\"text/css\" href=\"https://cdn.jsdelivr.net/gh/bmabey/pyLDAvis@3.4.0/pyLDAvis/js/ldavis.v1.0.0.css\">\n",
       "\n",
       "\n",
       "<div id=\"ldavis_el1167214323197427368659094486\" style=\"background-color:white;\"></div>\n",
       "<script type=\"text/javascript\">\n",
       "\n",
       "var ldavis_el1167214323197427368659094486_data = {\"mdsDat\": {\"x\": [-0.03898565155463645, -0.11330991288788124, 0.09966989404026672, -0.05814690874851299, 0.23799471140590764, 0.06109232957478063, -0.12482025752333023, -0.164201314856309, -0.1452770946474744, 0.09851659127921349, 0.04004909055348945, 0.10105989649274634, 0.2782026161783085, -0.08335859914211445, -0.1884853901644525], \"y\": [0.07167249724213635, 0.059439041126252354, 0.0483435132593603, -0.12751580092981815, -0.13755334154433047, 0.2379157195375757, 0.05870153167240677, -0.14232865002605166, 0.07256723872593393, 0.19159226074136398, -0.10102739308763037, 0.06240070775311956, -0.13987267237259507, -0.012506576252106308, -0.14182807584561843], \"topics\": [1, 2, 3, 4, 5, 6, 7, 8, 9, 10, 11, 12, 13, 14, 15], \"cluster\": [1, 1, 1, 1, 1, 1, 1, 1, 1, 1, 1, 1, 1, 1, 1], \"Freq\": [11.566776555653869, 11.067966880946033, 10.621357432308635, 7.106228280493642, 7.0417731710161195, 6.968498857788289, 6.743490897576601, 6.649475561308889, 6.106963240024791, 5.202369628808816, 4.753486953578418, 4.452896812233004, 4.311425786722312, 4.0708124144277, 3.336477527112879]}, \"tinfo\": {\"Term\": [\"rp\", \"jalan\", \"covid\", \"indonesia\", \"virus\", \"korban\", \"jakarta\", \"negara\", \"pemain\", \"anak\", \"kota\", \"corona\", \"presiden\", \"pasien\", \"orang\", \"as\", \"kpk\", \"jokowi\", \"rumah\", \"warga\", \"persen\", \"laga\", \"undang\", \"kesehatan\", \"mobil\", \"pelaku\", \"partai\", \"hukum\", \"harga\", \"pasal\", \"bank\", \"investasi\", \"saham\", \"asuransi\", \"investor\", \"umkm\", \"triliun\", \"nasabah\", \"subsidi\", \"pembiayaan\", \"perbankan\", \"ojk\", \"bi\", \"bni\", \"penyaluran\", \"lrt\", \"iuran\", \"pupuk\", \"perseroan\", \"kemiskinan\", \"komoditas\", \"berinvestasi\", \"bri\", \"koperasi\", \"pembangkit\", \"laba\", \"bps\", \"migas\", \"esdm\", \"kementan\", \"kredit\", \"bumn\", \"pendapatan\", \"ekspor\", \"keuangan\", \"properti\", \"industri\", \"mulyani\", \"dana\", \"perusahaan\", \"perekonomian\", \"pajak\", \"upah\", \"ekonomi\", \"usaha\", \"pertanian\", \"persen\", \"infrastruktur\", \"pembayaran\", \"miliar\", \"kenaikan\", \"bisnis\", \"sektor\", \"pertumbuhan\", \"rp\", \"kerja\", \"program\", \"juta\", \"pt\", \"pemerintah\", \"indonesia\", \"mencapai\", \"nilai\", \"pembangunan\", \"direktur\", \"kementerian\", \"pasar\", \"harga\", \"data\", \"uang\", \"masyarakat\", \"negara\", \"menteri\", \"daerah\", \"memiliki\", \"polres\", \"gempa\", \"berinisial\", \"polsek\", \"ular\", \"akp\", \"bpbd\", \"bmkg\", \"kapolres\", \"dusun\", \"longsor\", \"tsunami\", \"kapolsek\", \"reskrim\", \"mayat\", \"mapolres\", \"tawon\", \"sdn\", \"jasad\", \"terendam\", \"geofisika\", \"meteorologi\", \"iptu\", \"mengungsi\", \"klimatologi\", \"polresta\", \"gang\", \"petir\", \"otopsi\", \"curah\", \"korban\", \"sar\", \"kecamatan\", \"luka\", \"pelaku\", \"polisi\", \"desa\", \"kejadian\", \"kasat\", \"sabu\", \"tkp\", \"rw\", \"ditangkap\", \"tewas\", \"jenazah\", \"hujan\", \"warga\", \"ditemukan\", \"diamankan\", \"kabupaten\", \"bencana\", \"petugas\", \"tersangka\", \"sungai\", \"lokasi\", \"rumah\", \"rumahnya\", \"peristiwa\", \"banjir\", \"diduga\", \"dibawa\", \"barat\", \"barang\", \"langsung\", \"selatan\", \"kepala\", \"timur\", \"orang\", \"jawa\", \"akibat\", \"wilayah\", \"tim\", \"wib\", \"cinta\", \"gue\", \"banget\", \"pernikahan\", \"unggahan\", \"menikah\", \"rambut\", \"warganet\", \"ashanty\", \"raffi\", \"anang\", \"sutradara\", \"glenn\", \"sedih\", \"baim\", \"depresi\", \"nikita\", \"ashraf\", \"luna\", \"perasaan\", \"kehamilan\", \"syuting\", \"netizen\", \"mama\", \"pori\", \"sinetron\", \"gisel\", \"kivlan\", \"psikolog\", \"kang\", \"film\", \"ayu\", \"artis\", \"instagram\", \"cerita\", \"kisah\", \"mengunggah\", \"kayak\", \"akun\", \"anak\", \"video\", \"youtube\", \"foto\", \"perempuan\", \"teman\", \"ayah\", \"bahagia\", \"tulis\", \"sih\", \"kasih\", \"sang\", \"aja\", \"suka\", \"wanita\", \"keluarga\", \"media\", \"ya\", \"suami\", \"mengaku\", \"istri\", \"orang\", \"pria\", \"sosial\", \"anaknya\", \"buku\", \"nya\", \"salah\", \"hati\", \"rumah\", \"com\", \"kompas\", \"memiliki\", \"kali\", \"jakarta\", \"nama\", \"acara\", \"jokowi\", \"prabowo\", \"pemilu\", \"kpu\", \"ruf\", \"sandiaga\", \"pilpres\", \"tps\", \"golkar\", \"urut\", \"gerindra\", \"pilkada\", \"pemilih\", \"debat\", \"subianto\", \"uno\", \"kader\", \"dpp\", \"pemungutan\", \"caleg\", \"capres\", \"kalla\", \"megawati\", \"nasdem\", \"habibie\", \"paslon\", \"cawapres\", \"parpol\", \"pemenangan\", \"kpps\", \"pdi\", \"dpd\", \"amin\", \"pemilihan\", \"bawaslu\", \"partai\", \"pks\", \"politik\", \"widodo\", \"ma\", \"presiden\", \"joko\", \"suara\", \"kampanye\", \"calon\", \"ketua\", \"wakil\", \"bangsa\", \"menteri\", \"indonesia\", \"rakyat\", \"pasangan\", \"anggota\", \"masyarakat\", \"jakarta\", \"nasional\", \"daerah\", \"jawa\", \"kota\", \"persen\", \"liga\", \"gol\", \"pelatih\", \"klub\", \"united\", \"persib\", \"timnas\", \"madrid\", \"liverpool\", \"fc\", \"barcelona\", \"manchester\", \"milan\", \"persija\", \"chelsea\", \"persebaya\", \"champions\", \"gawang\", \"juventus\", \"arema\", \"ronaldo\", \"messi\", \"imbang\", \"arsenal\", \"bek\", \"penalti\", \"inter\", \"skuad\", \"tottenham\", \"psm\", \"stadion\", \"sepak\", \"laga\", \"pemain\", \"pertandingan\", \"bola\", \"pssi\", \"piala\", \"vs\", \"klasemen\", \"man\", \"kompetisi\", \"real\", \"kemenangan\", \"musim\", \"tim\", \"bermain\", \"poin\", \"menit\", \"babak\", \"skor\", \"melawan\", \"inggris\", \"hasil\", \"daging\", \"gula\", \"telur\", \"susu\", \"nasi\", \"lemak\", \"diet\", \"protein\", \"zat\", \"asam\", \"sayur\", \"kemendikbud\", \"kalori\", \"nadiem\", \"goreng\", \"asupan\", \"dikonsumsi\", \"sayuran\", \"kadar\", \"hidangan\", \"nutrisi\", \"bumbu\", \"roti\", \"durian\", \"sarapan\", \"pisang\", \"matematika\", \"jurnal\", \"hormon\", \"karbohidrat\", \"gizi\", \"kopi\", \"makanan\", \"ayam\", \"kulit\", \"siswa\", \"penelitian\", \"hewan\", \"minuman\", \"tubuh\", \"bakteri\", \"makan\", \"mengonsumsi\", \"otot\", \"peneliti\", \"sekolah\", \"sel\", \"plastik\", \"mengandung\", \"jantung\", \"darah\", \"tanaman\", \"minum\", \"bahan\", \"tidur\", \"sampah\", \"belajar\", \"studi\", \"air\", \"guru\", \"manusia\", \"menyebabkan\", \"jenis\", \"memiliki\", \"ikan\", \"penyakit\", \"obat\", \"berat\", \"orang\", \"hidup\", \"kondisi\", \"membantu\", \"salah\", \"anak\", \"kesehatan\", \"covid\", \"virus\", \"corona\", \"pasien\", \"masker\", \"wabah\", \"sembuh\", \"psbb\", \"infeksi\", \"terinfeksi\", \"penularan\", \"isolasi\", \"karantina\", \"pdp\", \"gugus\", \"odp\", \"apd\", \"yuri\", \"distancing\", \"vaksin\", \"batuk\", \"terjangkit\", \"sars\", \"swab\", \"lockdown\", \"terkonfirmasi\", \"disinfektan\", \"dbd\", \"menular\", \"cov\", \"gejala\", \"wuhan\", \"pandemi\", \"paru\", \"penyebaran\", \"rapid\", \"medis\", \"kesehatan\", \"positif\", \"sakit\", \"protokol\", \"penanganan\", \"pembatasan\", \"dirawat\", \"dinyatakan\", \"meninggal\", \"orang\", \"rumah\", \"dokter\", \"penyakit\", \"pemerintah\", \"masyarakat\", \"warga\", \"kota\", \"dunia\", \"kondisi\", \"indonesia\", \"undang\", \"uu\", \"hakim\", \"putusan\", \"terdakwa\", \"ruu\", \"persidangan\", \"denda\", \"dhani\", \"ratna\", \"gugatan\", \"pemohon\", \"dakwaan\", \"pn\", \"nunung\", \"paripurna\", \"vonis\", \"penuntut\", \"nuril\", \"fahri\", \"draf\", \"komnas\", \"wagub\", \"laode\", \"perppu\", \"kriss\", \"juncto\", \"kemendagri\", \"jpu\", \"mulan\", \"ayat\", \"pengadilan\", \"pasal\", \"permohonan\", \"revisi\", \"hukum\", \"pelanggaran\", \"pidana\", \"melanggar\", \"kuasa\", \"jaksa\", \"sidang\", \"surat\", \"ham\", \"penjara\", \"hukuman\", \"dpr\", \"majelis\", \"nomor\", \"dprd\", \"peraturan\", \"komisi\", \"dki\", \"jakarta\", \"hak\", \"terkait\", \"anggota\", \"negeri\", \"proses\", \"pemerintah\", \"ketua\", \"aturan\", \"tol\", \"bus\", \"ruas\", \"risma\", \"marga\", \"monas\", \"trotoar\", \"transjakarta\", \"cikampek\", \"kemacetan\", \"spanduk\", \"layang\", \"pkl\", \"senen\", \"cikarang\", \"halte\", \"jpo\", \"hendi\", \"lajur\", \"pejalan\", \"demonstran\", \"bundaran\", \"cagar\", \"dishub\", \"kericuhan\", \"ciliwung\", \"ditlantas\", \"leste\", \"gardu\", \"nadia\", \"kereta\", \"satpol\", \"lintas\", \"gerbang\", \"bekasi\", \"stasiun\", \"jalan\", \"angkutan\", \"jembatan\", \"truk\", \"pemkot\", \"jalur\", \"papua\", \"tangerang\", \"pengendara\", \"mudik\", \"kota\", \"kendaraan\", \"raya\", \"jakarta\", \"surabaya\", \"anies\", \"arus\", \"dki\", \"kilometer\", \"pemprov\", \"arah\", \"pedagang\", \"titik\", \"dinas\", \"wilayah\", \"kawasan\", \"barat\", \"timur\", \"jawa\", \"gedung\", \"lokasi\", \"pusat\", \"air\", \"warga\", \"masyarakat\", \"wib\", \"fitur\", \"galaxy\", \"merek\", \"gb\", \"samsung\", \"baterai\", \"sim\", \"cc\", \"dibanderol\", \"iphone\", \"gerai\", \"sensor\", \"oppo\", \"inci\", \"va\", \"smartphone\", \"mitsubishi\", \"xiaomi\", \"note\", \"android\", \"spesifikasi\", \"rem\", \"daihatsu\", \"megapiksel\", \"diler\", \"suv\", \"ram\", \"store\", \"skuter\", \"bodi\", \"google\", \"varian\", \"huawei\", \"promo\", \"toyota\", \"kamera\", \"mesin\", \"seharga\", \"ponsel\", \"konsumen\", \"desain\", \"model\", \"pengguna\", \"aplikasi\", \"motor\", \"mobil\", \"diskon\", \"sepatu\", \"harga\", \"jutaan\", \"rp\", \"dijual\", \"pelanggan\", \"honda\", \"kendaraan\", \"produk\", \"juta\", \"listrik\", \"penjualan\", \"unit\", \"warna\", \"toko\", \"perangkat\", \"memiliki\", \"indonesia\", \"com\", \"pemilik\", \"salah\", \"iran\", \"trump\", \"saudi\", \"uni\", \"donald\", \"paspor\", \"irak\", \"bpk\", \"israel\", \"radiasi\", \"nuklir\", \"paus\", \"rudal\", \"pakistan\", \"afghanistan\", \"amazon\", \"fairuz\", \"antam\", \"venezuela\", \"nasa\", \"yuan\", \"bir\", \"pizza\", \"drone\", \"utami\", \"aki\", \"erdogan\", \"kamp\", \"penggugat\", \"rendy\", \"arab\", \"as\", \"perang\", \"turki\", \"washington\", \"galih\", \"serikat\", \"rusia\", \"amerika\", \"benua\", \"china\", \"gereja\", \"kerajaan\", \"kong\", \"militer\", \"hong\", \"india\", \"dollar\", \"negara\", \"afrika\", \"australia\", \"york\", \"eropa\", \"jepang\", \"isis\", \"serangan\", \"pbb\", \"pasukan\", \"inggris\", \"singapura\", \"korea\", \"dunia\", \"pernyataan\", \"negeri\", \"orang\", \"presiden\", \"internasional\", \"kelompok\", \"pemerintah\", \"laporan\", \"juta\", \"menteri\", \"memiliki\", \"wisatawan\", \"festival\", \"museum\", \"wisata\", \"candi\", \"psis\", \"keindahan\", \"pendakian\", \"kemenpora\", \"pendaki\", \"erupsi\", \"golf\", \"mane\", \"basket\", \"koni\", \"mendaki\", \"brunei\", \"pesepak\", \"berwisata\", \"tarian\", \"doel\", \"taktik\", \"merapi\", \"kawah\", \"silver\", \"djarum\", \"bobotoh\", \"atalanta\", \"mandalika\", \"atraksi\", \"destinasi\", \"pengunjung\", \"kafe\", \"mancanegara\", \"gunung\", \"pemandangan\", \"pariwisata\", \"patung\", \"danau\", \"kuliner\", \"seni\", \"budaya\", \"event\", \"pertunjukan\", \"taman\", \"pantai\", \"hotel\", \"bali\", \"olahraga\", \"menikmati\", \"tradisi\", \"restoran\", \"indonesia\", \"alam\", \"acara\", \"pulau\", \"khas\", \"asia\", \"kegiatan\", \"yogyakarta\", \"menarik\", \"salah\", \"digelar\", \"kota\", \"kawasan\", \"memiliki\", \"malam\", \"masyarakat\", \"jakarta\", \"com\", \"pebalap\", \"motogp\", \"gim\", \"album\", \"balapan\", \"open\", \"tangkis\", \"rossi\", \"lee\", \"marquez\", \"sirkuit\", \"balap\", \"ahsan\", \"mcgregor\", \"rian\", \"tyson\", \"praveen\", \"member\", \"pebulu\", \"interval\", \"chen\", \"petarung\", \"jonatan\", \"ducati\", \"ufc\", \"singel\", \"apriyani\", \"juri\", \"awards\", \"petinju\", \"konser\", \"ganda\", \"medali\", \"olimpiade\", \"bts\", \"lagu\", \"anthony\", \"kejuaraan\", \"kevin\", \"turnamen\", \"penggemar\", \"the\", \"juara\", \"hendra\", \"marcus\", \"tunggal\", \"to\", \"gelar\", \"putra\", \"musik\", \"dunia\", \"berhasil\", \"meraih\", \"of\", \"indonesia\", \"putri\", \"korea\", \"tampil\", \"seri\", \"ajang\", \"kali\", \"babak\", \"tim\", \"posisi\", \"pesawat\", \"penerbangan\", \"maskapai\", \"perguruan\", \"cpns\", \"natuna\", \"batam\", \"beasiswa\", \"pelamar\", \"lion\", \"keberangkatan\", \"abk\", \"suriah\", \"rektor\", \"skd\", \"bkn\", \"airlines\", \"prodi\", \"boeing\", \"pilot\", \"tampung\", \"utbk\", \"komodo\", \"pemulangan\", \"kertajati\", \"spesimen\", \"ltmpt\", \"pendaftar\", \"tki\", \"ptn\", \"kapal\", \"bandara\", \"pendaftaran\", \"kampus\", \"disabilitas\", \"bangka\", \"seleksi\", \"ugm\", \"ujian\", \"formasi\", \"peserta\", \"lulusan\", \"mahasiswa\", \"penumpang\", \"soekarno\", \"ka\", \"pelabuhan\", \"smk\", \"universitas\", \"kuliah\", \"pendidikan\", \"tiket\", \"garuda\", \"wni\", \"perairan\", \"negeri\", \"informasi\", \"indonesia\", \"kementerian\", \"tes\", \"calon\", \"program\", \"internasional\", \"perjalanan\", \"masuk\", \"mengikuti\", \"air\", \"kelas\", \"proses\", \"sesuai\", \"suap\", \"lapas\", \"susi\", \"narapidana\", \"sumut\", \"harun\", \"mabes\", \"imsak\", \"moeldoko\", \"sahur\", \"hilal\", \"isbat\", \"karhutla\", \"yasonna\", \"fachrul\", \"romy\", \"ott\", \"napi\", \"gambut\", \"idham\", \"gratifikasi\", \"capim\", \"firli\", \"densus\", \"kejagung\", \"razi\", \"memadamkan\", \"hisab\", \"diansyah\", \"saut\", \"kpk\", \"polri\", \"pemberantasan\", \"dedi\", \"brigjen\", \"kapolri\", \"korupsi\", \"tni\", \"krl\", \"ramadhan\", \"febri\", \"puasa\", \"tito\", \"hijriah\", \"novel\", \"wiranto\", \"ibadah\", \"kai\", \"haris\", \"riau\", \"agama\", \"satgas\", \"tersangka\", \"pol\", \"uang\", \"diduga\", \"kepala\", \"wahyu\", \"pt\", \"penyidik\", \"jenderal\", \"terkait\", \"orang\", \"tim\", \"komisi\", \"mantan\", \"kementerian\", \"anggota\", \"masyarakat\", \"kamis\", \"menteri\", \"jumat\"], \"Freq\": [29576.0, 21492.0, 16185.0, 45339.0, 15166.0, 20008.0, 40256.0, 21593.0, 14531.0, 26169.0, 26502.0, 12789.0, 17500.0, 12405.0, 46987.0, 10266.0, 8878.0, 10798.0, 31339.0, 22722.0, 19809.0, 10047.0, 9236.0, 12370.0, 11209.0, 12285.0, 9681.0, 9792.0, 9873.0, 8551.0, 4874.494123052936, 2870.1039242144557, 2545.3046157689873, 1334.7273273037479, 1207.4697933846417, 1071.7429211870808, 4027.0576803660215, 1010.5596489945888, 819.038008644997, 814.3870826110208, 711.7364052070178, 645.5031637167867, 614.8213444225138, 604.9478491141119, 582.5709402494491, 559.4881565976592, 706.3826761786494, 494.2411344503753, 493.2370639345539, 482.82933750287884, 474.99012244354276, 469.49567053290616, 464.7036448873641, 434.7809351278967, 429.9865331898617, 429.02894527353743, 423.55900974642617, 411.79129055016165, 397.28112696274155, 374.46327094474407, 1703.585416903517, 1784.286860133243, 1722.4986186470462, 1524.5126512995541, 4023.678012857445, 1046.5525979274166, 4372.571536181418, 767.4000715634595, 5068.269300102837, 7726.001066300491, 1489.708196363346, 2497.408064280143, 717.5026238371584, 5211.744508661465, 4369.16775799779, 1718.575533616169, 15367.445995197493, 1728.2281496394291, 1883.9157628614564, 5653.725639022319, 2121.9213937086897, 2933.1352564662575, 3138.32405615179, 2171.9869786184586, 15345.317959502707, 6893.011554637342, 5418.516266897455, 7096.009528561039, 5492.482717618494, 9463.471486820486, 13699.001191680414, 4378.382672535511, 3085.1435574921766, 3618.3949527579507, 3642.5999840083236, 4371.050245319072, 3693.467017030121, 4029.5981109160957, 3926.004740892615, 3999.776915212762, 5791.561731620006, 4217.089211447444, 3389.7596807524924, 3538.380663767175, 3474.2840569782693, 3944.735208685343, 2850.0458845803837, 2160.623854677215, 1759.2466721801468, 1514.5617294700498, 1339.062587586889, 1305.8718554876102, 1293.6634577628258, 1364.9967395636193, 1102.4506914756885, 1090.146571624958, 1047.0930220991313, 958.2586743420804, 929.2489915331043, 730.3629266678229, 665.175881603968, 549.6784850559882, 547.0957623414452, 520.998394711958, 516.3611402026337, 513.4261423177497, 504.7361150403203, 502.25593590102295, 489.387687739098, 464.981928618071, 447.4078509707313, 515.2210708265792, 390.95714139703176, 366.4909043047741, 361.7842983942359, 19607.19940842113, 824.6077374393764, 8683.39571953134, 3489.7596252238013, 11262.906252420365, 11457.808479976726, 8995.506196395418, 5724.188011952187, 829.3692754274056, 1334.9043873787937, 889.7669975755957, 1578.222267282073, 3133.0816807608558, 2278.7942056308816, 2414.599611333555, 3117.0808899790413, 14604.21051015716, 4645.032514376165, 1645.6511289722962, 7891.201623560447, 2342.52961300839, 4849.98611974622, 5011.177299452649, 2505.438688759605, 5460.287323859415, 11961.778485255854, 2011.7383476717632, 2387.061143215826, 3089.641582441377, 3445.706816563969, 2392.7443532844436, 4459.036548494143, 3273.8213790415475, 4518.961926872529, 4065.3126993577557, 4280.799066118105, 3630.405708818168, 5846.444799248958, 3783.4002794131825, 3010.4475508540404, 3135.4433441509373, 3149.2725847800643, 3042.311594252926, 1835.6596967900828, 1831.4777968807673, 1687.8143989194477, 1512.173751190855, 1494.1919434841714, 1394.063392369471, 1260.5045494476371, 1020.361012133267, 888.1977857014804, 858.1934415241882, 832.4039943283933, 742.5466866887822, 684.7874938985817, 675.0165818357239, 667.4352383964806, 637.8742258502793, 613.867791416166, 585.9937275747291, 565.5774278151052, 941.5773090336099, 520.9026917878489, 503.12131468412883, 478.5945377101385, 476.20884939137744, 474.82275947539534, 440.9364161980551, 436.0921000646854, 429.7475614003426, 427.2799924435943, 421.2651850061932, 7201.366186741852, 707.024007957718, 2852.300129371573, 3288.258298577958, 2012.7675433669242, 1328.1090573763574, 1231.272868970246, 1067.6717884591947, 5482.2276672, 20068.592792179123, 7031.8740644246245, 1744.4088482827065, 4384.874905870896, 4836.53329490583, 4368.962227474363, 1558.1528295488167, 1162.9542405342054, 2890.546716411264, 1681.5777393927065, 2483.4550246027325, 3652.1985482301916, 1513.1263021552327, 1716.8206348843175, 2420.672027572817, 5722.815494124975, 5199.842129615536, 5281.842195715594, 2076.666692973939, 5572.812081291467, 2361.5001875456364, 12568.643550213823, 3104.9163470864155, 4090.9795637406655, 2346.569970362781, 1917.8747760701665, 2414.767467611263, 4950.897740939375, 2373.531771600553, 4654.347731131015, 3219.9669193370096, 2757.504650216668, 3292.60795134456, 2877.096471136857, 2808.9905141531376, 2442.4965039983513, 2385.299379078013, 10797.807199966002, 6356.248144634373, 5591.8729282209015, 4487.685440660955, 3390.6565073994275, 2513.4866314467777, 2225.676713747044, 1831.843564849864, 1768.7972969235132, 1747.2971359912592, 2180.0240520865714, 1684.9620232899783, 1652.9178787493336, 1645.9748217181939, 1303.2408747992658, 1255.2403896398846, 1133.6293566069728, 1080.0972289373474, 1076.8711792982863, 1055.1559483900949, 1025.9138380458846, 900.3514995345257, 840.0612607700219, 832.3998557762067, 818.2949685463514, 799.2218936571181, 731.9452277901681, 672.4315198262013, 632.0405237624703, 629.9707957125801, 2335.0872258502795, 1266.1582531733322, 1999.4562853551915, 4000.872983391709, 1824.884413178141, 9022.164410867983, 1626.897687561203, 5243.074435271881, 4085.710255224396, 4128.576122746331, 13744.550731203763, 4469.6896384624515, 6282.1125269156155, 2237.7256174652057, 5482.964341015151, 7346.996047588224, 5119.714285126718, 2020.540406949887, 3358.1367875941105, 4949.099130785125, 2162.7755824468386, 2364.767167390537, 2841.1025833617828, 3421.403252992514, 3819.496354148178, 2539.206436820834, 2777.127668916815, 2430.457941438232, 2478.9902618891033, 2339.9741569392786, 8071.937876228558, 7226.331532836652, 6533.565841677511, 5169.417517424774, 5013.432862383712, 3561.6597854146917, 3039.2060079191533, 2846.2176423250767, 2724.3871100879055, 2558.6334077143338, 2337.6300237405194, 2078.0002590625418, 1957.6107516356017, 1764.7683233239713, 1681.1592452306745, 1608.812742828542, 1562.8518140035897, 1507.9963324322378, 1484.4666978398782, 1473.888644218216, 1405.5977586546712, 1327.7155192195448, 1249.5453570995144, 1196.0923695085016, 1172.7936376183495, 1172.5822826082301, 1166.232034881814, 1155.4357104600517, 980.4176722839782, 896.4396579660051, 4874.922291544907, 2698.8686918911426, 9775.922474582145, 13926.935437884122, 7051.023313758537, 4731.025590558401, 1562.4080743362667, 2951.398339614814, 3267.0333006637657, 1703.508114537785, 2289.166143496896, 2856.0979068515594, 2126.051026708756, 3451.217442196903, 5777.751857175788, 8984.382365872383, 3761.3530799641862, 3733.920540467095, 3934.560027996785, 2911.877563786025, 2527.552718433223, 2561.258302858376, 2499.922302659546, 2408.908248298515, 1999.593222852197, 1605.42624189725, 1355.040376084811, 1202.3575375770663, 1096.4842383343755, 1048.2859609480593, 778.2414127152408, 719.352240151018, 712.2535159215931, 679.6076948271174, 660.6593736744383, 651.3253718735876, 633.7017501789306, 631.5742279590642, 626.735782218666, 616.0170228895787, 606.5328759131918, 605.2585973001636, 587.9246510418436, 575.3590013012118, 561.5124735433249, 536.372863701183, 489.09326528425254, 483.09171819568843, 475.57307631951954, 474.7375707938842, 458.51969203455633, 449.892943845447, 442.4012582659093, 421.9175106472168, 636.069085669863, 2177.73006821616, 6640.754906752329, 1792.3164811600132, 2368.983596114973, 3712.9658847739847, 2520.0215418484936, 2106.985991271315, 2016.1524898397151, 5324.425588338971, 764.5765955372354, 4318.230557716135, 1323.462541115673, 910.3220984205153, 1706.2467020558702, 5688.731696783261, 1523.7076001451833, 1890.5223202153409, 1289.9970670327, 1788.6250048907816, 2187.8452439395915, 1069.2078182219734, 1534.2447187293544, 3245.3802873706168, 2285.2693503926153, 2234.207699756374, 2553.8526718101216, 1656.5948797004316, 5579.980777957711, 1990.0629847986688, 2395.2055082503525, 2242.518060634894, 2653.7423715503473, 5337.327737860217, 1947.3427017655697, 2516.843771584492, 1835.5904157985317, 2208.497119237402, 4274.704937862439, 2362.1738489722316, 2586.4030285069425, 2113.895881754391, 2456.1895901056164, 2467.2587114559433, 2128.523094590101, 16184.401760323764, 15165.808318433745, 12788.398628142397, 12404.194729569974, 4203.811986705151, 3051.263275588064, 2801.254960876033, 2638.7052238049273, 2129.043976107339, 2045.4477330906866, 1704.6499555725354, 1614.698350140991, 1502.5872485710918, 1310.868478129358, 1174.4122066665855, 1166.168387526807, 1047.2925912208507, 1028.7776192278004, 942.3634911532617, 915.6868097728212, 913.0930201379136, 882.3564676671663, 856.1515625677317, 824.4762557180337, 773.3695239105638, 667.4932895386777, 666.0294382247012, 603.0235503252495, 564.231997355195, 556.4904330958688, 3044.5206795261065, 1152.8672834403449, 4391.358770765046, 1339.8027384301945, 4049.9341207669327, 1161.9776138929808, 3027.556737102655, 9424.471687626503, 6765.923611561302, 7702.698165568671, 1431.4934486913346, 3276.9197975629963, 1835.6565723582817, 1827.113914267836, 2746.42592029363, 4276.236707954072, 13687.812231112475, 9531.695805958376, 2625.1135255330582, 3123.4939069531506, 6024.179655588701, 5320.819542186025, 3829.113356357344, 3578.1321593445873, 2884.3589508586147, 2493.272971015237, 2444.5185653486146, 9235.435723139593, 4061.851702201546, 3357.51984178134, 2243.2238310507373, 2168.6295367376947, 1896.3661399981002, 1414.539448067687, 1367.3747655761083, 1133.9587126778642, 1119.6902127356555, 1044.3047270354753, 841.6550438402862, 804.3301753313644, 760.1700609576369, 688.4231360357328, 629.8873680307105, 619.200053663853, 609.9066701852411, 566.9799560797293, 554.1461027621039, 526.1143511803286, 504.69190977750975, 490.977736926508, 471.0114661791027, 467.3774034568049, 452.76541863251066, 443.68377697421613, 436.12837568779895, 432.50834023636725, 431.4096817339051, 3706.208608125459, 3136.9258472983784, 8065.562132566843, 1659.0676317307502, 1329.8884335170278, 8560.684678142265, 2096.0477059883297, 3095.1303109741057, 2052.4076335235736, 1412.3581241506859, 2036.326450340995, 2800.235895168691, 6076.161667880172, 1915.7316370614544, 2307.2300347799137, 2036.2819362462753, 3754.010082067849, 1400.699029778891, 5832.504840957461, 2544.596247119472, 2425.1300127443833, 2912.9021351102715, 4179.398499474377, 8294.321398089029, 2209.9546097255575, 4223.4186743287755, 3243.645324047157, 2528.38725250924, 2368.950826244855, 2447.7541014721037, 2204.413537863076, 2044.5678218235876, 4767.0402271293, 2762.7748031938872, 1682.8382762092244, 880.1218973406652, 845.1478131192101, 825.5094922979675, 740.068640918736, 664.3930930110557, 653.7649768951746, 632.7695224104325, 558.8013006723417, 488.06810614141756, 430.22052088888535, 428.9125928833544, 414.49098982278986, 399.12753293970326, 396.0212727777678, 368.969697296193, 362.6897639968838, 362.37987239349576, 338.2615110565601, 338.21456983807514, 313.98356793709576, 313.615382317271, 292.48996736648866, 286.71341284428354, 280.87810529763834, 273.3109605540201, 270.4280842870913, 261.0462361016125, 2588.508436619137, 657.8251780903893, 3365.7928344459865, 873.1796766934616, 3531.2450233333775, 2950.225103648731, 17357.556809772515, 1092.204403292027, 1417.401047144586, 1488.0924413466637, 1345.3033748221073, 3046.043697578235, 2877.330471030149, 2594.7462941847975, 1473.2175219819032, 1720.4830525978855, 14146.281002344274, 5636.334798880592, 2585.714730307009, 17072.6633942624, 2964.7713732830293, 2201.0577000805033, 1438.3255695925302, 4793.462441437094, 1976.4776914179236, 1780.996342130653, 2148.0318715019575, 1343.988898302394, 2212.508419739613, 2788.196747260588, 4026.75432242227, 3281.993150882782, 3885.1810762972214, 3494.545681029665, 3859.8712525854935, 2191.858200474524, 2740.1742283216545, 2516.6077093306667, 2741.3000831524882, 2853.055434961373, 2404.132877776659, 2246.9724542676477, 2227.369375751823, 1501.4245942168097, 1473.722518622285, 1013.757515294935, 981.9914648279293, 910.0505072007468, 876.6924421512385, 690.5569187470791, 653.5153648881991, 621.0816651304046, 631.3377404727979, 611.9784135517098, 598.6453435589129, 573.5226277186039, 566.9574444496218, 536.4579256256844, 522.3053351579612, 513.2855006388681, 504.3178539176887, 502.41344244697694, 487.5409106192268, 476.1993186531013, 466.5647004047422, 466.38723061043913, 440.1369768026234, 398.7449886750234, 390.5597679050788, 388.9462212940665, 387.97939150544914, 379.7266550528892, 1248.0054440300294, 1044.5322582798965, 746.3259674362248, 1066.2800241600364, 953.0781735279846, 2247.0188897690014, 2873.9496027117057, 868.2028273172402, 2786.9151623201524, 2012.8571934192703, 1751.5438697970626, 2247.8115603778683, 3155.943475207771, 2745.194119960254, 5268.532645288549, 7120.046438909634, 972.273168841657, 1339.606447078165, 5842.961286545755, 1129.6579078051088, 11526.305697884434, 1421.3913476376454, 1506.3196115455746, 1596.418690435578, 3300.473123929945, 2601.933870342572, 3947.2301950561837, 2123.860483174189, 1504.1085381095013, 2087.069806122062, 1768.8506156953213, 1375.1105202572571, 1245.2935554223711, 2963.168318808935, 2581.9310850779793, 1972.5202486208168, 1433.0585789501918, 1647.1994510961913, 1660.3643760892205, 1587.380223083496, 1114.0262921212689, 678.4493551723169, 441.6118524128105, 422.00234295005555, 414.7001833675597, 412.8940198927032, 394.6676796129681, 354.6513811148105, 353.4645247283062, 330.8610664792857, 326.4443381993228, 308.4089277153736, 306.3285884821223, 294.4717909992044, 293.2860302677158, 287.11099005477934, 268.62983852812323, 250.76296836789928, 249.48188565004148, 244.35834079199114, 235.31337517685324, 232.93499396073403, 231.237014509388, 227.6208051299453, 227.4725344240112, 225.171515979438, 218.94207411311143, 215.87721739245785, 1520.4799089199414, 9780.481304335775, 1212.8474195133292, 794.4429218119091, 434.3581398368801, 643.973664995809, 2915.8779357562694, 1033.760987527046, 3639.49309654495, 492.2956148743026, 6439.7525607744055, 834.6739925117386, 893.6146111718309, 972.9370808064241, 1110.0285804290638, 961.2429166375814, 1558.4364474442739, 3430.5381560861615, 11909.2044725333, 683.9088135670402, 1334.7398022089553, 774.2458078004964, 1525.0617476470586, 1961.2813577185027, 615.144266212795, 1453.6048424589235, 691.2956244087953, 936.0170319269797, 2141.9074231877707, 1303.6023346795278, 1418.050360826485, 4038.319525318849, 1480.9437216859628, 1969.6590217918817, 3210.4566960310317, 2106.0713105791133, 1301.4323661022715, 1267.1179753989502, 1843.5849526357556, 1263.5197490529179, 1421.6930802935913, 1210.7639600451419, 1173.9296580799726, 2326.732631771664, 1843.574525508705, 1315.7285159228668, 3686.0216499729377, 607.8349887417, 588.2064117697433, 525.0593244598025, 505.89225720926487, 461.82468328470753, 441.8022031691648, 428.13978397276907, 399.81543922334004, 381.53118446737165, 376.52236260880966, 361.4886678149001, 318.96417498268005, 305.05339644045586, 299.8411970383464, 296.35332236941207, 290.3123511101961, 289.39468664381985, 281.28542266335126, 272.6303303945885, 270.75430364072463, 265.2912235913692, 259.31901915488646, 243.23907352230617, 231.19419190347185, 230.25142598492985, 226.57601557781487, 1050.7138545533594, 2492.579465786555, 565.1651529233397, 458.0509421223086, 2797.6603287937805, 713.5081753767995, 2050.294288365319, 486.2183860614001, 667.758647970323, 804.1446773561314, 1206.4215761350465, 1989.1634835677435, 743.2640392089402, 561.7124872246433, 1922.778018867195, 1857.2866567365897, 2520.9820824419376, 2721.875095410219, 2060.0724753849827, 1413.6872788419646, 704.6857624060003, 1031.599176822542, 10877.123865251187, 1513.6333627757288, 2740.097009315208, 1584.1639362563178, 1040.5970545220803, 1358.9924417548852, 1847.6921454095739, 1087.4223074501706, 1344.7911334271942, 2330.2820886699114, 1310.4355679381904, 2113.1925923937947, 1344.3514006100538, 1491.041788077724, 1255.211569927055, 1327.6355738350096, 1349.679602189772, 1259.0945526092794, 1500.4074595464917, 1350.1654897239832, 1322.0110853868093, 1267.0135242306696, 1184.2352997098253, 1160.5243082753962, 1004.6286961121237, 976.5431638108014, 908.2126851093991, 876.946509114741, 794.7942683174962, 672.7351762773471, 637.8790562156884, 576.6524644493772, 555.3285760492817, 526.5823215570922, 518.6861037603661, 516.1897300995154, 479.7556454071569, 478.29313001095886, 472.6855463842588, 456.04737601680483, 450.2273001239078, 440.36187786923244, 412.89615068352543, 412.4095096924362, 400.2107771792337, 397.4040040795137, 393.79224045284855, 392.729390258424, 1512.411933168108, 1581.479092052239, 953.8737214957187, 1079.4106785181764, 790.1107970513941, 3492.836743216583, 862.9212418188603, 713.2957069621574, 982.0843814104827, 1178.4308647686084, 1262.881634150064, 4328.220490941612, 2295.2197884104035, 1014.1718369894987, 708.4348275535168, 970.9554554265679, 1164.334565084434, 1476.6513599530733, 1607.9285462421713, 1446.0688922992656, 3374.6588971667165, 2241.9145609432435, 1548.9982795005799, 1727.5069919872474, 4064.137280147249, 1287.022449306357, 1287.1550085321994, 1332.3704074167792, 1099.1820512393394, 1172.5705199061922, 1478.758826967312, 1209.0715755242531, 1417.651011378263, 1149.0055682968436, 4243.046746755494, 3306.0505946547974, 1422.4474676397901, 1216.0985522909632, 1052.619918350599, 950.5985929672137, 854.0748194579664, 849.5059417320265, 754.0446523870593, 721.3764056071672, 708.7168358051888, 691.1788302278712, 687.2559121954197, 598.2350865848655, 513.1718961786183, 499.03376649467094, 498.2104269384008, 473.5469156175091, 465.38809466133137, 435.91541872586487, 405.9931737729522, 378.60695499068555, 361.6444956654669, 347.82530705033923, 317.8312616009924, 308.01792875084516, 307.11281414053957, 280.4730757467692, 258.4350352490417, 252.7429693027456, 5315.364968119875, 3980.1968784819533, 1626.6164220071062, 1366.6428163475416, 708.3833714541358, 507.1903844810717, 2117.2882863687532, 591.1272453952437, 1086.1375323667185, 906.0878333981753, 3697.4481553534533, 784.3492757792208, 3229.0448885949877, 3649.250440292518, 1044.804434313734, 909.131684898147, 1263.9423235410673, 986.1218885780447, 2217.245673845547, 939.6765951789434, 2881.710639826227, 1828.0615266324223, 1363.1282636385597, 1130.1972542717929, 1011.5287390157137, 2526.42432289443, 2485.3980087807554, 4462.198180167382, 2014.0765413910776, 1469.1696824990024, 1731.5783040853657, 1666.284564457549, 1332.720100666881, 1407.2569303385055, 1665.2540641507717, 1353.8549847496604, 1647.922729775122, 1351.562427535105, 1381.9167401344578, 1322.3804212229873, 1478.817022981401, 957.5025715958373, 694.834603529597, 649.9534133679467, 611.4216966290426, 582.1399431680132, 575.0699782482723, 501.3801957159015, 493.3154590063382, 471.9808123548151, 470.1984084087271, 450.5151277333309, 449.39684120479035, 441.54456054552895, 416.70121258861093, 397.97077422757627, 384.4132762326347, 381.9652167861674, 380.33531709652055, 378.1736419860362, 368.0078172549321, 366.55519832995327, 331.439563560697, 321.86884313920467, 321.8137062133394, 308.48290825318645, 288.5993424438104, 281.5904661617625, 272.96998000113405, 253.61762119067927, 8520.660037462856, 3660.122751522428, 2302.7836443507545, 1591.4944300660009, 576.1371402409438, 753.0507712243129, 4208.067034074161, 3220.451743049069, 587.215349020614, 2176.9558965460833, 1031.9539391860812, 1978.4166871998793, 761.8138309761418, 549.1997593815619, 1041.6657285525255, 645.4995267257665, 1245.2804106244969, 644.3553937183333, 604.2220646392559, 1268.7821825495826, 1436.1235884652106, 808.3067981992891, 2572.798499119644, 965.195326316164, 2350.0332814540297, 1739.9020363209504, 2510.4157319064802, 827.7587311548177, 1918.9281906373496, 968.0765566993108, 1175.1166829842548, 1914.4397974412016, 2537.513808985212, 1848.9380657376125, 1202.9068973373417, 1251.1380987800349, 1392.5062342792153, 1416.2086257041137, 1496.8663581405706, 1223.272852734018, 1079.0694287171482, 1068.5782325939308], \"Total\": [29576.0, 21492.0, 16185.0, 45339.0, 15166.0, 20008.0, 40256.0, 21593.0, 14531.0, 26169.0, 26502.0, 12789.0, 17500.0, 12405.0, 46987.0, 10266.0, 8878.0, 10798.0, 31339.0, 22722.0, 19809.0, 10047.0, 9236.0, 12370.0, 11209.0, 12285.0, 9681.0, 9792.0, 9873.0, 8551.0, 4875.4930287761645, 2871.1028295091232, 2546.303520929316, 1335.7262330664398, 1208.4686987720238, 1072.7418264269131, 4030.863544831534, 1011.5585538340358, 820.0369136201733, 815.3859880310209, 712.7353101188424, 646.5020686249508, 615.8202501890503, 605.9467557325526, 583.5698455785533, 560.4870624056102, 707.6649197154688, 495.24004029140036, 494.23596880620784, 483.8282436125102, 475.9890277564569, 470.49552532810316, 465.7025498182064, 435.77984109409726, 430.9854393287168, 430.02785131662154, 424.5579150361249, 412.79019529194767, 398.2800327501461, 375.46217619809676, 1720.9944471503727, 1803.9116660387776, 1743.401392755651, 1559.7150393658442, 4203.094647365067, 1066.676227184005, 4688.547769075385, 780.9527998226831, 5477.340563720557, 8576.987721508734, 1563.6044057119307, 2702.128699672362, 731.9193367289128, 5969.002755317942, 4953.868959702379, 1847.385721570613, 19809.05258442532, 1877.3765651089482, 2068.9870137845787, 6850.244092438905, 2362.828246676534, 3446.876098791184, 3721.2791446532824, 2467.8486586424483, 29576.50006166431, 11757.568447242702, 8830.202473245889, 14324.810298141125, 10132.478331549717, 23696.62970845346, 45339.59458278675, 8108.073141919242, 4740.808801963569, 6163.7948177199905, 6240.403062404318, 9101.224600077876, 7370.83662163728, 9873.485622931612, 9346.598026676824, 9750.992232854202, 23478.166960400653, 21593.0162795961, 10223.353253975265, 15371.158714529825, 23820.57452782567, 3945.7328759611996, 2851.043479270406, 2161.6215235756113, 1760.2442668350043, 1515.5593245871848, 1340.0601824226496, 1306.8694503099373, 1294.6610526944246, 1366.179464604691, 1103.4482864355066, 1091.144166346319, 1048.0906173627632, 959.2562688963809, 930.2465861408083, 731.3605211965324, 666.17347615926, 550.6760807424025, 548.0933580911345, 521.9959892691634, 517.3587354520452, 514.4237372184506, 505.73370980581046, 503.2535304902331, 490.38528279349566, 465.9795234162844, 448.4054457966957, 516.533732691131, 391.9547369560022, 367.48849908698736, 362.78189428313436, 20008.87501295986, 828.8827717260648, 9043.558465891976, 3593.814026513382, 12285.049894642538, 12827.376138538479, 10228.525210950345, 6473.329681829511, 849.2101674291225, 1403.8843983457841, 927.8794300791402, 1723.0441660046165, 3692.379939989238, 2632.820672056233, 2843.4018969531694, 3790.4396336592968, 22722.22947138908, 6208.705090879923, 1882.9505397985415, 14149.058866447709, 3026.219477056455, 7804.257432169619, 8264.753509696096, 3314.9941071196863, 10166.309797639064, 31339.586792615795, 2508.559563764549, 3306.954478336162, 4985.870740542254, 6003.130614097001, 3458.2479508173305, 12409.382926107726, 7216.431206311228, 15403.812275721732, 12793.17063754933, 15082.544556153862, 10366.388792930531, 46987.93987607213, 13927.74199497437, 6912.943282966348, 11898.614248639908, 19562.613278368422, 11056.805549442706, 1836.65565405853, 1832.4736873279207, 1688.8102902958296, 1513.1696422148514, 1495.1880679821475, 1395.0592833151702, 1261.5004409937371, 1021.3569034831197, 889.1936761215755, 859.1893318610485, 833.3998852817135, 743.5425774700595, 685.7833846323332, 676.0124732119813, 668.4311288635083, 638.8701171653347, 614.8636817855113, 586.9896182080676, 566.5733184820057, 943.2980411278618, 521.8985827209959, 504.1172054247098, 479.59042880330736, 477.2047404294364, 475.8186514789867, 441.9323067446956, 437.08799035071365, 430.74345498671823, 428.27588433230096, 422.26107976054465, 7235.711794055466, 709.7860614253675, 2921.789791008863, 3462.550934800832, 2089.5461477367203, 1392.219619336213, 1289.9706106164224, 1110.2848002940127, 6297.8927978385655, 26169.79231285322, 8525.067764804018, 1931.1002527846697, 5341.029666160981, 5975.79388355509, 5598.51209275405, 1743.990601553651, 1254.9410988309805, 3678.5582611376694, 1958.9103931435084, 3126.182411115368, 5059.597596236308, 1728.7156179824838, 2030.2425038302772, 3166.102651247198, 10125.14712478935, 9033.547554983328, 9651.599919504473, 2744.429445658431, 12003.777525599762, 3348.343283032437, 46987.93987607213, 5471.662492613516, 9594.013359942861, 3657.0415790300913, 2511.184646308029, 4149.578176943811, 24642.503969238245, 4306.752426073934, 31339.586792615795, 16229.101550028632, 10588.782883712092, 23820.57452782567, 15721.78437965321, 40256.73902504307, 9503.463508782068, 7122.520964909827, 10798.80688009428, 6357.247824661816, 5592.872608255234, 4488.685120464485, 3391.656187073949, 2514.486311111541, 2226.6763936742645, 1832.8432449512532, 1769.7969798643378, 1748.296815911013, 2181.2716930779893, 1685.9618497299036, 1653.917558562889, 1646.9745015474903, 1304.2405545112078, 1256.2400695198219, 1134.6290364559616, 1081.096908909562, 1077.8708593142553, 1056.15562827511, 1026.913517708457, 901.3511795636146, 841.0609404832855, 833.3995354753475, 819.2946492414868, 800.2215732001401, 732.944907454763, 673.4311994017013, 633.0402037422291, 630.9704755804343, 2359.793650769946, 1276.138934690959, 2029.8136030585556, 4121.820424927689, 1862.4303274717893, 9681.504922807795, 1662.0703520198658, 5743.021250879177, 4485.53534985749, 4558.815076946101, 17500.233459868934, 5116.122936504451, 7809.3287234800655, 2501.343466592377, 7465.698251254749, 11487.302259489496, 8001.052896896069, 2682.9107763403335, 10223.353253975265, 45339.59458278675, 3802.9157014470748, 5351.900532124743, 10870.319187245143, 23478.166960400653, 40256.73902504307, 8871.757622545518, 15371.158714529825, 13927.74199497437, 26502.5770636796, 19809.05258442532, 8072.935982922152, 7227.329639446184, 6534.5639492120445, 5170.415624671014, 5014.430969745368, 3562.6578920613374, 3040.2042226679055, 2847.2157489639185, 2725.385216736099, 2559.6315144603414, 2338.6281306496307, 2078.998365735057, 1958.6088586791989, 1765.7664299650905, 1682.1573520871773, 1609.8108494814505, 1563.8499205810217, 1508.9944390768383, 1485.4648044042895, 1474.8867511649898, 1406.5958655007594, 1328.7136259279891, 1250.5434643012404, 1197.0904760764558, 1173.7917442325936, 1173.5803893851908, 1167.2301415964046, 1156.433817237702, 981.4157788566182, 897.4377647195354, 4923.313766639792, 2716.141829868333, 10047.705212842968, 14531.311840057266, 7456.797742947941, 4949.575547881796, 1586.1179409509919, 3158.9055226860423, 3616.5009736201177, 1759.2705366252178, 2496.3323955279557, 3343.270455191364, 2321.56503210263, 4273.434575826972, 8480.751166667735, 19562.613278368422, 5571.290426321113, 5696.120261379361, 6574.044024081907, 4121.87503368119, 3533.1788597207237, 4493.743497251755, 5359.996486397151, 14510.704550373675, 2000.5913504245134, 1606.4243695726766, 1356.0385038936615, 1203.3556652193233, 1097.4825688392552, 1049.2840881041982, 779.2395399559581, 720.3503673194476, 713.2516436715144, 680.605822738278, 661.6575014251498, 652.323501769969, 634.699877255181, 632.5723562057208, 627.7339105358215, 617.0151503424835, 607.5310037475725, 606.2567250082568, 588.9227789792292, 576.357129325348, 562.5106010862974, 537.3709913982874, 490.0913931152451, 484.08984606321104, 476.5712046736627, 475.74569443240296, 459.517820061229, 450.8910730813256, 443.3993856941568, 422.91563768244254, 639.1466176708137, 2232.334148710734, 6977.769133365776, 1837.888258950954, 2483.0796007581703, 4163.673578066899, 2783.0771960588036, 2321.1589375687226, 2216.1796580037253, 6471.416578998749, 788.37715593266, 5499.214008903695, 1456.9748707725053, 957.5841234590844, 2010.1425303931765, 8224.362909974714, 1775.065452118156, 2292.605131820239, 1475.8030342962775, 2221.274786129316, 2869.9486730928065, 1194.2128527262516, 1907.5113350358454, 5045.968283525247, 3212.0442886755523, 3299.943940805837, 4006.3508748074582, 2233.8517089215184, 15417.358968340548, 2997.9147167299466, 4508.546557844875, 4014.7316596447045, 5651.430250603793, 23820.57452782567, 3132.3991926682243, 5703.020320043604, 2787.8122173909555, 4717.571141938781, 46987.93987607213, 6352.843827128573, 12455.413505853337, 7046.004510138535, 24642.503969238245, 26169.79231285322, 12370.958325871114, 16185.402972005006, 15166.809530125302, 12789.399839879552, 12405.195940880236, 4204.813198810964, 3052.264487745216, 2802.280914301746, 2639.7064354466474, 2130.0451879531533, 2046.4489444730777, 1705.651166945088, 1615.6995619203615, 1503.5884614005317, 1311.8696893125843, 1175.4134186838842, 1167.1695986664183, 1048.2938025887818, 1029.778831356159, 943.3647030624468, 916.6880214644541, 914.0942315562232, 883.357679155458, 857.1527740026003, 825.4774668762196, 774.370735744459, 668.4945015996977, 667.0306498853072, 604.0247617520148, 565.2332129528139, 557.4916445076667, 3077.4051071997496, 1162.4693585467264, 4522.704443864224, 1362.218191980369, 4354.0276950592925, 1196.6253160891947, 3367.2747238968273, 12370.958325871114, 8738.164671627941, 11365.43661763257, 1560.5679010288977, 4395.837825518794, 2299.168666341446, 2284.7872194471433, 4075.7340168745377, 8078.791246317786, 46987.93987607213, 31339.586792615795, 4251.025878955666, 5703.020320043604, 23696.62970845346, 23478.166960400653, 22722.22947138908, 26502.5770636796, 17015.665844107643, 12455.413505853337, 45339.59458278675, 9236.437075454318, 4062.8530544229084, 3358.5211943924755, 2244.225183117014, 2169.630888657159, 1897.3674920458961, 1415.5408002006322, 1368.376123217706, 1134.9600652660135, 1120.6915667620149, 1045.30607916766, 842.6563959204437, 805.3315274385186, 761.1714129876516, 689.4245378496828, 630.8887204790403, 620.2014057602796, 610.9080222276051, 567.9813078719876, 555.1474554275328, 527.1157035806791, 505.6932618931508, 491.97908951751646, 472.0128195423384, 468.378755231655, 453.76677034307835, 444.68512884660686, 437.12972868686734, 433.50969207334236, 432.4110345956693, 3743.4660619457595, 3193.066324698868, 8551.661064746862, 1714.7885724977364, 1371.6475974446716, 9792.972016550597, 2249.421300779549, 3527.6904650450665, 2335.1439848158498, 1573.430333891489, 2400.948347377619, 3454.303648999816, 8349.926723534378, 2337.82761837828, 2945.6014632923675, 2555.401724133125, 5817.219452486614, 1678.7080620041295, 11750.089272721907, 3799.153046547762, 3775.0005043982273, 5151.3786207508665, 9936.889425324978, 40256.73902504307, 3702.6226265864752, 14457.729730162104, 10870.319187245143, 9430.598068287805, 10861.25435391067, 23696.62970845346, 11487.302259489496, 4225.314502157774, 4768.039050524085, 2763.7736274624326, 1683.8370995734515, 881.1207209310224, 846.1466372907735, 826.5083159565554, 741.0674643657761, 665.3919163662744, 654.76380015184, 633.7683460128491, 559.8001256590027, 489.06693010260346, 431.2193446045139, 429.9114167285357, 415.48981458074013, 400.12635625254495, 397.02009607476595, 369.96852146711467, 363.6885873089398, 363.3786959887021, 339.2603367550545, 339.213393876914, 314.9823923202073, 314.614205699684, 293.4887928183776, 287.71223873380785, 281.87692936994273, 274.3097892562996, 271.42690934596203, 262.04506369009255, 2621.180682169571, 666.2556039008497, 3569.5197772095053, 912.073300489695, 3990.464830119976, 3303.9911875146977, 21492.42679618393, 1245.6059122062834, 1681.8814581829643, 1793.507808923363, 1626.246613472725, 4205.631155177115, 3960.0215971608036, 3513.3535893039116, 1827.0558423111195, 2206.9921882076246, 26502.5770636796, 8940.805199403128, 3729.0898700479397, 40256.73902504307, 4596.6500600775, 3220.370880055936, 1847.9008154218934, 9936.889425324978, 3135.3409949203683, 2766.2746667667766, 3801.9533026045415, 1800.0938098088359, 4089.018505363408, 6176.404861530841, 11898.614248639908, 8629.268269140437, 12409.382926107726, 10366.388792930531, 13927.74199497437, 5168.639251580367, 10166.309797639064, 10661.44464918482, 15417.358968340548, 22722.22947138908, 23478.166960400653, 11056.805549442706, 2228.367244868588, 1502.4224628786433, 1474.722401285452, 1014.7553838140805, 982.989333523059, 911.0483760263782, 877.6903117743476, 691.5547876183161, 654.5132336745507, 622.0795339153411, 632.3570740582793, 612.9762832897966, 599.6432120199433, 574.5204968188727, 567.9553141408755, 537.4557945658046, 523.3032040075857, 514.2833692925677, 505.3157226535461, 503.41131116662734, 488.5387796361191, 477.19718820064924, 467.5625700772434, 467.3850990161473, 441.1348453108415, 399.7428572539594, 391.55763664895744, 389.9440902708494, 388.977260753327, 380.7245238399486, 1276.1908679009687, 1072.144755430587, 764.3749945603289, 1133.881429709312, 1012.9014432297198, 2575.839279870189, 3370.451263967815, 922.2920390896362, 3361.249061336682, 2404.931942986434, 2072.7377901909144, 2763.710547940839, 4190.411263136853, 3605.4243533770773, 7792.04159547204, 11209.884689158669, 1077.95004765682, 1598.0945437131184, 9873.485622931612, 1327.8934184316154, 29576.50006166431, 1885.7232368291948, 2133.505251486885, 2334.881980226701, 8940.805199403128, 6033.079278041992, 14324.810298141125, 4886.608645067655, 2488.1001074157048, 5408.035976157885, 3757.0681018289547, 2253.065399449967, 1739.4680264036494, 23820.57452782567, 45339.59458278675, 16229.101550028632, 3694.056267178007, 24642.503969238245, 1661.3626720969612, 1588.3785188779993, 1115.0245884065905, 679.8364467118828, 442.61014860983704, 423.0006400079232, 415.69847941308205, 413.8923186250682, 395.6659757804569, 355.6496808967852, 354.4628218107555, 331.8593628211828, 327.44263402282417, 309.4072237676954, 307.3268843718475, 295.4700876100462, 294.2843265194201, 288.1092867832909, 269.6281345179994, 251.76126520528496, 250.48018349639247, 245.3566387173717, 236.31167356783376, 233.9332911193732, 232.23531357517217, 228.61910616231955, 228.47083026281751, 226.1698121023655, 219.94037417127757, 216.8755192372696, 1531.4152338584415, 10266.297606258124, 1251.3995393096993, 816.9803196606306, 445.2256118304426, 671.8830094916069, 3287.964467235721, 1106.3894169357625, 4197.363758128718, 515.8117869563011, 7959.461864889874, 917.4742247476722, 1017.0462089951895, 1129.1894693969937, 1315.3411128608768, 1137.5759756750617, 1982.6158646008937, 4951.0753420742885, 21593.0162795961, 786.1751270102085, 1799.269071263006, 933.10110354443, 2463.1589976359182, 3839.3163375789095, 731.5838459966579, 2708.5472745032384, 890.0234947049499, 1435.3525023395105, 5359.996486397151, 2505.7851354330674, 2885.8813186611246, 17015.665844107643, 3913.0163178397943, 9430.598068287805, 46987.93987607213, 17500.233459868934, 3917.387485164021, 4397.0598051624975, 23696.62970845346, 5749.773496292878, 14324.810298141125, 10223.353253975265, 23820.57452782567, 2327.732191983022, 1844.5740858676131, 1316.7280814405058, 3689.805320094954, 608.8345486123326, 589.205972723561, 526.0588933751126, 506.8918171989194, 462.824244815532, 442.8017630844067, 429.13934388698306, 400.8149998894128, 382.530746356518, 377.5219237020705, 362.4882289327068, 319.96373541573723, 306.05295767270354, 300.8407594583119, 297.35288288250956, 291.3119115730203, 290.3942467724357, 282.2849865940801, 273.62989015094666, 271.75386339404776, 266.29078863669076, 260.3185799093725, 244.2386343873504, 232.19375355221044, 231.25098599283757, 227.57557559305462, 1068.9793802583135, 2671.942755522681, 583.3634204918853, 470.544683064705, 3268.469282060226, 768.6363818739169, 2414.6959634255218, 512.6564456647109, 737.4289052684663, 909.3945355681797, 1461.833451565293, 2612.207499421511, 852.6888446943478, 620.7232864068906, 2653.4125447809192, 2557.0886017980847, 4177.402088188541, 4604.917746463173, 3379.3843927395583, 2113.6070200520244, 856.7427110250243, 1478.4658875248645, 45339.59458278675, 2780.945121208099, 7122.520964909827, 3441.202390994239, 1809.8506765829704, 3240.252337653869, 6836.719535846811, 2219.3090110468547, 4145.7591941185, 24642.503969238245, 4988.2143920361505, 26502.5770636796, 8629.268269140437, 23820.57452782567, 8991.468948573525, 23478.166960400653, 40256.73902504307, 16229.101550028632, 1501.4057953991944, 1351.1638257424906, 1323.009421256474, 1268.0118602667103, 1185.2336361514579, 1161.5226452181105, 1005.6270320268002, 977.5414996148181, 909.2110215950354, 877.9448448779466, 795.7926047865326, 673.7397508259011, 638.8773919378547, 577.6508002641523, 556.3269131587072, 527.5806574689118, 519.6844395014633, 517.1880669701487, 480.7539811855795, 479.2914668258485, 473.68388309544423, 457.0457119480492, 451.22563604413426, 441.3602137313952, 413.8944865004161, 413.4078457169916, 401.20911292033094, 398.40234120016646, 394.7905769046964, 393.72772611815185, 1557.861213105922, 1659.5534074271989, 987.4043240451222, 1147.2536833518243, 825.0472881579705, 4308.843879532037, 938.8388222446147, 766.4934596345231, 1150.2612816378569, 1476.2608452129812, 1652.450467921356, 8058.190364160143, 3824.586360390993, 1279.3044357545568, 812.207304165635, 1392.5103434809434, 1905.7294865040253, 2892.373021390534, 3494.83866148907, 2991.4746454895007, 17015.665844107643, 7697.568627285262, 3732.651248065661, 4880.663494304387, 45339.59458278675, 2617.8807979416233, 2885.8813186611246, 3315.5547970179373, 1838.1199780710126, 2512.443442533137, 15721.78437965321, 4121.87503368119, 19562.613278368422, 5832.04146510941, 4244.047299526519, 3307.051147426967, 1423.4480200498695, 1217.1162542251825, 1053.6204704937818, 951.5991455100185, 855.075961155867, 850.5064945112933, 755.0452045152936, 722.3769587207526, 709.7173887675632, 692.1793827176036, 688.2564678574066, 599.2405906120886, 514.1724482351601, 500.0343187774336, 499.210979636961, 474.5474726889891, 466.3886470958437, 436.9159725203234, 406.99382776453723, 379.60750705649014, 362.6450489867537, 348.82586133075176, 318.83181407422194, 309.0184827055147, 308.1133661917304, 281.47362835503003, 259.4355882580464, 253.74352148266658, 5407.229245963821, 4102.445354351257, 1717.1951662995846, 1467.869938638366, 741.4369157943397, 527.9725643139344, 2543.522472561054, 625.3009924098419, 1233.8118276613677, 1008.5410284169611, 5128.798802980975, 863.021955040215, 4488.471697624341, 5461.887891120527, 1233.1487807899036, 1042.8581986920963, 1579.332809943817, 1160.7656329936394, 3532.3413416170706, 1123.816049706932, 5883.852481676098, 3249.109501929494, 2048.4215885047747, 1517.6526948602718, 1344.0951820714831, 9430.598068287805, 9953.618556732914, 45339.59458278675, 9101.224600077876, 3842.3849633363147, 7465.698251254749, 8830.202473245889, 3917.387485164021, 5125.177383378396, 13504.514010713636, 4629.756483996016, 15417.358968340548, 4937.161817412041, 10861.25435391067, 8690.25319339363, 1479.8204065390821, 958.5059554834471, 695.8379880555259, 650.9567972664552, 612.4250819153813, 583.1433276775053, 576.0733620781945, 502.38357900173236, 494.31884965594816, 472.9841971258562, 471.20179259275267, 451.51851106700076, 450.4002249859585, 442.547944662752, 417.7045964484926, 398.97415772384284, 385.4166604490441, 382.9686006626842, 381.33870187360924, 379.17702596991745, 369.0112008675574, 367.55858190369514, 332.44294701616815, 322.87222676786075, 322.8170900993084, 309.4862919110681, 289.6027274197317, 282.593849573864, 273.9733634554128, 254.62100524613686, 8878.40654584674, 3825.4892174521888, 2440.3681968791257, 1667.572070120183, 587.5307489326809, 779.8384697118164, 4711.402853705754, 3562.363555599541, 607.0505309398324, 2576.7446522158098, 1186.4051381279141, 2515.5473990580767, 861.3641750042607, 594.784299312614, 1311.3057394369314, 732.1292192513424, 1763.6754220473488, 765.4718833331036, 697.860772466983, 2130.368394423132, 2716.5641994154184, 1131.0870652523909, 8264.753509696096, 1555.847443555197, 9750.992232854202, 6003.130614097001, 15082.544556153862, 1330.8027523934647, 10132.478331549717, 1993.905291949021, 3222.6882853474303, 14457.729730162104, 46987.93987607213, 19562.613278368422, 5151.3786207508665, 5967.244560963284, 9101.224600077876, 10870.319187245143, 23478.166960400653, 12779.925559135392, 10223.353253975265, 11929.714599032022], \"Category\": [\"Default\", \"Default\", \"Default\", \"Default\", \"Default\", \"Default\", \"Default\", \"Default\", \"Default\", \"Default\", \"Default\", \"Default\", \"Default\", \"Default\", \"Default\", \"Default\", \"Default\", \"Default\", \"Default\", \"Default\", \"Default\", \"Default\", \"Default\", \"Default\", \"Default\", \"Default\", \"Default\", \"Default\", \"Default\", \"Default\", \"Topic1\", \"Topic1\", \"Topic1\", \"Topic1\", \"Topic1\", \"Topic1\", \"Topic1\", \"Topic1\", \"Topic1\", \"Topic1\", \"Topic1\", \"Topic1\", \"Topic1\", \"Topic1\", \"Topic1\", \"Topic1\", \"Topic1\", \"Topic1\", \"Topic1\", \"Topic1\", \"Topic1\", \"Topic1\", \"Topic1\", \"Topic1\", \"Topic1\", \"Topic1\", \"Topic1\", \"Topic1\", \"Topic1\", \"Topic1\", \"Topic1\", \"Topic1\", \"Topic1\", \"Topic1\", \"Topic1\", \"Topic1\", \"Topic1\", \"Topic1\", \"Topic1\", \"Topic1\", \"Topic1\", \"Topic1\", \"Topic1\", \"Topic1\", \"Topic1\", \"Topic1\", \"Topic1\", \"Topic1\", \"Topic1\", \"Topic1\", \"Topic1\", \"Topic1\", \"Topic1\", \"Topic1\", \"Topic1\", \"Topic1\", \"Topic1\", \"Topic1\", \"Topic1\", \"Topic1\", \"Topic1\", \"Topic1\", \"Topic1\", \"Topic1\", \"Topic1\", \"Topic1\", \"Topic1\", \"Topic1\", \"Topic1\", \"Topic1\", \"Topic1\", \"Topic1\", \"Topic1\", \"Topic1\", \"Topic1\", \"Topic2\", \"Topic2\", \"Topic2\", \"Topic2\", \"Topic2\", \"Topic2\", \"Topic2\", \"Topic2\", \"Topic2\", \"Topic2\", \"Topic2\", \"Topic2\", \"Topic2\", \"Topic2\", \"Topic2\", \"Topic2\", \"Topic2\", \"Topic2\", \"Topic2\", \"Topic2\", \"Topic2\", \"Topic2\", \"Topic2\", \"Topic2\", \"Topic2\", \"Topic2\", \"Topic2\", \"Topic2\", \"Topic2\", \"Topic2\", \"Topic2\", \"Topic2\", \"Topic2\", \"Topic2\", \"Topic2\", \"Topic2\", \"Topic2\", \"Topic2\", \"Topic2\", \"Topic2\", \"Topic2\", \"Topic2\", \"Topic2\", \"Topic2\", \"Topic2\", \"Topic2\", \"Topic2\", \"Topic2\", \"Topic2\", \"Topic2\", \"Topic2\", \"Topic2\", \"Topic2\", \"Topic2\", \"Topic2\", \"Topic2\", \"Topic2\", \"Topic2\", \"Topic2\", \"Topic2\", \"Topic2\", \"Topic2\", \"Topic2\", \"Topic2\", \"Topic2\", \"Topic2\", \"Topic2\", \"Topic2\", \"Topic2\", \"Topic2\", \"Topic2\", \"Topic2\", \"Topic2\", \"Topic3\", \"Topic3\", \"Topic3\", \"Topic3\", \"Topic3\", \"Topic3\", \"Topic3\", \"Topic3\", \"Topic3\", \"Topic3\", \"Topic3\", \"Topic3\", \"Topic3\", \"Topic3\", \"Topic3\", \"Topic3\", \"Topic3\", \"Topic3\", \"Topic3\", \"Topic3\", \"Topic3\", \"Topic3\", \"Topic3\", \"Topic3\", \"Topic3\", \"Topic3\", \"Topic3\", \"Topic3\", \"Topic3\", \"Topic3\", \"Topic3\", \"Topic3\", \"Topic3\", \"Topic3\", \"Topic3\", \"Topic3\", \"Topic3\", \"Topic3\", \"Topic3\", \"Topic3\", \"Topic3\", \"Topic3\", \"Topic3\", \"Topic3\", \"Topic3\", \"Topic3\", \"Topic3\", \"Topic3\", \"Topic3\", \"Topic3\", \"Topic3\", \"Topic3\", \"Topic3\", \"Topic3\", \"Topic3\", \"Topic3\", \"Topic3\", \"Topic3\", \"Topic3\", \"Topic3\", \"Topic3\", \"Topic3\", \"Topic3\", \"Topic3\", \"Topic3\", \"Topic3\", \"Topic3\", \"Topic3\", \"Topic3\", \"Topic3\", \"Topic3\", \"Topic3\", \"Topic3\", \"Topic3\", \"Topic3\", \"Topic3\", \"Topic4\", \"Topic4\", \"Topic4\", \"Topic4\", \"Topic4\", \"Topic4\", \"Topic4\", \"Topic4\", \"Topic4\", \"Topic4\", \"Topic4\", \"Topic4\", \"Topic4\", \"Topic4\", \"Topic4\", \"Topic4\", \"Topic4\", \"Topic4\", \"Topic4\", \"Topic4\", \"Topic4\", \"Topic4\", \"Topic4\", \"Topic4\", \"Topic4\", \"Topic4\", \"Topic4\", \"Topic4\", \"Topic4\", \"Topic4\", \"Topic4\", \"Topic4\", \"Topic4\", \"Topic4\", \"Topic4\", \"Topic4\", \"Topic4\", \"Topic4\", \"Topic4\", \"Topic4\", \"Topic4\", \"Topic4\", \"Topic4\", \"Topic4\", \"Topic4\", \"Topic4\", \"Topic4\", \"Topic4\", \"Topic4\", \"Topic4\", \"Topic4\", \"Topic4\", \"Topic4\", \"Topic4\", \"Topic4\", \"Topic4\", \"Topic4\", \"Topic4\", \"Topic4\", \"Topic4\", \"Topic5\", \"Topic5\", \"Topic5\", \"Topic5\", \"Topic5\", \"Topic5\", \"Topic5\", \"Topic5\", \"Topic5\", \"Topic5\", \"Topic5\", \"Topic5\", \"Topic5\", \"Topic5\", \"Topic5\", \"Topic5\", \"Topic5\", \"Topic5\", \"Topic5\", \"Topic5\", \"Topic5\", \"Topic5\", \"Topic5\", \"Topic5\", \"Topic5\", \"Topic5\", \"Topic5\", \"Topic5\", \"Topic5\", \"Topic5\", \"Topic5\", \"Topic5\", \"Topic5\", \"Topic5\", \"Topic5\", \"Topic5\", \"Topic5\", \"Topic5\", \"Topic5\", \"Topic5\", \"Topic5\", \"Topic5\", \"Topic5\", \"Topic5\", \"Topic5\", \"Topic5\", \"Topic5\", \"Topic5\", \"Topic5\", \"Topic5\", \"Topic5\", \"Topic5\", \"Topic5\", \"Topic5\", \"Topic6\", \"Topic6\", \"Topic6\", \"Topic6\", \"Topic6\", \"Topic6\", \"Topic6\", \"Topic6\", \"Topic6\", \"Topic6\", \"Topic6\", \"Topic6\", \"Topic6\", \"Topic6\", \"Topic6\", \"Topic6\", \"Topic6\", \"Topic6\", \"Topic6\", \"Topic6\", \"Topic6\", \"Topic6\", \"Topic6\", \"Topic6\", \"Topic6\", \"Topic6\", \"Topic6\", \"Topic6\", \"Topic6\", \"Topic6\", \"Topic6\", \"Topic6\", \"Topic6\", \"Topic6\", \"Topic6\", \"Topic6\", \"Topic6\", \"Topic6\", \"Topic6\", \"Topic6\", \"Topic6\", \"Topic6\", \"Topic6\", \"Topic6\", \"Topic6\", \"Topic6\", \"Topic6\", \"Topic6\", \"Topic6\", \"Topic6\", \"Topic6\", \"Topic6\", \"Topic6\", \"Topic6\", \"Topic6\", \"Topic6\", \"Topic6\", \"Topic6\", \"Topic6\", \"Topic6\", \"Topic6\", \"Topic6\", \"Topic6\", \"Topic6\", \"Topic6\", \"Topic6\", \"Topic6\", \"Topic6\", \"Topic6\", \"Topic6\", \"Topic6\", \"Topic6\", \"Topic6\", \"Topic6\", \"Topic6\", \"Topic7\", \"Topic7\", \"Topic7\", \"Topic7\", \"Topic7\", \"Topic7\", \"Topic7\", \"Topic7\", \"Topic7\", \"Topic7\", \"Topic7\", \"Topic7\", \"Topic7\", \"Topic7\", \"Topic7\", \"Topic7\", \"Topic7\", \"Topic7\", \"Topic7\", \"Topic7\", \"Topic7\", \"Topic7\", \"Topic7\", \"Topic7\", \"Topic7\", \"Topic7\", \"Topic7\", \"Topic7\", \"Topic7\", \"Topic7\", \"Topic7\", \"Topic7\", \"Topic7\", \"Topic7\", \"Topic7\", \"Topic7\", \"Topic7\", \"Topic7\", \"Topic7\", \"Topic7\", \"Topic7\", \"Topic7\", \"Topic7\", \"Topic7\", \"Topic7\", \"Topic7\", \"Topic7\", \"Topic7\", \"Topic7\", \"Topic7\", \"Topic7\", \"Topic7\", \"Topic7\", \"Topic7\", \"Topic7\", \"Topic7\", \"Topic7\", \"Topic8\", \"Topic8\", \"Topic8\", \"Topic8\", \"Topic8\", \"Topic8\", \"Topic8\", \"Topic8\", \"Topic8\", \"Topic8\", \"Topic8\", \"Topic8\", \"Topic8\", \"Topic8\", \"Topic8\", \"Topic8\", \"Topic8\", \"Topic8\", \"Topic8\", \"Topic8\", \"Topic8\", \"Topic8\", \"Topic8\", \"Topic8\", \"Topic8\", \"Topic8\", \"Topic8\", \"Topic8\", \"Topic8\", \"Topic8\", \"Topic8\", \"Topic8\", \"Topic8\", \"Topic8\", \"Topic8\", \"Topic8\", \"Topic8\", \"Topic8\", \"Topic8\", \"Topic8\", \"Topic8\", \"Topic8\", \"Topic8\", \"Topic8\", \"Topic8\", \"Topic8\", \"Topic8\", \"Topic8\", \"Topic8\", \"Topic8\", \"Topic8\", \"Topic8\", \"Topic8\", \"Topic8\", \"Topic8\", \"Topic8\", \"Topic8\", \"Topic8\", \"Topic8\", \"Topic8\", \"Topic8\", \"Topic8\", \"Topic9\", \"Topic9\", \"Topic9\", \"Topic9\", \"Topic9\", \"Topic9\", \"Topic9\", \"Topic9\", \"Topic9\", \"Topic9\", \"Topic9\", \"Topic9\", \"Topic9\", \"Topic9\", \"Topic9\", \"Topic9\", \"Topic9\", \"Topic9\", \"Topic9\", \"Topic9\", \"Topic9\", \"Topic9\", \"Topic9\", \"Topic9\", \"Topic9\", \"Topic9\", \"Topic9\", \"Topic9\", \"Topic9\", \"Topic9\", \"Topic9\", \"Topic9\", \"Topic9\", \"Topic9\", \"Topic9\", \"Topic9\", \"Topic9\", \"Topic9\", \"Topic9\", \"Topic9\", \"Topic9\", \"Topic9\", \"Topic9\", \"Topic9\", \"Topic9\", \"Topic9\", \"Topic9\", \"Topic9\", \"Topic9\", \"Topic9\", \"Topic9\", \"Topic9\", \"Topic9\", \"Topic9\", \"Topic9\", \"Topic9\", \"Topic9\", \"Topic9\", \"Topic9\", \"Topic9\", \"Topic9\", \"Topic9\", \"Topic9\", \"Topic9\", \"Topic9\", \"Topic9\", \"Topic9\", \"Topic9\", \"Topic9\", \"Topic9\", \"Topic9\", \"Topic9\", \"Topic10\", \"Topic10\", \"Topic10\", \"Topic10\", \"Topic10\", \"Topic10\", \"Topic10\", \"Topic10\", \"Topic10\", \"Topic10\", \"Topic10\", \"Topic10\", \"Topic10\", \"Topic10\", \"Topic10\", \"Topic10\", \"Topic10\", \"Topic10\", \"Topic10\", \"Topic10\", \"Topic10\", \"Topic10\", \"Topic10\", \"Topic10\", \"Topic10\", \"Topic10\", \"Topic10\", \"Topic10\", \"Topic10\", \"Topic10\", \"Topic10\", \"Topic10\", \"Topic10\", \"Topic10\", \"Topic10\", \"Topic10\", \"Topic10\", \"Topic10\", \"Topic10\", \"Topic10\", \"Topic10\", \"Topic10\", \"Topic10\", \"Topic10\", \"Topic10\", \"Topic10\", \"Topic10\", \"Topic10\", \"Topic10\", \"Topic10\", \"Topic10\", \"Topic10\", \"Topic10\", \"Topic10\", \"Topic10\", \"Topic10\", \"Topic10\", \"Topic10\", \"Topic10\", \"Topic10\", \"Topic10\", \"Topic10\", \"Topic10\", \"Topic10\", \"Topic10\", \"Topic10\", \"Topic10\", \"Topic10\", \"Topic11\", \"Topic11\", \"Topic11\", \"Topic11\", \"Topic11\", \"Topic11\", \"Topic11\", \"Topic11\", \"Topic11\", \"Topic11\", \"Topic11\", \"Topic11\", \"Topic11\", \"Topic11\", \"Topic11\", \"Topic11\", \"Topic11\", \"Topic11\", \"Topic11\", \"Topic11\", \"Topic11\", \"Topic11\", \"Topic11\", \"Topic11\", \"Topic11\", \"Topic11\", \"Topic11\", \"Topic11\", \"Topic11\", \"Topic11\", \"Topic11\", \"Topic11\", \"Topic11\", \"Topic11\", \"Topic11\", \"Topic11\", \"Topic11\", \"Topic11\", \"Topic11\", \"Topic11\", \"Topic11\", \"Topic11\", \"Topic11\", \"Topic11\", \"Topic11\", \"Topic11\", \"Topic11\", \"Topic11\", \"Topic11\", \"Topic11\", \"Topic11\", \"Topic11\", \"Topic11\", \"Topic11\", \"Topic11\", \"Topic11\", \"Topic11\", \"Topic11\", \"Topic11\", \"Topic11\", \"Topic11\", \"Topic11\", \"Topic11\", \"Topic11\", \"Topic11\", \"Topic11\", \"Topic11\", \"Topic11\", \"Topic11\", \"Topic11\", \"Topic11\", \"Topic11\", \"Topic11\", \"Topic12\", \"Topic12\", \"Topic12\", \"Topic12\", \"Topic12\", \"Topic12\", \"Topic12\", \"Topic12\", \"Topic12\", \"Topic12\", \"Topic12\", \"Topic12\", \"Topic12\", \"Topic12\", \"Topic12\", \"Topic12\", \"Topic12\", \"Topic12\", \"Topic12\", \"Topic12\", \"Topic12\", \"Topic12\", \"Topic12\", \"Topic12\", \"Topic12\", \"Topic12\", \"Topic12\", \"Topic12\", \"Topic12\", \"Topic12\", \"Topic12\", \"Topic12\", \"Topic12\", \"Topic12\", \"Topic12\", \"Topic12\", \"Topic12\", \"Topic12\", \"Topic12\", \"Topic12\", \"Topic12\", \"Topic12\", \"Topic12\", \"Topic12\", \"Topic12\", \"Topic12\", \"Topic12\", \"Topic12\", \"Topic12\", \"Topic12\", \"Topic12\", \"Topic12\", \"Topic12\", \"Topic12\", \"Topic12\", \"Topic12\", \"Topic12\", \"Topic12\", \"Topic12\", \"Topic12\", \"Topic12\", \"Topic12\", \"Topic12\", \"Topic12\", \"Topic12\", \"Topic12\", \"Topic12\", \"Topic12\", \"Topic12\", \"Topic12\", \"Topic13\", \"Topic13\", \"Topic13\", \"Topic13\", \"Topic13\", \"Topic13\", \"Topic13\", \"Topic13\", \"Topic13\", \"Topic13\", \"Topic13\", \"Topic13\", \"Topic13\", \"Topic13\", \"Topic13\", \"Topic13\", \"Topic13\", \"Topic13\", \"Topic13\", \"Topic13\", \"Topic13\", \"Topic13\", \"Topic13\", \"Topic13\", \"Topic13\", \"Topic13\", \"Topic13\", \"Topic13\", \"Topic13\", \"Topic13\", \"Topic13\", \"Topic13\", \"Topic13\", \"Topic13\", \"Topic13\", \"Topic13\", \"Topic13\", \"Topic13\", \"Topic13\", \"Topic13\", \"Topic13\", \"Topic13\", \"Topic13\", \"Topic13\", \"Topic13\", \"Topic13\", \"Topic13\", \"Topic13\", \"Topic13\", \"Topic13\", \"Topic13\", \"Topic13\", \"Topic13\", \"Topic13\", \"Topic13\", \"Topic13\", \"Topic13\", \"Topic13\", \"Topic13\", \"Topic13\", \"Topic13\", \"Topic13\", \"Topic13\", \"Topic13\", \"Topic14\", \"Topic14\", \"Topic14\", \"Topic14\", \"Topic14\", \"Topic14\", \"Topic14\", \"Topic14\", \"Topic14\", \"Topic14\", \"Topic14\", \"Topic14\", \"Topic14\", \"Topic14\", \"Topic14\", \"Topic14\", \"Topic14\", \"Topic14\", \"Topic14\", \"Topic14\", \"Topic14\", \"Topic14\", \"Topic14\", \"Topic14\", \"Topic14\", \"Topic14\", \"Topic14\", \"Topic14\", \"Topic14\", \"Topic14\", \"Topic14\", \"Topic14\", \"Topic14\", \"Topic14\", \"Topic14\", \"Topic14\", \"Topic14\", \"Topic14\", \"Topic14\", \"Topic14\", \"Topic14\", \"Topic14\", \"Topic14\", \"Topic14\", \"Topic14\", \"Topic14\", \"Topic14\", \"Topic14\", \"Topic14\", \"Topic14\", \"Topic14\", \"Topic14\", \"Topic14\", \"Topic14\", \"Topic14\", \"Topic14\", \"Topic14\", \"Topic14\", \"Topic14\", \"Topic14\", \"Topic14\", \"Topic14\", \"Topic14\", \"Topic14\", \"Topic14\", \"Topic14\", \"Topic14\", \"Topic14\", \"Topic14\", \"Topic14\", \"Topic15\", \"Topic15\", \"Topic15\", \"Topic15\", \"Topic15\", \"Topic15\", \"Topic15\", \"Topic15\", \"Topic15\", \"Topic15\", \"Topic15\", \"Topic15\", \"Topic15\", \"Topic15\", \"Topic15\", \"Topic15\", \"Topic15\", \"Topic15\", \"Topic15\", \"Topic15\", \"Topic15\", \"Topic15\", \"Topic15\", \"Topic15\", \"Topic15\", \"Topic15\", \"Topic15\", \"Topic15\", \"Topic15\", \"Topic15\", \"Topic15\", \"Topic15\", \"Topic15\", \"Topic15\", \"Topic15\", \"Topic15\", \"Topic15\", \"Topic15\", \"Topic15\", \"Topic15\", \"Topic15\", \"Topic15\", \"Topic15\", \"Topic15\", \"Topic15\", \"Topic15\", \"Topic15\", \"Topic15\", \"Topic15\", \"Topic15\", \"Topic15\", \"Topic15\", \"Topic15\", \"Topic15\", \"Topic15\", \"Topic15\", \"Topic15\", \"Topic15\", \"Topic15\", \"Topic15\", \"Topic15\", \"Topic15\", \"Topic15\", \"Topic15\", \"Topic15\", \"Topic15\", \"Topic15\", \"Topic15\", \"Topic15\", \"Topic15\", \"Topic15\", \"Topic15\"], \"logprob\": [30.0, 29.0, 28.0, 27.0, 26.0, 25.0, 24.0, 23.0, 22.0, 21.0, 20.0, 19.0, 18.0, 17.0, 16.0, 15.0, 14.0, 13.0, 12.0, 11.0, 10.0, 9.0, 8.0, 7.0, 6.0, 5.0, 4.0, 3.0, 2.0, 1.0, -5.3194, -5.8491, -5.9692, -6.6147, -6.7149, -6.8342, -5.5104, -6.893, -7.1031, -7.1088, -7.2435, -7.3412, -7.3899, -7.4061, -7.4438, -7.4842, -7.2511, -7.6082, -7.6102, -7.6316, -7.6479, -7.6596, -7.6698, -7.7364, -7.7475, -7.7497, -7.7625, -7.7907, -7.8266, -7.8857, -6.3707, -6.3244, -6.3597, -6.4818, -5.5113, -6.858, -5.4281, -7.1682, -5.2805, -4.8589, -6.5049, -5.9882, -7.2354, -5.2525, -5.4289, -6.362, -4.1712, -6.3564, -6.2701, -5.1711, -6.1511, -5.8274, -5.7598, -6.1278, -4.1727, -4.973, -5.2136, -4.9439, -5.2001, -4.656, -4.2861, -5.4268, -5.7769, -5.6174, -5.6108, -5.4285, -5.5969, -5.5098, -5.5358, -5.5172, -5.1471, -5.4643, -5.6827, -5.6398, -5.6581, -5.487, -5.812, -6.089, -6.2945, -6.4443, -6.5674, -6.5925, -6.6019, -6.5482, -6.7618, -6.7731, -6.8134, -6.902, -6.9328, -7.1736, -7.2671, -7.4578, -7.4625, -7.5114, -7.5203, -7.526, -7.5431, -7.548, -7.574, -7.6251, -7.6637, -7.5225, -7.7985, -7.8632, -7.8761, -3.8835, -7.0522, -4.698, -5.6095, -4.4379, -4.4207, -4.6627, -5.1147, -7.0465, -6.5705, -6.9762, -6.4031, -5.7174, -6.0357, -5.9778, -5.7225, -4.1781, -5.3236, -6.3612, -4.7936, -6.0081, -5.2804, -5.2477, -5.9409, -5.1619, -4.3777, -6.1604, -5.9893, -5.7313, -5.6223, -5.9869, -5.3644, -5.6734, -5.3511, -5.4569, -5.4052, -5.57, -5.0935, -5.5288, -5.7573, -5.7166, -5.7122, -5.7468, -6.2108, -6.2131, -6.2948, -6.4046, -6.4166, -6.486, -6.5867, -6.798, -6.9368, -6.9711, -7.0016, -7.1159, -7.1968, -7.2112, -7.2225, -7.2678, -7.3062, -7.3526, -7.3881, -6.8784, -7.4704, -7.5051, -7.5551, -7.5601, -7.563, -7.637, -7.6481, -7.6628, -7.6685, -7.6827, -4.8439, -7.1649, -5.7701, -5.6278, -6.1187, -6.5344, -6.6101, -6.7527, -5.1167, -3.819, -4.8677, -6.2618, -5.34, -5.242, -5.3437, -6.3747, -6.6672, -5.7567, -6.2985, -5.9085, -5.5229, -6.404, -6.2777, -5.9341, -5.0737, -5.1696, -5.1539, -6.0874, -5.1003, -5.9589, -4.287, -5.6852, -5.4094, -5.9652, -6.167, -5.9366, -5.2186, -5.9538, -5.2804, -5.6488, -5.8039, -5.6265, -5.7614, -5.7854, -5.9252, -5.9489, -4.037, -4.5669, -4.695, -4.915, -5.1953, -5.4946, -5.6162, -5.811, -5.846, -5.8582, -5.637, -5.8946, -5.9138, -5.918, -6.1514, -6.189, -6.2909, -6.3392, -6.3422, -6.3626, -6.3907, -6.5213, -6.5906, -6.5997, -6.6168, -6.6404, -6.7283, -6.8132, -6.8751, -6.8784, -5.5682, -6.1803, -5.7234, -5.0298, -5.8148, -4.2166, -5.9296, -4.7594, -5.0088, -4.9984, -3.7957, -4.919, -4.5786, -5.6108, -4.7147, -4.422, -4.7832, -5.7129, -5.2049, -4.8171, -5.6449, -5.5556, -5.3721, -5.1862, -5.0762, -5.4844, -5.3949, -5.5282, -5.5084, -5.5662, -4.3188, -4.4295, -4.5302, -4.7644, -4.7951, -5.137, -5.2956, -5.3612, -5.4049, -5.4677, -5.558, -5.6758, -5.7355, -5.8392, -5.8877, -5.9317, -5.9607, -5.9964, -6.0121, -6.0193, -6.0667, -6.1237, -6.1844, -6.2281, -6.2478, -6.248, -6.2534, -6.2627, -6.427, -6.5165, -4.8231, -5.4144, -4.1273, -3.7734, -4.454, -4.853, -5.961, -5.3249, -5.2233, -5.8745, -5.579, -5.3577, -5.6529, -5.1685, -4.6532, -4.2117, -5.0824, -5.0897, -5.0374, -5.3384, -5.4799, -5.4667, -5.4909, -5.528, -5.7038, -5.9233, -6.0929, -6.2124, -6.3046, -6.3496, -6.6474, -6.7261, -6.736, -6.783, -6.8112, -6.8255, -6.8529, -6.8563, -6.864, -6.8812, -6.8967, -6.8988, -6.9279, -6.9495, -6.9738, -7.0197, -7.1119, -7.1243, -7.14, -7.1417, -7.1765, -7.1955, -7.2123, -7.2597, -6.8492, -5.6184, -4.5035, -5.8132, -5.5343, -5.0849, -5.4725, -5.6515, -5.6955, -4.7244, -6.6652, -4.9339, -6.1165, -6.4907, -5.8624, -4.6582, -5.9756, -5.7599, -6.1421, -5.8153, -5.6138, -6.3298, -5.9687, -5.2195, -5.5702, -5.5928, -5.4591, -5.892, -4.6775, -5.7086, -5.5233, -5.5891, -5.4208, -4.722, -5.7303, -5.4737, -5.7894, -5.6044, -4.944, -5.5371, -5.4465, -5.6482, -5.4981, -5.4936, -5.6413, -3.5799, -3.6449, -3.8154, -3.8459, -4.9279, -5.2483, -5.3338, -5.3936, -5.6082, -5.6483, -5.8305, -5.8848, -5.9567, -6.0932, -6.2031, -6.2102, -6.3177, -6.3355, -6.4233, -6.452, -6.4548, -6.4891, -6.5192, -6.5569, -6.6209, -6.7681, -6.7703, -6.8697, -6.9362, -6.95, -5.2506, -6.2217, -4.8843, -6.0714, -4.9652, -6.2138, -5.2561, -4.1206, -4.452, -4.3223, -6.0052, -5.177, -5.7565, -5.7612, -5.3536, -4.9108, -3.7474, -4.1093, -5.3988, -5.225, -4.5681, -4.6923, -5.0213, -5.0891, -5.3046, -5.4503, -5.4701, -4.1268, -4.9482, -5.1387, -5.542, -5.5758, -5.7099, -6.0031, -6.037, -6.2241, -6.2368, -6.3065, -6.5222, -6.5676, -6.6241, -6.7232, -6.8121, -6.8292, -6.8443, -6.9173, -6.9402, -6.9921, -7.0337, -7.0612, -7.1027, -7.1105, -7.1422, -7.1625, -7.1797, -7.188, -7.1906, -5.0399, -5.2066, -4.2623, -5.8436, -6.0648, -4.2027, -5.6098, -5.22, -5.6309, -6.0046, -5.6387, -5.3202, -4.5455, -5.6998, -5.5138, -5.6387, -5.027, -6.0129, -4.5864, -5.4159, -5.464, -5.2807, -4.9197, -4.2343, -5.5569, -4.9092, -5.1732, -5.4223, -5.4874, -5.4547, -5.5594, -5.6347, -4.703, -5.2485, -5.7443, -6.3925, -6.433, -6.4565, -6.5658, -6.6736, -6.6898, -6.7224, -6.8467, -6.9821, -7.1082, -7.1113, -7.1455, -7.1832, -7.191, -7.2618, -7.279, -7.2798, -7.3487, -7.3488, -7.4232, -7.4243, -7.4941, -7.514, -7.5346, -7.5619, -7.5725, -7.6078, -5.3137, -6.6836, -5.0511, -6.4004, -5.0031, -5.1829, -3.4107, -6.1766, -5.9159, -5.8673, -5.9681, -5.1509, -5.2079, -5.3113, -5.8773, -5.7222, -3.6153, -4.5355, -5.3148, -3.4273, -5.178, -5.4758, -5.9013, -4.6975, -5.5834, -5.6876, -5.5002, -5.9691, -5.4706, -5.2394, -4.8718, -5.0763, -4.9076, -5.0136, -4.9141, -5.48, -5.2567, -5.3418, -5.2563, -5.2164, -5.3876, -5.4552, -5.3036, -5.698, -5.7166, -6.0908, -6.1226, -6.1987, -6.236, -6.4747, -6.5298, -6.5807, -6.5644, -6.5955, -6.6175, -6.6604, -6.6719, -6.7272, -6.7539, -6.7714, -6.789, -6.7928, -6.8228, -6.8464, -6.8668, -6.8672, -6.9251, -7.0239, -7.0446, -7.0488, -7.0512, -7.0727, -5.8829, -6.0609, -6.397, -6.0403, -6.1525, -5.2948, -5.0488, -6.2458, -5.0795, -5.4049, -5.5439, -5.2945, -4.9552, -5.0946, -4.4427, -4.1415, -6.1326, -5.8121, -4.3392, -5.9825, -3.6598, -5.7528, -5.6948, -5.6367, -4.9104, -5.1482, -4.7314, -5.3512, -5.6962, -5.3687, -5.5341, -5.7859, -5.8851, -5.0182, -5.1559, -5.4251, -5.7446, -5.6054, -5.5072, -5.5521, -5.9062, -6.4022, -6.8315, -6.8769, -6.8944, -6.8988, -6.9439, -7.0508, -7.0542, -7.1203, -7.1337, -7.1905, -7.1973, -7.2368, -7.2408, -7.2621, -7.3286, -7.3975, -7.4026, -7.4233, -7.461, -7.4712, -7.4785, -7.4943, -7.4949, -7.5051, -7.5332, -7.5473, -5.5952, -3.7338, -5.8212, -6.2443, -6.8481, -6.4543, -4.944, -5.981, -4.7224, -6.7229, -4.1517, -6.1949, -6.1267, -6.0416, -5.9098, -6.0537, -5.5705, -4.7815, -3.5369, -6.3941, -5.7255, -6.2701, -5.5922, -5.3406, -6.5001, -5.6402, -6.3834, -6.0803, -5.2525, -5.7491, -5.6649, -4.6184, -5.6215, -5.3363, -4.8478, -5.2694, -5.7507, -5.7775, -5.4025, -5.7803, -5.6624, -5.823, -5.8538, -5.1044, -5.3372, -5.6745, -4.6443, -6.4467, -6.4796, -6.5931, -6.6303, -6.7215, -6.7658, -6.7972, -6.8656, -6.9124, -6.9257, -6.9664, -7.0916, -7.1361, -7.1534, -7.1651, -7.1857, -7.1888, -7.2173, -7.2485, -7.2554, -7.2758, -7.2986, -7.3626, -7.4134, -7.4175, -7.4336, -5.8994, -5.0356, -6.5195, -6.7297, -4.9201, -6.2864, -5.2309, -6.67, -6.3527, -6.1669, -5.7612, -5.2612, -6.2456, -6.5256, -5.2951, -5.3298, -5.0242, -4.9476, -5.2261, -5.6027, -6.2989, -5.9178, -3.5622, -5.5344, -4.9409, -5.4888, -5.9091, -5.6421, -5.3349, -5.8651, -5.6526, -5.1029, -5.6785, -5.2007, -5.653, -5.5494, -5.7216, -5.6655, -5.649, -5.7185, -5.5109, -5.6164, -5.6374, -5.6799, -5.7475, -5.7677, -5.912, -5.9403, -6.0129, -6.0479, -6.1463, -6.313, -6.3662, -6.4671, -6.5048, -6.5579, -6.5731, -6.5779, -6.6511, -6.6541, -6.6659, -6.7018, -6.7146, -6.7368, -6.8012, -6.8023, -6.8324, -6.8394, -6.8485, -6.8512, -5.5029, -5.4582, -5.9638, -5.8402, -6.1522, -4.6659, -6.064, -6.2545, -5.9347, -5.7524, -5.6832, -4.4514, -5.0858, -5.9025, -6.2613, -5.9461, -5.7644, -5.5268, -5.4416, -5.5477, -4.7003, -5.1093, -5.479, -5.3699, -4.5144, -5.6643, -5.6642, -5.6296, -5.822, -5.7574, -5.5254, -5.7267, -5.5676, -5.7777, -4.4139, -4.6634, -5.5068, -5.6635, -5.8079, -5.9098, -6.0169, -6.0223, -6.1415, -6.1858, -6.2035, -6.2285, -6.2342, -6.3729, -6.5263, -6.5543, -6.5559, -6.6067, -6.6241, -6.6895, -6.7606, -6.8304, -6.8763, -6.9152, -7.0054, -7.0368, -7.0397, -7.1304, -7.2123, -7.2346, -4.1886, -4.4778, -5.3727, -5.5468, -6.2039, -6.538, -5.109, -6.3849, -5.7765, -5.9578, -4.5515, -6.1021, -4.687, -4.5646, -5.8153, -5.9544, -5.6249, -5.8731, -5.0629, -5.9214, -4.8008, -5.2559, -5.5494, -5.7368, -5.8477, -4.9324, -4.9487, -4.3635, -5.159, -5.4745, -5.3101, -5.3486, -5.5719, -5.5175, -5.3492, -5.5562, -5.3597, -5.5579, -5.5357, -5.5797, -5.269, -5.7037, -6.0243, -6.0911, -6.1522, -6.2013, -6.2135, -6.3506, -6.3668, -6.4111, -6.4148, -6.4576, -6.4601, -6.4777, -6.5356, -6.5816, -6.6163, -6.6227, -6.6269, -6.6326, -6.6599, -6.6638, -6.7646, -6.7939, -6.794, -6.8363, -6.903, -6.9275, -6.9586, -7.0322, -3.5177, -4.3627, -4.8261, -5.1956, -6.2117, -5.9439, -4.2232, -4.4907, -6.1926, -4.8823, -5.6288, -4.9779, -5.9323, -6.2595, -5.6194, -6.098, -5.4409, -6.0997, -6.1641, -5.4222, -5.2983, -5.8731, -4.7152, -5.6957, -4.8058, -5.1064, -4.7398, -5.8493, -5.0085, -5.6927, -5.4989, -5.0108, -4.7291, -5.0456, -5.4755, -5.4362, -5.3291, -5.3123, -5.2569, -5.4587, -5.5841, -5.5939], \"loglift\": [30.0, 29.0, 28.0, 27.0, 26.0, 25.0, 24.0, 23.0, 22.0, 21.0, 20.0, 19.0, 18.0, 17.0, 16.0, 15.0, 14.0, 13.0, 12.0, 11.0, 10.0, 9.0, 8.0, 7.0, 6.0, 5.0, 4.0, 3.0, 2.0, 1.0, 2.1568, 2.1567, 2.1566, 2.1563, 2.1562, 2.1561, 2.1561, 2.156, 2.1558, 2.1558, 2.1556, 2.1555, 2.1554, 2.1554, 2.1553, 2.1552, 2.1552, 2.155, 2.155, 2.155, 2.1549, 2.1549, 2.1549, 2.1547, 2.1547, 2.1547, 2.1547, 2.1546, 2.1545, 2.1544, 2.1469, 2.1461, 2.145, 2.1342, 2.1134, 2.138, 2.0873, 2.1395, 2.0794, 2.0525, 2.1086, 2.0782, 2.1371, 2.0214, 2.0314, 2.0848, 1.9031, 2.0743, 2.0633, 1.9651, 2.0495, 1.9956, 1.9867, 2.0293, 1.5009, 1.623, 1.6687, 1.4546, 1.5447, 1.2391, 0.9602, 1.5409, 1.7274, 1.6244, 1.6187, 1.4236, 1.4661, 1.2608, 1.2896, 1.2659, 0.7574, 0.5238, 1.0531, 0.6882, 0.2319, 2.2009, 2.2008, 2.2007, 2.2005, 2.2005, 2.2004, 2.2004, 2.2003, 2.2002, 2.2002, 2.2002, 2.2002, 2.2001, 2.2, 2.1998, 2.1996, 2.1993, 2.1993, 2.1992, 2.1992, 2.1992, 2.1991, 2.1991, 2.1991, 2.199, 2.1989, 2.1986, 2.1986, 2.1984, 2.1984, 2.1808, 2.1959, 2.1605, 2.1717, 2.1142, 2.0882, 2.0727, 2.0781, 2.1775, 2.1507, 2.1592, 2.1133, 2.0369, 2.0567, 2.0376, 2.0055, 1.7591, 1.911, 2.0664, 1.6172, 1.945, 1.7254, 1.7008, 1.9211, 1.5795, 1.2379, 1.9804, 1.8752, 1.7226, 1.646, 1.8328, 1.1776, 1.4107, 0.9748, 1.0547, 0.9417, 1.1519, 0.1171, 0.8979, 1.3698, 0.8675, 0.3747, 0.9107, 2.2418, 2.2418, 2.2417, 2.2416, 2.2416, 2.2416, 2.2415, 2.2413, 2.2412, 2.2411, 2.2411, 2.241, 2.2409, 2.2408, 2.2408, 2.2407, 2.2407, 2.2406, 2.2405, 2.2405, 2.2404, 2.2403, 2.2402, 2.2402, 2.2402, 2.24, 2.24, 2.24, 2.24, 2.2399, 2.2375, 2.2384, 2.2182, 2.1907, 2.2049, 2.1952, 2.1957, 2.2032, 2.1036, 1.9769, 2.0497, 2.1406, 2.045, 2.0308, 1.9943, 2.1296, 2.1662, 2.0012, 2.0896, 2.0121, 1.9163, 2.1091, 2.0746, 1.9738, 1.6717, 1.69, 1.6395, 1.9635, 1.475, 1.8931, 0.9236, 1.6757, 1.3899, 1.7986, 1.9728, 1.7009, 0.6374, 1.6465, 0.3352, 0.6249, 0.8968, 0.2634, 0.544, -0.4201, 0.8837, 1.1484, 2.6441, 2.644, 2.644, 2.644, 2.6439, 2.6438, 2.6437, 2.6437, 2.6436, 2.6436, 2.6436, 2.6436, 2.6436, 2.6436, 2.6434, 2.6434, 2.6433, 2.6433, 2.6433, 2.6433, 2.6432, 2.6431, 2.643, 2.643, 2.643, 2.6429, 2.6428, 2.6427, 2.6426, 2.6426, 2.6337, 2.6363, 2.6291, 2.6144, 2.6238, 2.5737, 2.6228, 2.5531, 2.5508, 2.5451, 2.4026, 2.5091, 2.4266, 2.5328, 2.3355, 2.1972, 2.1977, 2.3607, 1.5309, 0.4292, 2.0798, 1.8274, 1.3024, 0.7182, 0.289, 1.3932, 0.9331, 0.8984, 0.2748, 0.5082, 2.6532, 2.6532, 2.6532, 2.6531, 2.6531, 2.653, 2.653, 2.653, 2.6529, 2.6529, 2.6529, 2.6528, 2.6528, 2.6527, 2.6527, 2.6527, 2.6527, 2.6526, 2.6526, 2.6526, 2.6526, 2.6526, 2.6525, 2.6525, 2.6525, 2.6525, 2.6525, 2.6524, 2.6523, 2.6522, 2.6434, 2.6469, 2.6259, 2.6108, 2.5974, 2.6082, 2.6382, 2.5854, 2.5517, 2.6211, 2.5667, 2.4958, 2.5653, 2.4396, 2.2695, 1.8752, 2.2605, 2.231, 2.14, 2.3058, 2.3184, 2.0911, 1.8906, 0.8576, 2.6633, 2.6631, 2.663, 2.6629, 2.6629, 2.6628, 2.6625, 2.6624, 2.6624, 2.6623, 2.6623, 2.6622, 2.6622, 2.6622, 2.6622, 2.6622, 2.6621, 2.6621, 2.6621, 2.662, 2.662, 2.6619, 2.6617, 2.6617, 2.6617, 2.6616, 2.6616, 2.6616, 2.6615, 2.6614, 2.6589, 2.639, 2.6143, 2.6387, 2.6167, 2.5492, 2.5645, 2.567, 2.5692, 2.4687, 2.6331, 2.422, 2.5677, 2.6132, 2.4999, 2.2952, 2.5111, 2.4709, 2.5292, 2.4471, 2.3924, 2.5532, 2.446, 2.2224, 2.3233, 2.2738, 2.2135, 2.3648, 1.6475, 2.254, 2.0313, 2.0814, 1.9078, 1.1679, 2.1884, 1.8458, 2.2459, 1.9048, 0.2666, 1.6745, 1.0919, 1.4598, 0.3579, 0.3023, 0.9038, 2.6965, 2.6965, 2.6965, 2.6965, 2.6964, 2.6963, 2.6962, 2.6962, 2.6961, 2.6961, 2.696, 2.696, 2.6959, 2.6958, 2.6957, 2.6957, 2.6956, 2.6956, 2.6955, 2.6955, 2.6955, 2.6955, 2.6954, 2.6954, 2.6953, 2.6951, 2.6951, 2.6949, 2.6948, 2.6948, 2.6858, 2.6883, 2.6671, 2.68, 2.6242, 2.6672, 2.5902, 2.4246, 2.4408, 2.3076, 2.6103, 2.4028, 2.4714, 2.4731, 2.3018, 2.0604, 1.4632, 1.5063, 2.2146, 2.0945, 1.327, 1.2121, 0.9159, 0.6942, 0.9218, 1.088, -0.2237, 2.7105, 2.7104, 2.7103, 2.7102, 2.7102, 2.7101, 2.7099, 2.7099, 2.7098, 2.7097, 2.7097, 2.7094, 2.7094, 2.7093, 2.7092, 2.709, 2.709, 2.709, 2.7089, 2.7088, 2.7087, 2.7087, 2.7086, 2.7085, 2.7085, 2.7084, 2.7084, 2.7083, 2.7083, 2.7083, 2.7006, 2.6929, 2.6521, 2.6776, 2.6797, 2.5761, 2.64, 2.5798, 2.5816, 2.6026, 2.5459, 2.5007, 2.3928, 2.5115, 2.4664, 2.4835, 2.2726, 2.5296, 2.0102, 2.3098, 2.2681, 2.1405, 1.8445, 1.1309, 2.1946, 1.48, 1.5013, 1.3943, 1.1879, 0.4405, 1.0599, 1.9847, 2.7955, 2.7954, 2.7951, 2.7946, 2.7946, 2.7945, 2.7944, 2.7942, 2.7942, 2.7942, 2.794, 2.7937, 2.7934, 2.7934, 2.7933, 2.7932, 2.7932, 2.793, 2.793, 2.793, 2.7928, 2.7928, 2.7926, 2.7926, 2.7923, 2.7923, 2.7922, 2.7921, 2.7921, 2.7919, 2.7832, 2.783, 2.737, 2.7522, 2.6735, 2.6825, 2.5821, 2.6643, 2.6247, 2.6091, 2.6061, 2.4732, 2.4764, 2.4927, 2.5805, 2.5467, 2.168, 2.3343, 2.4296, 1.9379, 2.3572, 2.4152, 2.5452, 2.0667, 2.3343, 2.3554, 2.2248, 2.5035, 2.1816, 2.0004, 1.7123, 1.829, 1.6345, 1.7084, 1.5125, 1.9379, 1.4847, 1.352, 1.0687, 0.7208, 0.5169, 1.2023, 2.9556, 2.9554, 2.9554, 2.9551, 2.955, 2.955, 2.9549, 2.9546, 2.9545, 2.9545, 2.9544, 2.9544, 2.9544, 2.9543, 2.9543, 2.9542, 2.9541, 2.9541, 2.9541, 2.9541, 2.954, 2.954, 2.9539, 2.9539, 2.9538, 2.9536, 2.9535, 2.9535, 2.9535, 2.9534, 2.9337, 2.93, 2.9322, 2.8946, 2.8952, 2.8195, 2.7967, 2.8956, 2.7687, 2.7781, 2.7877, 2.7494, 2.6725, 2.6835, 2.5647, 2.5022, 2.8529, 2.7796, 2.4314, 2.7944, 2.0137, 2.6734, 2.608, 2.5759, 1.9595, 2.1151, 1.6671, 2.1228, 2.4527, 2.0039, 2.2027, 2.4623, 2.6218, 0.8718, 0.0904, 0.8486, 2.0091, 0.2507, 3.0457, 3.0457, 3.0454, 3.0442, 3.044, 3.0439, 3.0439, 3.0439, 3.0438, 3.0435, 3.0435, 3.0433, 3.0432, 3.0431, 3.043, 3.0429, 3.0429, 3.0428, 3.0426, 3.0423, 3.0423, 3.0422, 3.0421, 3.042, 3.042, 3.0419, 3.0419, 3.0419, 3.0417, 3.0417, 3.0391, 2.9978, 3.015, 3.0183, 3.0216, 3.0039, 2.9262, 2.9784, 2.9037, 2.9996, 2.8344, 2.9517, 2.9169, 2.8974, 2.8766, 2.8779, 2.8056, 2.6794, 2.4512, 2.9069, 2.7476, 2.8597, 2.5669, 2.3746, 2.8729, 2.4239, 2.7936, 2.6188, 2.129, 2.3928, 2.3357, 1.608, 2.0747, 1.4802, 0.3628, 0.9289, 1.9443, 1.8021, 0.4927, 1.531, 0.7361, 0.9129, 0.0361, 3.1112, 3.1111, 3.1109, 3.1106, 3.11, 3.1099, 3.1097, 3.1096, 3.1095, 3.1094, 3.1093, 3.1091, 3.109, 3.109, 3.1089, 3.1085, 3.1083, 3.1083, 3.1082, 3.1082, 3.1082, 3.1081, 3.108, 3.1079, 3.1079, 3.1078, 3.1075, 3.1073, 3.1073, 3.1072, 3.0944, 3.0421, 3.0799, 3.0847, 2.9561, 3.0372, 2.948, 3.0587, 3.0124, 2.9886, 2.9196, 2.8391, 2.9743, 3.0117, 2.7895, 2.7919, 2.6066, 2.5858, 2.6167, 2.7094, 2.9162, 2.7517, 1.6841, 2.5033, 2.1563, 2.3359, 2.5582, 2.2427, 1.8032, 2.3982, 1.9858, 0.7531, 1.7749, 0.5826, 1.2524, 0.3405, 1.1426, 0.2389, -0.2838, 0.5552, 3.1432, 3.1432, 3.1431, 3.1431, 3.1431, 3.143, 3.1429, 3.1429, 3.1428, 3.1428, 3.1426, 3.1424, 3.1423, 3.1422, 3.1421, 3.142, 3.142, 3.142, 3.1418, 3.1418, 3.1418, 3.1417, 3.1417, 3.1416, 3.1415, 3.1415, 3.1414, 3.1414, 3.1414, 3.1414, 3.1143, 3.0957, 3.1094, 3.0829, 3.1006, 2.9339, 3.0596, 3.072, 2.9858, 2.9186, 2.875, 2.5224, 2.6333, 2.9117, 3.0072, 2.7833, 2.6512, 2.4716, 2.3676, 2.417, 1.5261, 1.9103, 2.2644, 2.1053, 0.7319, 2.4339, 2.3365, 2.2322, 2.6297, 2.3818, 0.7801, 1.9174, 0.5193, 1.5194, 3.2011, 3.201, 3.2006, 3.2005, 3.2004, 3.2003, 3.2002, 3.2002, 3.2, 3.1999, 3.1999, 3.1999, 3.1999, 3.1996, 3.1994, 3.1993, 3.1993, 3.1992, 3.1992, 3.199, 3.1989, 3.1987, 3.1986, 3.1985, 3.1982, 3.1981, 3.1981, 3.1978, 3.1975, 3.1974, 3.1842, 3.1711, 3.1471, 3.1299, 3.1557, 3.1612, 3.0179, 3.1451, 3.0738, 3.0942, 2.8741, 3.1057, 2.872, 2.7981, 3.0356, 3.0641, 2.9786, 3.0383, 2.7356, 3.0224, 2.4875, 2.6262, 2.794, 2.9066, 2.9171, 1.8842, 1.8138, 0.8828, 1.6931, 2.2399, 1.74, 1.5337, 2.1231, 1.9088, 1.1083, 1.9718, 0.9653, 1.9058, 1.1396, 1.3186, 3.3996, 3.3992, 3.3988, 3.3987, 3.3986, 3.3985, 3.3985, 3.3983, 3.3982, 3.3981, 3.3981, 3.398, 3.398, 3.398, 3.3979, 3.3977, 3.3976, 3.3976, 3.3976, 3.3976, 3.3975, 3.3975, 3.3972, 3.3971, 3.3971, 3.397, 3.3968, 3.3967, 3.3966, 3.3963, 3.3591, 3.3561, 3.3422, 3.3536, 3.3807, 3.3653, 3.2873, 3.2994, 3.367, 3.2317, 3.2608, 3.1601, 3.2774, 3.3205, 3.1701, 3.2743, 3.0522, 3.228, 3.2562, 2.882, 2.7628, 3.0643, 2.2332, 2.9228, 1.9773, 2.1618, 1.6072, 2.9254, 1.7363, 2.6777, 2.3914, 1.3785, 0.4815, 1.0412, 1.9457, 1.838, 1.523, 1.3622, 0.6476, 1.0539, 1.1517, 0.9876]}, \"token.table\": {\"Topic\": [14, 1, 3, 4, 7, 8, 10, 12, 13, 15, 11, 9, 11, 12, 3, 4, 7, 8, 11, 14, 15, 13, 1, 2, 3, 6, 7, 9, 10, 12, 13, 14, 15, 14, 3, 4, 8, 9, 14, 4, 5, 10, 12, 13, 11, 1, 2, 3, 5, 6, 7, 8, 9, 11, 13, 15, 2, 3, 7, 10, 11, 13, 14, 1, 2, 4, 6, 12, 15, 13, 11, 6, 11, 13, 2, 4, 1, 2, 3, 5, 6, 7, 12, 14, 2, 3, 3, 10, 1, 2, 3, 4, 7, 8, 11, 12, 15, 9, 14, 8, 9, 11, 5, 13, 7, 1, 3, 6, 7, 10, 14, 13, 11, 12, 1, 2, 3, 4, 5, 6, 9, 10, 11, 12, 13, 5, 5, 3, 8, 13, 1, 2, 9, 1, 5, 11, 13, 6, 3, 3, 1, 11, 12, 13, 6, 1, 12, 12, 1, 6, 7, 8, 9, 10, 11, 14, 2, 6, 11, 12, 13, 13, 2, 3, 2, 6, 2, 8, 3, 12, 5, 13, 3, 5, 1, 2, 4, 6, 10, 11, 15, 3, 6, 7, 13, 13, 1, 2, 4, 5, 7, 12, 14, 9, 14, 3, 6, 7, 14, 1, 4, 6, 11, 12, 2, 9, 1, 1, 2, 3, 6, 7, 8, 10, 11, 14, 15, 1, 2, 3, 4, 7, 8, 9, 11, 12, 14, 15, 5, 12, 14, 10, 7, 4, 8, 14, 5, 2, 7, 9, 15, 3, 4, 5, 6, 7, 12, 13, 1, 2, 7, 5, 11, 1, 2, 3, 4, 5, 6, 7, 8, 9, 10, 13, 1, 2, 3, 4, 5, 6, 7, 10, 11, 13, 14, 15, 2, 1, 2, 3, 5, 10, 12, 13, 12, 1, 11, 1, 3, 10, 11, 14, 2, 1, 12, 10, 14, 5, 6, 12, 2, 11, 1, 1, 9, 15, 12, 1, 13, 1, 4, 6, 9, 11, 12, 1, 2, 3, 6, 8, 10, 11, 15, 6, 1, 7, 9, 9, 9, 4, 1, 4, 5, 8, 10, 14, 12, 15, 4, 4, 10, 3, 4, 12, 5, 5, 13, 7, 10, 11, 13, 14, 9, 9, 9, 3, 1, 2, 3, 4, 5, 6, 7, 8, 9, 10, 12, 13, 14, 15, 7, 7, 7, 14, 2, 1, 2, 4, 6, 7, 8, 9, 12, 14, 15, 6, 10, 8, 1, 8, 11, 13, 15, 2, 12, 2, 3, 6, 7, 1, 2, 4, 5, 6, 7, 8, 10, 11, 14, 7, 4, 4, 5, 15, 9, 8, 15, 3, 1, 2, 7, 12, 1, 6, 9, 10, 12, 14, 8, 2, 5, 15, 15, 10, 2, 3, 5, 6, 7, 8, 10, 11, 12, 14, 15, 2, 3, 7, 8, 10, 11, 15, 6, 4, 5, 7, 8, 9, 10, 11, 12, 13, 14, 1, 2, 6, 10, 11, 6, 10, 1, 2, 7, 8, 9, 14, 15, 2, 4, 5, 7, 8, 11, 13, 14, 2, 3, 7, 1, 4, 5, 6, 7, 8, 9, 10, 11, 12, 14, 15, 3, 14, 9, 7, 1, 10, 7, 2, 5, 8, 11, 15, 2, 6, 7, 8, 10, 11, 14, 15, 9, 12, 4, 7, 8, 9, 12, 2, 3, 6, 7, 1, 11, 11, 4, 8, 4, 4, 8, 15, 4, 8, 9, 8, 11, 13, 1, 2, 3, 4, 5, 6, 7, 11, 12, 13, 6, 2, 1, 4, 7, 11, 14, 1, 11, 11, 5, 10, 11, 12, 12, 1, 12, 13, 15, 8, 11, 5, 5, 14, 15, 12, 3, 13, 15, 10, 4, 5, 12, 14, 2, 3, 10, 12, 14, 10, 5, 11, 15, 10, 13, 2, 9, 1, 4, 5, 14, 5, 10, 1, 4, 7, 8, 9, 11, 14, 15, 3, 7, 2, 4, 5, 8, 11, 13, 15, 2, 2, 10, 2, 9, 2, 7, 9, 11, 4, 13, 3, 6, 7, 3, 5, 12, 4, 10, 11, 6, 15, 3, 8, 7, 6, 2, 9, 12, 2, 3, 4, 6, 8, 14, 4, 1, 3, 4, 5, 8, 11, 8, 9, 4, 5, 8, 11, 15, 1, 10, 5, 8, 13, 15, 15, 1, 2, 3, 4, 5, 6, 7, 8, 10, 13, 14, 15, 1, 2, 3, 4, 5, 6, 7, 8, 9, 13, 14, 9, 2, 13, 15, 2, 3, 6, 7, 6, 1, 2, 3, 4, 5, 6, 7, 8, 11, 13, 7, 15, 15, 15, 2, 10, 13, 11, 13, 6, 1, 2, 4, 7, 8, 9, 11, 12, 10, 11, 2, 6, 9, 12, 2, 8, 11, 15, 2, 5, 8, 11, 2, 4, 7, 11, 15, 15, 2, 6, 11, 15, 5, 15, 10, 10, 11, 13, 1, 3, 4, 5, 6, 7, 8, 10, 11, 12, 13, 14, 15, 1, 3, 6, 13, 7, 1, 2, 3, 4, 5, 6, 7, 8, 9, 10, 11, 12, 13, 14, 15, 1, 4, 9, 3, 5, 6, 11, 13, 14, 3, 10, 13, 14, 5, 1, 4, 5, 11, 12, 13, 14, 13, 1, 1, 10, 2, 11, 11, 15, 11, 15, 7, 11, 2, 3, 15, 1, 1, 2, 3, 4, 5, 7, 8, 9, 10, 12, 13, 14, 15, 8, 15, 1, 2, 3, 4, 6, 8, 9, 10, 11, 12, 1, 2, 5, 6, 9, 11, 12, 14, 3, 5, 6, 10, 2, 1, 2, 4, 7, 8, 9, 12, 14, 15, 2, 9, 2, 3, 7, 1, 4, 7, 8, 9, 11, 14, 15, 1, 2, 6, 7, 8, 10, 14, 6, 7, 10, 11, 12, 13, 14, 1, 4, 5, 7, 8, 15, 4, 13, 9, 8, 5, 13, 1, 2, 3, 4, 5, 7, 8, 9, 10, 11, 12, 13, 14, 15, 8, 13, 6, 1, 2, 3, 5, 8, 10, 11, 15, 1, 3, 10, 11, 5, 13, 14, 15, 1, 2, 4, 5, 7, 8, 9, 12, 14, 15, 6, 4, 6, 7, 12, 1, 13, 15, 1, 2, 3, 4, 5, 6, 7, 8, 9, 10, 11, 12, 13, 14, 15, 4, 6, 2, 3, 10, 1, 2, 3, 4, 5, 7, 8, 9, 10, 11, 12, 13, 14, 15, 11, 1, 4, 6, 10, 11, 12, 6, 9, 14, 3, 11, 14, 2, 8, 15, 2, 7, 6, 15, 2, 10, 1, 3, 4, 5, 7, 8, 9, 10, 12, 13, 14, 12, 1, 2, 3, 4, 8, 9, 11, 12, 3, 8, 9, 14, 2, 4, 7, 1, 2, 3, 4, 6, 7, 8, 9, 12, 14, 15, 3, 12, 2, 3, 5, 7, 8, 14, 15, 12, 13, 1, 2, 3, 6, 10, 13, 14, 15, 1, 2, 3, 4, 6, 7, 8, 9, 11, 12, 14, 15, 1, 2, 3, 4, 7, 8, 10, 11, 12, 14, 9, 4, 5, 13, 8, 6, 12, 1, 1, 4, 7, 8, 11, 14, 15, 1, 1, 6, 7, 10, 1, 9, 10, 1, 2, 3, 4, 5, 6, 7, 8, 9, 11, 12, 13, 14, 15, 11, 12, 9, 14, 9, 1, 2, 3, 4, 5, 6, 7, 8, 11, 14, 15, 14, 1, 3, 6, 7, 14, 1, 2, 4, 7, 8, 12, 14, 15, 1, 8, 5, 13, 3, 6, 10, 12, 2, 9, 10, 11, 12, 3, 12, 3, 5, 13, 2, 5, 1, 4, 7, 8, 11, 15, 8, 1, 14, 1, 2, 3, 4, 5, 6, 7, 8, 9, 10, 12, 13, 14, 15, 4, 5, 12, 13, 1, 2, 3, 4, 5, 6, 7, 9, 10, 11, 13, 14, 11, 13, 12, 12, 13, 1, 10, 1, 2, 6, 2, 7, 11, 3, 11, 12, 13, 8, 15, 1, 2, 4, 5, 7, 8, 9, 11, 12, 14, 15, 8, 15, 4, 4, 1, 10, 8, 7, 15, 3, 8, 3, 14, 6, 12, 3, 5, 6, 10, 1, 5, 13, 3, 13, 9, 1, 2, 3, 4, 5, 6, 7, 8, 9, 10, 11, 12, 13, 14, 15, 8, 15, 1, 2, 7, 8, 11, 9, 13, 6, 9, 5, 1, 9, 11, 14, 14, 1, 2, 9, 10, 5, 7, 1, 2, 3, 4, 7, 9, 10, 11, 12, 14, 15, 2, 1, 14, 2, 3, 5, 3, 6, 14, 3, 4, 8, 14, 15, 5, 6, 8, 9, 14, 4, 8, 2, 3, 5, 6, 7, 12, 2, 3, 6, 7, 11, 2, 3, 4, 5, 6, 7, 8, 9, 10, 11, 12, 13, 15, 3, 5, 13, 1, 12, 5, 12, 12, 1, 3, 4, 5, 8, 11, 13, 15, 1, 2, 3, 4, 6, 7, 8, 11, 12, 14, 15, 2, 5, 13, 9, 13, 14, 7, 1, 2, 3, 4, 5, 6, 7, 8, 9, 10, 11, 12, 13, 14, 15, 1, 2, 3, 4, 6, 7, 8, 9, 10, 12, 14, 15, 6, 2, 13, 12, 13, 1, 2, 3, 4, 5, 7, 8, 9, 10, 11, 12, 14, 2, 7, 10, 4, 5, 8, 9, 11, 2, 3, 4, 5, 6, 7, 8, 11, 13, 15, 1, 2, 3, 4, 5, 6, 7, 9, 10, 11, 14, 15, 13, 1, 2, 3, 4, 5, 6, 7, 8, 9, 10, 11, 12, 13, 14, 15, 1, 2, 3, 4, 5, 6, 8, 10, 11, 12, 13, 1, 2, 4, 5, 6, 7, 9, 10, 11, 12, 13, 12, 1, 2, 3, 4, 5, 7, 8, 9, 11, 13, 14, 15, 3, 6, 8, 1, 2, 3, 4, 5, 6, 7, 8, 9, 10, 11, 12, 13, 14, 15, 2, 6, 8, 3, 14, 2, 3, 1, 3, 5, 6, 10, 12, 13, 2, 3, 4, 7, 2, 3, 4, 5, 6, 9, 10, 12, 13, 14, 1, 4, 7, 8, 11, 14, 15, 7, 1, 2, 6, 7, 8, 9, 11, 1, 4, 5, 13, 12, 10, 1, 2, 5, 6, 10, 11, 5, 2, 1, 5, 1, 8, 11, 15, 11, 15, 2, 3, 5, 6, 15, 2, 6, 10, 2, 9, 10, 1, 3, 4, 6, 10, 15, 9, 13, 2, 9, 10, 13, 7, 9, 14, 8, 1, 4, 7, 12, 3, 12, 13, 1, 2, 5, 6, 9, 12, 13, 9, 6, 2, 3, 4, 5, 8, 10, 11, 12, 13, 14, 15, 15, 15, 11, 1, 4, 6, 1, 2, 4, 5, 6, 7, 8, 9, 11, 12, 14, 15, 14, 1, 4, 7, 8, 11, 12, 14, 15, 1, 2, 3, 4, 6, 7, 8, 11, 12, 13, 14, 15, 3, 3, 1, 4, 5, 6, 8, 10, 11, 12, 14, 15, 1, 2, 4, 5, 7, 8, 9, 10, 12, 13, 14, 10, 3, 15, 11, 8, 8, 6, 1, 3, 4, 5, 7, 8, 9, 10, 12, 13, 14, 2, 3, 6, 7, 7, 1, 3, 4, 6, 10, 11, 12, 13, 14, 1, 6, 12, 13, 12, 13, 13, 10, 1, 2, 3, 4, 5, 6, 7, 8, 9, 10, 11, 12, 14, 15, 2, 5, 6, 15, 1, 8, 10, 11, 1, 7, 2, 12, 4, 8, 9, 14, 15, 8, 1, 12, 4, 4, 5, 13, 3, 7, 2, 8, 2, 3, 4, 13, 1, 2, 6, 7, 9, 10, 7, 4, 11, 5, 9, 11, 15, 9, 12, 11, 1, 4, 11, 4, 8, 7, 13, 13, 1, 2, 6, 7, 9, 10, 9, 1, 2, 5, 9, 11, 14, 1, 2, 8, 15, 14, 1, 9, 10, 14, 5, 8, 11, 5, 3, 5, 13, 3, 9, 12, 1, 1, 4, 8, 9, 15, 1, 7, 9, 11, 1, 10, 14, 8, 15, 1, 4, 1, 4, 7, 8, 9, 11, 14, 15, 4, 1, 4, 6, 10, 1, 2, 3, 4, 5, 8, 9, 10, 11, 12, 15, 4, 7, 9, 8, 1, 7, 8, 9, 14, 4, 5, 1, 2, 7, 8, 9, 15, 14, 4, 8, 14, 12, 12, 1, 8, 1, 4, 6, 8, 14, 4, 6, 8, 11, 1, 6, 7, 11, 14, 8, 11, 2, 9, 10, 3, 5, 13, 11, 1, 3, 9, 10, 14, 7, 9, 10, 12, 2, 8, 11, 1, 10, 11, 7, 9, 10, 14, 8, 3, 6, 7, 1, 7, 8, 2, 8, 15, 2, 14, 4, 11, 13, 1, 2, 6, 7, 8, 10, 11, 3, 13, 1, 7, 8, 9, 14, 1, 1, 4, 11, 2, 3, 4, 7, 11, 14, 14, 2, 3, 4, 8, 11, 15, 2, 3, 5, 7, 9, 10, 11, 12, 13, 14, 15, 8, 11, 14, 3, 1, 2, 3, 4, 5, 7, 8, 11, 13, 14, 15, 8, 5, 1, 4, 5, 6, 7, 10, 1, 5, 8, 5, 5, 13, 1, 2, 6, 1, 6, 12, 13, 1, 10, 11, 14, 12, 4, 6, 12, 14, 13, 13, 2, 2, 7, 9, 14, 15, 5, 12, 13, 2, 8, 15, 4, 14, 4, 6, 11, 9, 4, 8, 2, 6, 8, 10, 8, 1, 5, 7, 8, 13, 2, 9, 13, 15, 2, 8, 9, 11, 15, 4, 8, 11, 2, 2, 2, 9, 15, 2, 2, 3, 10, 3, 1, 2, 3, 4, 5, 6, 7, 10, 11, 13, 14, 15, 1, 3, 4, 5, 7, 12, 13, 4, 13, 1, 4, 5, 8, 11, 2, 3, 4, 5, 7, 10, 11, 13, 14, 1, 6, 10, 1, 3, 4, 6, 7, 8, 12, 14, 3, 10, 12, 1, 3, 11, 1, 2, 3, 4, 5, 6, 7, 8, 9, 10, 11, 14, 15, 6, 7, 9, 14, 7, 3, 12, 5, 5, 12, 1, 8, 9, 10, 14, 15, 14, 5, 6, 15, 1, 2, 4, 12, 14, 1, 1, 2, 3, 4, 6, 7, 8, 9, 11, 12, 14, 15, 2, 3, 4, 5, 8, 9, 11, 12, 13, 14, 2, 3, 4, 12, 13, 14, 15, 8, 11, 3, 1, 4, 8, 9, 11, 10, 1, 3, 6, 7, 15, 3, 1, 7, 8, 1, 2, 3, 4, 7, 8, 9, 10, 12, 13, 15, 1, 4, 5, 7, 10, 11, 14, 10, 11, 2, 1, 4, 6, 7, 11, 12, 1, 8, 10, 13, 2, 7, 14, 15, 9, 15, 5, 13, 6, 1, 2, 8, 10, 11, 15, 9, 11, 4, 1, 2, 3, 4, 5, 6, 7, 12, 13, 2, 3, 7, 5, 11, 13, 8, 2, 7, 2, 8, 1, 15, 2, 3, 7, 1, 2, 3, 4, 5, 6, 7, 8, 9, 10, 11, 12, 13, 14, 15, 2, 6, 9, 10, 4, 2, 3, 5, 10, 11, 13, 2, 5, 6, 7, 1, 2, 7, 9, 15, 8, 9, 11, 15, 6, 6, 2, 3, 2, 10, 2, 3, 6, 7, 9, 1, 2, 5, 7, 10, 13, 2, 3, 6, 8, 15, 1, 2, 3, 4, 7, 8, 9, 10, 11, 12, 13, 14, 15, 8, 14, 15, 7, 9, 3, 6, 12, 13, 10, 5, 12, 2, 3, 5, 6, 10, 2, 3, 5, 7, 11, 13, 15, 1, 5, 10, 13, 1, 11, 13, 1, 2, 3, 4, 5, 6, 7, 8, 9, 10, 12, 13, 14, 15, 8, 15, 3, 4, 8, 9, 12, 10, 3, 1, 3, 7, 11, 12, 13, 14, 15, 13, 13, 2, 6, 14, 5, 13, 5, 10, 10, 2, 6, 14, 4, 14, 1, 2, 3, 4, 7, 8, 9, 10, 11, 14, 9, 10, 14, 5, 9, 12, 2, 3, 4, 9, 11, 13, 14, 10, 1, 6, 8, 14, 2, 3, 8, 15, 2, 3, 4, 10, 4, 1, 2, 3, 5, 6, 10, 12, 13, 15, 2, 9, 12, 2, 4, 5, 7, 8, 9, 12, 14, 15, 1, 2, 3, 4, 7, 8, 11, 14, 14, 15, 6, 3, 10, 7, 3, 12, 2, 3, 9, 12, 3, 4, 5, 10, 12, 13, 14, 1, 2, 6, 1, 2, 7, 8, 9, 10, 12, 14, 13, 12, 2, 6, 2, 3, 4, 7, 8, 9, 12, 14, 8, 2, 7, 7, 1, 2, 3, 4, 5, 6, 7, 8, 9, 10, 11, 14, 15, 7, 2, 8, 15, 2, 3, 6, 7, 10, 13, 14, 2, 11, 1, 3, 5, 6, 10, 11, 12, 13, 2, 3, 6, 7, 5, 12, 13, 14, 1, 2, 3, 4, 5, 6, 7, 8, 9, 12, 13, 14, 15, 5, 1, 2, 4, 7, 8, 9, 11, 12, 14, 15, 1, 2, 3, 4, 5, 6, 7, 9, 10, 11, 12, 13, 14, 15, 8, 13, 15, 14, 2, 14, 2, 9, 14, 15, 1, 3, 5, 10, 11, 12, 13, 14, 2, 3, 6, 7, 9, 10, 11, 9, 5, 2, 10, 4, 3, 4, 6, 11, 12, 9, 1, 5, 9, 2, 9, 10, 11, 2, 2, 3, 6, 7, 1, 3, 5, 7, 9, 11, 12, 13, 14, 1, 2, 4, 5, 6, 8, 10, 13, 5, 11, 5, 12, 13, 13, 1, 2, 3, 8, 10, 11, 15, 13, 6, 8, 14, 3, 4, 5, 6, 14, 2, 1, 8, 3, 11, 1, 2, 7, 9, 10, 11, 14, 15, 5, 4, 6, 7, 8, 9, 11, 14, 4, 1, 2, 4, 1, 2, 3, 5, 6, 7, 8, 9, 13, 11, 14, 8, 10, 7, 6, 10, 11, 1, 2, 3, 7, 8, 10, 11, 14, 7, 8, 5, 13, 7, 8, 2, 4, 5, 12, 13, 15, 1, 4, 5, 7, 8, 9, 11, 13, 15, 2, 3, 6, 7, 11, 2, 4, 7, 8, 9, 11, 14, 3, 2, 3, 6, 10, 12, 5, 11, 1, 2, 4, 5, 7, 8, 9, 12, 13, 14, 15, 1, 4, 7, 8, 1, 2, 4, 7, 9, 10, 11, 14, 15, 4, 15, 9, 12, 12, 7, 14, 7, 13, 10, 1, 2, 3, 4, 5, 7, 8, 9, 13, 14, 15, 15, 1, 2, 4, 7, 9, 12, 14, 15, 3, 6, 11, 13, 3, 7, 10, 13, 11, 7, 6], \"Freq\": [0.9982961313973653, 0.02513155115750034, 0.33485334922144305, 0.18364284309503043, 0.006879586629706797, 0.015443969985056075, 0.03552113096562897, 0.38469525235503316, 0.007581585265391164, 0.006317987721159303, 0.995682498215021, 0.0076318873414601045, 0.870035156926452, 0.12083821623978498, 0.07362240879234082, 0.2760840329712781, 0.008834689055080898, 0.037179316440132115, 0.04748645367105983, 0.028344627385051214, 0.5286088951290071, 0.9986266661664246, 0.02023692907719734, 0.1904995535247711, 0.02853925895502189, 0.36192969311141393, 0.006940228882243959, 0.17778661089935227, 0.03191208046788811, 0.0650565380270158, 0.0027242019911611804, 0.10689249717699108, 0.007523986451778497, 0.997574212734981, 0.8752162497182521, 0.020246245036443372, 0.023138565755935283, 0.07520033870678967, 0.005784641438983821, 0.015522737483267993, 0.22965691097040083, 0.08278793324409596, 0.20537775747093037, 0.46687618122752195, 0.9972919754052403, 0.09257995817454119, 0.43541511578963904, 0.01432096228012434, 0.04122701262460037, 0.07724640260188281, 0.19326066268935474, 0.012295775695056252, 0.04744722856445236, 0.07753571497117825, 0.008245402524920075, 0.0004339685539431618, 0.9992088546196985, 0.8704498752156309, 0.005716197648260254, 0.028422204973294042, 0.00015878326800722927, 0.006986463792318089, 0.08812471374401225, 0.1708052404118102, 0.1449147618651779, 0.016900729051273853, 0.10751740396448685, 0.5444192294389066, 0.01582195911183084, 0.9992020104082485, 0.9950245805863557, 0.0002382447787765298, 0.866972749967792, 0.13246409699975056, 0.014287026136933133, 0.9848194913010115, 0.011616446793530388, 0.09105918654270696, 0.7668765483531624, 0.02223938169024568, 0.09426899420934036, 0.0001910599801567498, 0.01024081493640179, 0.0034772916388528465, 0.35821304507766466, 0.6417755853414343, 0.9983202718089644, 0.9971965048553305, 0.0043237000855640174, 0.13946232616415, 0.04268503914258945, 0.2613538711295186, 0.01839872376835752, 0.298427299522759, 0.10100899348828278, 0.004139712847880442, 0.13026296427997125, 0.8766817733433776, 0.12202896478772289, 0.3161126584222243, 0.6834616514610173, 0.9961497708189974, 0.07988591675479173, 0.9192206154584702, 0.9987658015476323, 0.08542683740167976, 0.03910774049882093, 0.0030509584786314204, 0.01719631142501346, 0.7613528203493862, 0.09374763325249273, 0.9969863273754427, 0.9925459577480625, 0.00652990761676357, 0.012362066616600074, 0.2238323125686524, 0.02551320131511079, 0.040768517565383224, 0.03208876866436615, 0.02551320131511079, 0.5649727466480204, 0.016570429720123504, 0.014203225474391575, 0.03734922254377043, 0.006838590043225573, 0.9993987666074772, 0.9990890612712667, 0.9761140273596598, 0.014374750753543376, 0.009240911198706457, 0.06547970485763033, 0.1558525206528722, 0.7781802940931605, 0.036235068791814144, 0.009545797692467167, 0.9526316472686622, 0.001461091483540893, 0.9991098772328444, 0.9986575746615944, 0.9983140788569845, 0.10060944828637727, 0.34873827166750404, 0.41941177981959116, 0.13116262429972497, 0.9983547400061085, 0.9994563009631303, 0.994858804192844, 0.9974708375819563, 0.1353745383232165, 0.00828340706523178, 0.16424812866488156, 0.48398764138282824, 0.097744203369735, 0.020590183276433277, 0.0395236851398202, 0.050173779937975345, 0.013338749819754907, 0.012782968577265118, 0.7419679587238667, 0.11671406092285544, 0.11504671719538608, 0.9979974777744322, 0.10607855331054591, 0.8933534381504353, 0.02448462238160523, 0.9750320735074794, 0.009616756076930508, 0.9899916116973462, 0.9960747870706665, 0.0028177504584743045, 0.7064745961983551, 0.29331311360020995, 0.9267367218137754, 0.07251336344372619, 0.16428957801947155, 0.03329390724640678, 0.004558094444448547, 0.6430876727058928, 0.12623939830929237, 0.010107078985516344, 0.018232377777794188, 0.9978589733456287, 0.970347750747541, 0.029173853944043714, 0.9989020228879263, 0.9989591620471863, 0.019544323037935886, 0.04299751068345895, 0.028665007122305967, 0.1739444750376294, 0.057981491679209796, 0.5911071923251277, 0.085560703077186, 0.029494603717673262, 0.9701530809614842, 0.999520200521938, 0.013258264677248976, 0.024622491543462386, 0.960277170195033, 0.08498232666201705, 0.7532863253681424, 0.014536450613239759, 0.09802785926364248, 0.04920029438327303, 0.6197513254553281, 0.3800740329248695, 0.9996937686573742, 0.217143343461732, 0.4536868580049206, 0.008175786384328134, 0.044204675535604664, 0.0005542906023273312, 0.05002472686004164, 0.19663459117562074, 0.006235769276182476, 0.0072057778302553055, 0.01593585481691077, 0.011604122530302675, 0.35932487751819187, 0.004835051054292781, 0.11523538346064462, 0.08147061026483336, 0.010234191398253054, 0.3130695557654576, 0.012490548556923019, 0.05592542386131984, 0.023369413429081776, 0.012329380188446593, 0.9997314106328413, 0.998617500946826, 0.9987416776932746, 0.9988492641510973, 0.9988029335286798, 0.9799024280695643, 0.01986651498004048, 0.9994044789609933, 0.99932548151196, 0.07242264054518957, 0.03558482684227308, 0.884859320986382, 0.0067661290474744585, 0.30002364684490274, 0.0069889035870692815, 0.01472661827275313, 0.6374878486205338, 0.03319729203857909, 0.004742470291225584, 0.002745640694920075, 0.09285512902498508, 0.774233335606904, 0.13283901020656227, 0.04458990775631214, 0.9538362876567641, 0.02246918950679293, 0.13248342869571303, 0.06316809880211598, 0.0052993371478285214, 0.04133482975306247, 0.468037456896215, 0.028192473626447733, 0.0939042542595214, 0.04599824644315157, 0.014202223556180438, 0.08436544739343006, 0.0646957531803951, 0.2563147008532521, 0.025592496740035813, 0.01610898271961645, 0.23358024943443853, 0.032088054288268254, 0.0033776899250808684, 0.0020785784154343807, 0.052614016140682764, 0.2912608004627426, 0.01195182588874769, 0.010133069775242606, 0.9997124734516044, 0.9968213824625426, 0.0267442528747131, 0.17320942298052444, 0.6750680205489662, 0.02441086168430189, 0.05151409781907825, 0.04882172336860378, 0.995450244607031, 0.998668036348596, 0.9944707478694537, 0.8509154132429071, 0.06208520233003141, 0.036264720987167876, 0.05077060938203503, 0.9979315044216115, 0.99948940095707, 0.9984375595320946, 0.9949285894491778, 0.9980969866804452, 0.9970225538196724, 0.9558395369931595, 0.016567077157776174, 0.027275066052436382, 0.9993347076024074, 0.9978440802476537, 0.9986858918032951, 0.9984914194296753, 0.017020385772431795, 0.9803742204920715, 0.9965595572716877, 0.04120975911078939, 0.957520873456577, 0.04785224758281339, 0.05627424315738855, 0.08766531757171413, 0.02526598672372547, 0.0214378069171004, 0.7614249635377266, 0.08760805396108422, 0.014335863375450144, 0.763782943169816, 0.08402408811722167, 0.021902013490271054, 0.018318047646408517, 0.0039821842709583735, 0.005575057979341723, 0.9974487059773733, 0.9889619506244993, 0.010532666514498593, 0.9964229187325242, 0.9997200829131788, 0.9968811198842867, 0.9989058162981175, 0.009644107969123862, 0.7344256110375851, 0.004554162096530712, 0.0008036756640936551, 0.018618486218169677, 0.2319943750350351, 0.9986292686342543, 0.9984802914931218, 0.9991104239133053, 0.9987108069854196, 0.9991977676559411, 0.9633670939406479, 0.0004785728236168147, 0.0358929617712611, 0.999456520366925, 0.9993119834563983, 0.9985562458005217, 0.09020710346853758, 0.013066209973158648, 0.8090999252609777, 0.08455345492245933, 0.0031409158589323673, 0.9988334722358462, 0.9964143174430318, 0.9975244753683669, 0.9996430174283998, 0.06297329503112246, 0.15028558373865725, 0.1984090117418927, 0.029761351761283906, 0.03087047046046219, 0.005607211201401316, 0.06044696910521638, 0.03050076422740276, 0.1025934796739911, 0.12157173297104171, 0.07757669123696985, 0.028344144534556102, 0.06697844588926627, 0.03401297344146732, 0.9998905468671652, 0.9973243643696508, 0.9999133186855198, 0.9994111062653415, 0.9978447262791893, 0.23017132707475402, 0.12900784103709362, 0.1806630229752945, 0.010018763247459615, 0.1314149464926521, 0.11729759828032264, 0.12412857322177238, 0.037863118246892834, 0.023810826938767658, 0.015548600104823689, 0.999704412185733, 0.9987968025816301, 0.998346609572391, 0.9252665488007364, 0.012414784001272708, 0.007485384471355602, 0.006389962353596246, 0.048198573181411686, 0.093568341988005, 0.9058500354780774, 0.14111750631538328, 0.04425166247420661, 0.7623829723902682, 0.05226574307977159, 0.4200458807359116, 0.06066378359074424, 0.11865279718189659, 0.0005349539999183796, 0.004814585999265416, 0.22628554196547454, 0.012517923598090081, 0.033916083594825265, 0.0009629171998530832, 0.12164853958143951, 0.9983034441352331, 0.9994083080542081, 0.005397068085549888, 0.03957849929403251, 0.9540817026788746, 0.9962850453810507, 0.9989943384758351, 0.9972985388783908, 0.9986380374633964, 0.07733275166132256, 0.8795011807146116, 0.00224861351227613, 0.040963872245378195, 0.07912240553345361, 0.0014473610768314684, 0.07381541491840489, 0.8452588688695775, 0.98318079788034, 0.015903019566094936, 0.9991540977560399, 0.8741599767013035, 0.02389866278952531, 0.10143654650665188, 0.9964472332523989, 0.9992158543966034, 0.6919688911937135, 0.053495296644729205, 0.019373972298361387, 0.020241463595302944, 0.06679682986449971, 0.03614547070589811, 0.04482038367531366, 0.012144878157181765, 0.020530627360950127, 0.024578920080010717, 0.009831568032004287, 0.5740338202716837, 0.0011660582535988932, 0.04147835787801777, 0.06213424694176959, 0.007329509022621614, 0.023820904323520246, 0.28984876589458203, 0.9984092953547659, 0.208892384750661, 0.16779551443023344, 0.009422209292976071, 0.14033077670389893, 0.0022051979196326976, 0.007617956449640227, 0.014434022746686747, 0.26261902497443945, 0.17801961387580323, 0.008620319140382363, 0.03765133642802485, 0.08007537747368666, 0.12090851698013615, 0.7535570290735678, 0.006893906669920044, 0.9991259643634695, 0.997427441239556, 0.02849554132958471, 0.09908676871423773, 0.24318354021043315, 0.07949608405014826, 0.45139527969819415, 0.01748590036133607, 0.08095324241359292, 0.055695489219896185, 0.005643155295407984, 0.005888509873469201, 0.673743671356101, 0.12267728903060834, 0.0044163824051019, 0.015211983839795435, 0.1162980700010167, 0.19389114059697604, 0.006127485255886376, 0.799636825893172, 0.5837763945004565, 0.02259469437951259, 0.01185820839775838, 0.0011217224160041711, 0.07852056912029198, 0.0759566321694253, 0.009614763565750039, 0.033972164598983466, 0.026600845865241772, 0.00592910419887919, 0.045990619056171016, 0.10432018468838791, 0.043159437193273205, 0.9549025479011697, 0.9980477496293657, 0.9984548687747941, 0.09740711105142802, 0.901711542304648, 0.9985533664149013, 0.8485042305828179, 0.004604076578330005, 0.05010318629359123, 0.011103949394795894, 0.0853108307161148, 0.7481431203461609, 0.12385835512297044, 0.06313715891834125, 0.01465684046318636, 0.015301097186842904, 0.02657558985083241, 0.006120438874737161, 0.0020938343518837658, 0.9968889636626067, 0.9949347453038829, 0.030492439538250232, 0.06641917523183219, 0.42055414135428293, 0.48234410134268435, 0.9951987796317182, 0.035991312298853134, 0.12302912635490319, 0.2232402311870041, 0.6174980051273822, 0.3070040132661736, 0.6929807694185801, 0.998621476231954, 0.9920549914939987, 0.007052523636213261, 0.9989853741135303, 0.336586923699954, 0.6453254910978689, 0.01804986056613645, 0.31349092426856695, 0.6698861479962241, 0.01658264334921891, 0.9978833801135117, 0.9960104390661655, 0.99691813242545, 0.08051403997654417, 0.06811370243271145, 0.13334770562538592, 0.010813564493200093, 0.026798833744017623, 0.0020569280285978437, 0.16949086955646234, 0.23731072512794552, 0.07316786844583759, 0.1983466313290778, 0.9977486698552468, 0.9986874904303988, 0.8731776837188577, 0.02747527631041686, 0.0006701286904979721, 0.06449988646042983, 0.03417656321539658, 0.9777427039621553, 0.02179885372768084, 0.9935622842481661, 0.3170725076008432, 0.03410254883286918, 0.6191236544062559, 0.029230756142459294, 0.9973450491006877, 0.9967860986118048, 0.8713612293899933, 0.12665815985749565, 0.9983131704690745, 0.9979330618985741, 0.9956357630913947, 0.9997532791510131, 0.07164500326939378, 0.05731600261551503, 0.8698546279295811, 0.999688770501542, 0.9952027119040335, 0.0045607123306253446, 0.995659564959584, 0.9993864364719341, 0.020822157362266447, 0.06246647208679934, 0.01784756345337124, 0.8983273604863524, 0.00037445963138369115, 0.8210027418087429, 0.08631294503394081, 0.07451746664535454, 0.01741237285934164, 0.999053220439797, 0.04018556745530753, 0.9585002015265944, 0.9964894675860806, 0.04639802470676306, 0.952665935862239, 0.9970307211435344, 0.9947429333760593, 0.04735353334701193, 0.028802664613130968, 0.2582476200058692, 0.6653903706389408, 0.9993409922189994, 0.9992556000922693, 0.03405151557949921, 0.09131997359956606, 0.024571264082934086, 0.15690783599416963, 0.42409614858103556, 0.06539438787426552, 0.004449913967775465, 0.1992787559482056, 0.010398370992864843, 0.9894699897897953, 0.031116318446619894, 0.020052738554488376, 0.3889539805827487, 0.03215352906150722, 0.011063579892131518, 0.5106533593961954, 0.005531789946065759, 0.9996340009270315, 0.9972323648474137, 0.9978539434222345, 0.04166331804647464, 0.9571599119624306, 0.06757683031046623, 0.010899488759752617, 0.010899488759752617, 0.9101073114393435, 0.9994169946449014, 0.9992370264033983, 0.9975108207621064, 0.995076845306198, 0.003129172469516346, 0.9988576791886651, 0.9998160261794443, 0.9979666432403038, 0.9995496772378949, 0.977910147604068, 0.021156709924126472, 0.9988308572732753, 0.9972597014259187, 0.9991957934577115, 0.9987505294442561, 0.998797513571466, 0.9991133292051244, 0.12697075119470347, 0.016827448953514918, 0.8560582213079043, 0.09773460144309822, 0.0320222584933018, 0.024683824255253475, 0.6637947333507352, 0.017011824824566583, 0.16411407477817175, 0.9984198001992501, 0.05293545137239559, 0.014044099343696789, 0.22983708733626862, 0.0024307095017936753, 0.5968742221071136, 0.10371027207653014, 0.9998448143208547, 0.9971849986012068, 0.007271708087610272, 0.135168220922638, 0.8195642762271342, 0.016254406313481785, 0.021815124262830818, 0.408163859644475, 0.5917869558071135, 0.031524912802060184, 0.04728736920309027, 0.0544521221126494, 0.8655021514747432, 0.9980393710718446, 0.10316521811902302, 0.19868091104685595, 0.0007580610549828011, 0.14685710074257718, 0.16601537104123343, 0.05954225013683092, 0.11825752457731696, 0.08359345997219433, 0.015023391816931875, 0.04830916359481305, 0.05368450562105473, 0.006133403081224481, 0.02925638335678898, 0.08846573062648097, 0.5512274134048971, 0.08196431210275008, 0.022754964833058097, 0.12840301584368496, 0.018575481496373957, 0.011609675935233722, 0.05897715375098731, 0.0069658055611402335, 0.001625354630932721, 0.9973821516942198, 0.18447524561329529, 0.7926182163215314, 0.02188689354734012, 0.08874876970543553, 0.0017232770816589425, 0.907736202763848, 0.001292457811244207, 0.9976453326309392, 0.14717818121189535, 0.04612107710704315, 0.34157930826717964, 0.0037778356674711107, 0.005509343681728704, 0.3718019936069485, 0.031167144256636664, 0.010231638266067593, 0.04155619234218222, 0.0012592785558237036, 0.07565767968657885, 0.9230236921762621, 0.9974495160849455, 0.9978985757306483, 0.022270932938097007, 0.6835463263308235, 0.29337671274223937, 0.8447787405405799, 0.15383587887055306, 0.9968439611345739, 0.04667972962223477, 0.10796183620321989, 0.15799293102910228, 0.011251011755102739, 0.05242492711420212, 0.013884227272254444, 0.006223963949631302, 0.6034851198854043, 0.9759607591939893, 0.022240392635787958, 0.8223320514910412, 0.03218624006477607, 0.12478763566097609, 0.02057808791026667, 0.00010211404651314755, 0.8741983521990562, 0.02205663404683987, 0.10354364316433161, 0.1663143591030384, 0.015653116150874204, 0.796743612079497, 0.021131706803680175, 0.01644293481525959, 0.03798884940077216, 0.20978916833262234, 0.029483883117017193, 0.7059122015516617, 0.996895840493219, 0.13152857431592307, 0.6215682868764617, 0.1018388718611152, 0.14461758292503193, 0.999565417503066, 0.9972459708884561, 0.9990940326380786, 0.08725845641047839, 0.7858304918354065, 0.12609603527525778, 0.3021420929335096, 0.005138996105811207, 0.1091540417496123, 0.005315442324036484, 0.003153976150776835, 0.053926375445100434, 0.0050507729966985685, 0.056948016932208315, 0.01049854998440401, 0.23990068945454293, 0.08963467885844097, 0.09841287821514852, 0.020710374864191947, 0.932698186172557, 0.03284599146365739, 0.00021328565885491812, 0.03433899107564182, 0.9995093118403945, 0.07976998470198715, 0.19671238041119754, 0.07133084274359053, 0.022303446604333938, 0.001406523659732771, 0.011252189277862168, 0.10337948899035866, 0.07404342408736088, 0.0035163091493319275, 0.07464621994153206, 0.02330810636128592, 0.006228890493102272, 0.0023107174409895525, 0.24965794960256685, 0.07997091665337755, 0.9204333494488467, 0.03036151673529182, 0.048471895138799216, 0.02052240151260605, 0.46641821619559204, 0.01231344090756363, 0.39962712763638325, 0.08097020233155477, 0.01996269965317134, 0.9495889192426069, 0.04014381380009804, 0.0014440220791402173, 0.008375328059013261, 0.9989461019274896, 0.06483913091619146, 0.0035738103654593717, 0.01455051363079887, 0.3321090918187602, 0.18583813900388732, 0.05845732669215687, 0.3402778012255245, 0.9973054666831409, 0.9996158864469121, 0.9987846613044126, 0.9982646368245768, 0.9975091471509161, 0.9983197450852641, 0.9991797864970439, 0.9988516283290901, 0.8406418531045715, 0.15856008936606553, 0.9995670222751499, 0.9983168232266035, 0.2876049193880313, 0.7054234886755243, 0.006869068687356926, 0.9976473050039866, 0.06346763453469433, 0.020766709381997827, 0.06977713714597117, 0.09486610422230826, 0.0004719706677726779, 0.04948239843174602, 0.20602761676350476, 0.4241029058359437, 0.019102391764062594, 0.03353475797332185, 0.004024170956798622, 0.0048687500464970985, 0.009489094478376998, 0.8479982512842371, 0.1516067600527811, 0.0011632004257629415, 0.11859991541078953, 0.03405850846633893, 0.02247303222574003, 0.010189635729683368, 0.0010701443917019062, 0.8076333196157256, 0.0029312650729226126, 0.0007444482724882826, 0.0010701443917019062, 0.004517752341788479, 0.0021399879513734903, 0.009511057561659956, 0.021399879513734902, 0.7242670333204058, 0.018308785806195417, 0.019022115123319912, 0.2006833145510251, 0.17377408792931223, 0.012605374253939748, 0.8053933764392217, 0.008103454877532695, 0.9980919599199262, 0.045664257726018447, 0.2716161744929682, 0.1744719281041271, 0.10891930655718551, 0.004738743726284933, 0.2771447088403006, 0.06964517294691493, 0.007754307915738981, 0.039920325936582166, 0.15696706727786558, 0.8425088421694527, 0.8493347361791448, 0.03587252301874649, 0.11465139709913093, 0.18183576818904926, 0.12815387758033678, 0.012101697882888944, 0.00837809853430773, 0.11822427931745354, 0.08812518458308873, 0.09836508279168706, 0.36460243621524385, 0.08281089551622783, 0.20561166792704433, 0.46961563397450573, 0.01822547486788775, 0.03963598417870734, 0.12934778765462082, 0.054853370961603906, 0.000781389116243496, 0.06199020322198402, 0.07761798554685394, 0.5107680189844985, 0.1114781805840721, 0.22998886321433568, 0.007292965084939296, 0.05629262697052656, 0.8737084811050476, 0.020914274603633133, 0.027755392464634623, 0.012314012149802685, 0.008795722964144775, 0.9999252806256061, 0.9972837623879721, 0.9974306185383275, 0.998824266025277, 0.39952032874054133, 0.6000648916620042, 0.07753747940248751, 0.20176509505058102, 0.0839081263588, 0.07980073555801959, 0.04660631194354925, 0.10830099825731229, 0.061107916199365835, 0.09346409679326872, 0.02212961574298022, 0.03218853198978941, 0.022045791440923477, 0.0360444498843996, 0.0453489474126981, 0.08960817889865855, 0.9984592944486722, 0.9964800879534443, 0.9980237508912383, 0.4953643261105399, 0.019127652952971804, 0.005724334095414919, 0.014659880000452843, 0.04600409962046868, 0.27553593505613033, 0.09926833028878068, 0.04432868476327407, 0.05045585667495377, 0.027863682044377454, 0.8509719110850412, 0.07078881384247246, 0.9990139083740346, 0.029725997301338517, 0.8716429531263455, 0.09780812015279125, 0.03166288332168596, 0.5577049381504998, 0.1188064885351654, 0.005159353755542578, 0.1000773276417574, 0.00021202823652914705, 0.10961859828556902, 0.021980260520188245, 0.0025443388383497643, 0.052088270107327125, 0.9984331070011783, 0.9994456016585593, 0.010285183796647498, 0.020570367593294996, 0.968521474184306, 0.07968940640169166, 0.07707663897868537, 0.8413111102080234, 0.05622771427548984, 0.1864292200695257, 0.1829944954418374, 0.03778197090457123, 0.1321096861427516, 0.06316076954249028, 0.03212103587004793, 0.022643740138093192, 0.049994325136351825, 0.04140751356713109, 0.047958932764388396, 0.030530885579451498, 0.09407329119168492, 0.02207128603347848, 0.00044524208136700096, 0.9985009399285762, 0.9988973099251134, 0.05124543329685237, 0.07609170398623533, 0.8723370349850551, 0.08881115893422988, 0.2049307711442714, 0.09014137012531526, 0.08020391005073624, 0.06838850476521315, 0.0818471121103123, 0.092097563053382, 0.07425708354941335, 0.027856187295670343, 0.0220658562285928, 0.005555587915709534, 0.02793443501279301, 0.040375822035297465, 0.0956969580410248, 0.9948277266028941, 0.01958947287904989, 0.8947191898635439, 0.00799570321593873, 0.024386894808613127, 0.03757980511491203, 0.015591621271080524, 0.008175111216686888, 0.060632074857094424, 0.931281419434248, 0.9970135069960514, 0.016829321610125215, 0.9829433445913792, 0.999136669350368, 0.033340237766941797, 0.9655845784041222, 0.998690371971375, 0.9996086286802284, 0.9978349401136828, 0.9968911538931798, 0.9762012182563637, 0.02237373117837263, 0.031987896689726986, 0.7942594748059211, 0.06813421994911847, 0.03582644429249422, 0.01887285904693892, 0.006077700371048127, 0.007996974172431746, 0.005118063470356318, 0.011835521775198985, 0.010875884874507176, 0.008636732106226286, 0.9972259331122935, 0.09618428516913827, 0.18425664267340947, 0.10812040730458555, 0.004635387237066905, 0.02653759193220803, 0.38033352280133953, 0.044152063433062265, 0.15574901116544798, 0.9619153569581288, 0.009006698098858883, 0.028821433916348428, 0.998989190938651, 0.9601309078443147, 0.012384505548607996, 0.027312257772376565, 0.2218900442011625, 0.007898524974860103, 0.038468742007189013, 0.038029935064141235, 0.0735732974510117, 0.16952574899746034, 0.049438915583383605, 0.05880013036840298, 0.2703050769174346, 0.03422694155772711, 0.0378836660831253, 0.9982782426495374, 0.9979871200953968, 0.8842435471913531, 0.07044288216618745, 0.0111225603420296, 0.017610720541546863, 0.008805360270773431, 0.007724000237520554, 0.9974688759536955, 0.06784141383906193, 0.9302101551394455, 0.11686876414807314, 0.1361105884012221, 0.010532366959618377, 0.1794553293504208, 0.06400438383152705, 0.21166006678463853, 0.2738415409500778, 0.007494184182805384, 0.09802004500688659, 0.10097656608598062, 0.0006822740951755447, 0.1475986292563095, 0.13827421662224373, 0.04298326799605932, 0.003411370475877724, 0.0006822740951755447, 0.28814709286247175, 0.011826084316376108, 0.03138460837807506, 0.13554512024154156, 0.013925723573417552, 0.26409492791006056, 0.5652263546855932, 0.001185167963695111, 0.10834410468112805, 0.00691347978822148, 0.010666511673255998, 0.00019752799394918513, 0.012543027615773257, 0.016789879485680736, 0.9987876547989768, 0.0666910876820545, 0.8075471704939302, 0.1256600494219764, 0.9974155757141913, 0.9979710959878375, 0.9982190975845259, 0.9961056631245718, 0.4802650403729844, 0.0048345142476347094, 0.07504484616214788, 0.03999461786679623, 0.025491075123892103, 0.22128890215309782, 0.1530563260671625, 0.9982881453833159, 0.8980762791306249, 0.05586525393272502, 0.02497007562144527, 0.02073785941442065, 0.00033554024867919887, 0.6303682805186549, 0.36909427354711877, 0.06941799482851925, 0.28383804762262743, 0.0006630180976935936, 0.06424645366650922, 0.006630180976935936, 0.04800251027301618, 0.09454638073110645, 0.0998505255126552, 0.1083371571631332, 0.00039781085861615616, 0.0015249416246952653, 0.007558406313706968, 0.04840032113163233, 0.166417542521092, 0.8790161077177059, 0.12093845777324141, 0.9877228294911228, 0.012208238912211638, 0.9949272583662201, 0.5862606737889325, 0.01530928786914375, 0.08130932890500792, 0.08198974169919207, 0.015054133071324687, 0.019817022630613853, 0.03733765208085614, 0.09296139800541177, 0.004337631562924062, 0.06013148068602572, 0.005358250754200312, 0.9973910568597515, 0.04259977166828672, 0.002505868921663925, 0.17209661078137084, 0.7617841521858332, 0.02101696514943937, 0.037954951489138945, 0.028466213616854207, 0.6395757536484032, 0.03995716223283206, 0.19186402083041798, 0.01140389597494771, 0.012448527667309334, 0.03812905677119922, 0.9573898133658869, 0.042349748205548675, 0.14518440520071121, 0.8537190772880143, 0.023206334391794536, 0.3381494439947204, 0.06354115369181838, 0.5751855738537646, 0.153731284980134, 0.6302344795036199, 0.022645064799978243, 0.03604073693517664, 0.1569207307266098, 0.9538724936466332, 0.045251481249802626, 0.9982740190753655, 0.9685832647824351, 0.03126295749004339, 0.9978979260524087, 0.9997262067938487, 0.0003882455838022792, 0.18499902068178603, 0.00465894700562735, 0.5654796928080197, 0.010870876346463818, 0.23352971865707095, 0.9986290861567831, 0.9979221626995929, 0.9982212662531696, 0.06487997794881215, 0.07564608782678096, 0.2604643073985792, 0.037303626331558655, 0.011332747239967186, 0.007555164826644791, 0.1045445932886973, 0.018887912066611976, 0.09963373615137817, 0.11918272514032158, 0.11191087899467597, 0.0005666373619983593, 0.0482586153301936, 0.039853494460551274, 0.00687949129699814, 0.8542533540968126, 0.08075924566041295, 0.05772790523133222, 0.1060583014268619, 0.2129194666041164, 0.07273945578556917, 0.012765533631242273, 0.05170442552528317, 0.20762056585152527, 0.20015393297287412, 0.07145487378494102, 0.05339043940110762, 0.0014451547507066723, 0.009634365004711149, 8.028637503925957e-05, 0.8616800159494921, 0.1372666006908235, 0.9958944075588643, 0.028885756716596784, 0.970561425677652, 0.16258256336121424, 0.8370299233916222, 0.9982104700113265, 0.02418992695658365, 0.9756603872488738, 0.9799151620118791, 0.013194145089566792, 0.006846961656328221, 0.011434981676692794, 0.49135769750152675, 0.05093764565072245, 0.445964285391019, 0.10655000550529274, 0.8931522373830116, 0.016979480860248173, 0.10127317028645799, 0.09353807345012272, 0.0014338228281987346, 0.1350057389288177, 0.0010565010313043307, 0.5337594138868237, 0.02165827114173878, 0.07972809568378753, 0.002075269882919221, 0.013432655969440778, 0.04020991809245346, 0.9597442915008288, 0.9984619318684579, 0.9998473672253458, 0.9901252167440098, 0.009296950391962534, 0.9983102104578997, 0.0312988771636264, 0.9669705734236156, 0.10168864585461483, 0.8974022996669759, 0.16283803745970937, 0.836435820831294, 0.11436180440101495, 0.8841047186386156, 0.014095399917631833, 0.01490085134149651, 0.954057211567709, 0.0169144799011582, 0.9976098029151494, 0.9729584808583283, 0.026971332683368144, 0.18914586436316028, 0.8106582873871396, 0.9981066568130859, 0.06258191042222583, 0.2933689348527371, 0.1515209324953061, 0.07511127630551379, 0.057063795914042016, 0.023630513893869505, 0.07511127630551379, 0.04459934902496799, 0.026876463604565866, 0.053103737266992454, 0.009802768126303008, 0.025643002714501248, 0.05024730152157966, 0.0448590250018237, 0.006556818415606648, 0.9978542541634348, 0.9994721415338604, 0.06713307928544847, 0.3812324087919768, 0.03252302027559291, 0.299142218577646, 0.21983474667566544, 0.9978184374429495, 0.9986680522274016, 0.9987762245527632, 0.9952251457745979, 0.9998840591670575, 0.02241197835932443, 0.9429839894685754, 0.019610481064408877, 0.014847935663052435, 0.9980938501648904, 0.3061427891325003, 0.043383871187225975, 0.21569151052517066, 0.4346572754795659, 0.9994917354333644, 0.9982298714540895, 0.01357424697327716, 0.5370680324209659, 0.008360949222670715, 0.0007869128680160673, 0.017508811313357495, 0.26951765729550303, 0.0017705539530361513, 0.009442954416192808, 0.10347904214411284, 0.031279786503638676, 0.006983851703642597, 0.9989514068061691, 0.9973468390167156, 0.9963865047287901, 0.9711131333598529, 0.0019477913849624557, 0.026712567565199394, 0.08806264957240696, 0.0023174381466422884, 0.908435753483777, 0.9989880948090853, 0.9057178083139031, 0.0816001512939627, 0.012503248988591058, 0.9981367614806519, 0.9995730042711513, 0.003564687732902155, 0.13456696191705636, 0.14214192334947345, 0.7193985430963162, 0.1650078451814325, 0.8345703649790143, 0.04546104217716, 0.12601800891508752, 0.00672823424221968, 0.7852031204839075, 0.01654781935248624, 0.01982101438924176, 0.015047789342573522, 0.00487261750140476, 0.951736847847912, 0.018630596328900552, 0.00974523500280952, 0.30273140190645254, 0.16215370462145767, 0.06750843532594294, 0.06183639216017179, 0.05838867964764422, 0.0509371719592782, 0.0003336495979865384, 0.09520135195882563, 0.007117858090379486, 0.01267868472348846, 0.13957674849103524, 0.01267868472348846, 0.028805081959504483, 0.9974754223347566, 0.9169451969219402, 0.08252106184618596, 0.02550236020486469, 0.9733400811523356, 0.9995197852237347, 0.9945903539071772, 0.9986125393538344, 0.018433968790151755, 0.2428256434266354, 0.17679851885100092, 0.18903197086628346, 0.08529900103806586, 0.054631580232631566, 0.023461414823829508, 0.20964449960436224, 0.09448721323699312, 0.019518485363510314, 0.08894218898599587, 0.03437915035618294, 0.5312133232455364, 0.054119436689733146, 0.0507924221391348, 0.10114124233818982, 0.007319432011316368, 0.009093839771635488, 0.008650237831555708, 0.9982384826156312, 0.12681491470433146, 0.8716986369967638, 0.9986448716567086, 0.9989237992757074, 0.9989827376697473, 0.9998066028685426, 0.08071375238940566, 0.1285496093100993, 0.053981949992547455, 0.0712354401822094, 0.04243025699002701, 0.041319517278246204, 0.10070706720146028, 0.04820610349128723, 0.152763735026921, 0.039542333739396904, 0.035987966661698303, 0.055611034903159315, 0.024584372287415304, 0.12329210800767013, 0.0009626410835433703, 0.24669728304467087, 0.07645400950711054, 0.0034074210365286034, 0.1457098420745544, 0.022063051211522706, 0.22663609169210872, 0.044381659000785056, 0.10239300214768453, 0.0004259276295660754, 0.05656318920637481, 0.011500045998284036, 0.06376136614604148, 0.9988731230028033, 0.9981397393527524, 0.9988733673287483, 0.033420959576932106, 0.9661695586785828, 0.028449509833844484, 0.04582917148331368, 0.5756321055875149, 0.04903942745678252, 0.007306099801687688, 0.01981502825003176, 0.09962863365937757, 0.0006641908910625171, 0.037305388381344715, 0.0866769112836585, 0.01594058138550041, 0.03365233848050087, 0.1006748863091537, 0.8992435272687829, 0.9970364929924745, 0.9987385688334595, 0.015844847358702736, 0.8787466697312977, 0.04068271619126378, 0.06466410678821928, 0.07121011695387217, 0.022475693163565902, 0.008011138157310619, 0.5699034672464582, 0.044283791480689255, 0.05496530902377008, 0.04383872824972755, 0.07877619188022109, 0.1061475805843657, 0.9979187785104725, 0.2106158174983658, 0.07181374909310856, 0.16818042030698346, 0.025830241768667505, 0.038745362653001256, 0.3000281928514456, 0.09423780513403969, 0.0031223369170916763, 0.008515464319340936, 0.040448455516869444, 0.0026965637011246296, 0.035764950141231926, 0.9977028337542496, 0.14584031111180362, 0.010453148378479878, 0.13824183779250698, 0.042946067434477576, 0.06960369482538008, 0.2240500116303097, 0.043995580323883184, 0.017463894479709356, 4.1980515576224415e-05, 0.12438826765235293, 0.04928512528648746, 0.0625929487241506, 0.020234608507740167, 0.02577603656380179, 0.0251043483145822, 0.1319420579892863, 0.013266568902030616, 0.17294781641374457, 0.015678672338763456, 0.0465535963289438, 0.03859365498772543, 0.008201151684891654, 0.14786194067172304, 0.06271468935505382, 0.3244279122405669, 0.03787002395670558, 0.5399556618903039, 0.04884021062324357, 0.02750345194187706, 0.026516781020195373, 0.051676889523078424, 0.0995304292246403, 0.04008350619331859, 0.04230351576710238, 0.0691902983829284, 0.027750119672297482, 0.02639344715498516, 0.9969879854837767, 0.026658274807039244, 0.2358424249335253, 0.4642705171863428, 0.06797860075795006, 0.06797860075795006, 0.00599811183158383, 0.06439639508075418, 0.009746931726323724, 0.0056648833964958395, 0.025575282393003274, 0.0023325990456159336, 0.023409297564931337, 0.0731804973225975, 0.8741003846865812, 0.05217498420222229, 0.03866294061442779, 0.023543354899288434, 0.10821303490406886, 0.06112632510549199, 0.03628700571633447, 0.024407331225867825, 0.10778104674077917, 0.053998520411212, 0.016631544286653296, 0.03261510632837205, 0.00043198816328969607, 0.14363606429382395, 0.05270255592134292, 0.29245598654712424, 0.007775786939214529, 0.06314453450471696, 0.9080458603232668, 0.027454145436833464, 0.9542853068658341, 0.044962264661428414, 0.9971751134422217, 0.9992406893901649, 0.0369037381405367, 0.16133557315285915, 0.019398118766179546, 0.0350112387487143, 0.06245247993013902, 0.6689985350092165, 0.016086244830490353, 0.3480718729156017, 0.11400220304241436, 0.008540881661158078, 0.5292871012045209, 0.025555046389191455, 0.04700303175154857, 0.004563401140927045, 0.5985661163182642, 0.11956110989228859, 0.05217488637793255, 0.012016956337774554, 0.0471551451229128, 0.0702763775702765, 0.023273345818727934, 0.33159374578803946, 0.32846365733222316, 0.03883265990497099, 0.01359632172995206, 0.11845428499979817, 0.06357992175876863, 0.10554267011955593, 0.9978182227714972, 0.021670190532161078, 0.20175694633391347, 0.5586923834900839, 0.09340599367310809, 0.013450463088927564, 0.062270662448738724, 0.0485711167100162, 0.015002741021953333, 0.08599785478655393, 0.483838397957995, 0.4149865329108163, 0.9976980214018315, 0.9995101442245522, 0.047174691917313036, 0.06853681655911517, 0.008604189091836969, 0.021362124641802132, 0.8527048086186018, 0.0011867847023223407, 0.9994629196885892, 0.9985492171243792, 0.9980857217517272, 0.999689137176879, 0.8253720486019931, 0.05970590164100021, 0.0722601988075675, 0.04262621828648426, 0.8438875582515182, 0.15509284854352226, 0.05504554445964897, 0.037745516200902156, 0.07182132943782771, 0.8041891923914432, 0.03040611027294896, 0.08979416415149925, 0.9096735423589071, 0.9975096578855137, 0.26485553440807347, 0.09991182166959997, 0.6351537234710284, 0.03437407729647439, 0.1016749023190453, 0.03943973079279693, 0.011216804170428486, 0.8133992185523624, 0.9973319859097703, 0.9993849838570987, 0.9991386494218412, 0.24294018156936217, 0.05749455961071012, 0.676202755778642, 0.023357164841850984, 0.19664772821532575, 0.7793412270284799, 0.023561478956674972, 0.9967368210272692, 0.9821336195659314, 0.006402435590390687, 0.0102438969446251, 0.9994470525458004, 0.33328044464734513, 0.183187245402954, 0.4833736438917363, 0.01839459700375759, 0.02570527017191766, 0.6813075736391754, 0.0818323738500498, 0.03808624892444681, 0.052118024843979836, 0.10246733843759837, 0.9960118932393686, 0.999095192510223, 0.034303283187097654, 0.2569589495180751, 0.21844667452887956, 0.0638714505968352, 0.15983646368466667, 0.04861385531423042, 0.04545711146265702, 0.08060219301017424, 0.04145856925066404, 0.020203160650069784, 0.03019951618005223, 0.9974708091968685, 0.998530167792282, 0.9969762417397123, 0.9994478284703157, 0.9983206908382193, 0.9986491185542716, 0.28404743538033583, 0.00687575141198432, 0.28618906286931456, 0.020739971472215, 0.00033815170878611413, 0.033251584697301224, 0.042268963598264264, 0.031673543389632686, 0.05297710104315788, 0.12691960803105484, 0.11249180178951396, 0.0021416274889787226, 0.9993703803614731, 0.19529462421536595, 0.09600326203425508, 0.039179334144225655, 0.06696609594864102, 0.5515209105479709, 0.008011849653606429, 0.04274530190912563, 0.000231556348370128, 0.1359404770213854, 0.0029690587804982772, 0.023434356803218544, 0.025979264329359927, 0.00010603781358922419, 0.01802642831016811, 0.26806359275355873, 0.20889449277077166, 0.04358154138517114, 0.004347550357158191, 0.2678515171263803, 0.0008483025087137935, 0.9987688895193746, 0.998595328019695, 0.6507328451470646, 0.058217914184956185, 0.017085692206454534, 0.059061652071694684, 0.016241954319716038, 0.010968592527600442, 0.014343544074554423, 0.024890267658785617, 0.14280263733049037, 0.005695230735484844, 0.03531888059467188, 0.03259549703074537, 0.17455186530041453, 0.003659546664026243, 0.01974453083846717, 0.49642176026197854, 0.028255104475737505, 0.05157407624185822, 8.510573637270333e-05, 0.07599942258082407, 0.0817866126541679, 0.9973962364625488, 0.2051390395923283, 0.7946278039226992, 0.9958731304928321, 0.997933729115407, 0.9982722884390963, 0.9990922818426687, 0.139773243271482, 0.5819868663803949, 0.030846508859913267, 0.0038558136074891584, 0.028677613705700614, 0.05807819246280545, 0.03807615937395544, 0.08024912070586811, 0.005542732060765665, 0.01903807968697772, 0.013736335976680126, 0.07999104050440678, 0.02941374583570115, 0.6585809433456988, 0.23172292451052368, 0.9989979188390833, 0.11064069478056959, 0.009629838249419946, 0.016391214041565867, 0.17559088042027435, 0.0522469947574912, 0.215134684295552, 0.04548561896534528, 0.3540502232978227, 0.021103688078516054, 0.9992234075507003, 0.30123829718428097, 0.6095784795674055, 0.08906947686882964, 0.058400335490100444, 0.940506895430125, 0.9995500344136533, 0.9989273421143605, 0.011194361816825624, 0.12441490338624069, 0.26749417048608604, 0.02324000590109046, 0.0021494877252840076, 0.09098079233256567, 0.291308791917698, 0.024410519018819375, 0.007235899273233293, 0.0006810258139513688, 0.06831540196199667, 0.016663850385122553, 0.01791949172959539, 0.05401385986901793, 0.9959495355890443, 0.04803755500230522, 0.9503081533064729, 0.9963243403972377, 0.9240862584756847, 0.05884249703549614, 0.01665353689683853, 0.9954518716448845, 0.02874386368014074, 0.9708792724576768, 0.2733577551863004, 0.7262165255807723, 0.05353506156430979, 0.0005050477506066962, 0.7265111892477324, 0.0588380629456801, 0.16035266081762603, 0.9985913197522924, 0.15032948474599803, 0.8489681645435151, 0.9978747652277281, 0.9318799165970441, 0.03925009624328051, 0.028714544093768373, 0.015416032558976889, 0.98368969662043, 0.05671412797209082, 0.9432085695317207, 0.012705766781693812, 0.335955421668904, 0.44189909468685096, 0.2092714528749569, 0.5010286063266012, 0.018586763895679495, 0.010039565899856077, 0.030525707127940775, 0.24814008149779412, 0.19156577095401053, 0.9999035935517717, 0.9984734563012905, 0.9976344243642173, 0.19716411093353897, 0.06409575337768758, 0.6521046213208215, 0.08638992846557891, 0.050716225690458985, 0.9480032955985794, 0.997410460823292, 0.01123565845114581, 0.21123037888154125, 0.7763839989741755, 0.9894932971101704, 0.010170380784001752, 0.999337061203815, 0.9990636805828895, 0.9984316693879058, 0.032220542998344856, 0.05277502732487519, 0.07388503825482527, 0.045553181480418585, 0.746627754996129, 0.048330814497517284, 0.9962058975830962, 0.056352910190706464, 0.009497681492815697, 0.011397217791378835, 0.09877588752528324, 0.02279443558275767, 0.8003379604612694, 0.07382957397637752, 0.9168053932700551, 0.003907188038441148, 0.005372383552856578, 0.9986157060411177, 0.23951194853815022, 0.032341143736071165, 0.7058806154568575, 0.02156076249071411, 0.038232055493649074, 0.9317952129614938, 0.029340879797451615, 0.9999136974989566, 0.015690255808253405, 0.9584131256208122, 0.025875158701330177, 0.04423417990846182, 0.026020105828506952, 0.9289177780776982, 0.9977135206000192, 0.5869760605266726, 0.08225452257794998, 0.00016223771711627212, 0.3137677449028703, 0.016548247145859757, 0.022616870506827598, 0.7985495048179899, 0.169626528801207, 0.009133736166218839, 0.910590538968052, 0.04253289141676676, 0.04688284622075427, 0.05613906957778051, 0.9437100528294052, 0.998300206219673, 0.9983568125119385, 0.3993394890508079, 0.03865528605838952, 0.2542133659560464, 0.1033058299901065, 0.06650734806552608, 0.07781697324418153, 0.034646277133119865, 0.02548885674592497, 0.999445221100569, 0.009947061194622346, 0.9706876058459514, 0.0075209487081290905, 0.01188795118381695, 0.09149833558388315, 0.24282250597261296, 0.1534898114676383, 0.0005414102697271192, 0.02057359024963053, 0.08012871991961365, 0.0018949359440449173, 0.3879204582594809, 0.012181731068860183, 0.007850448911043228, 0.0008121154045906789, 0.9998439785211725, 0.17217560834889703, 0.827057832961666, 0.9992210396507739, 0.00578395203926037, 0.10519562771404799, 0.24473347066120443, 0.64382616137017, 0.9976324538335514, 0.9991920559807977, 0.999505454086963, 0.011374395959227417, 0.06642647240188812, 0.7454779111677649, 0.057781931472875275, 0.05891937106879802, 0.05982932274553621, 0.994764595306345, 0.04134649420950748, 0.011064554788459746, 0.9474752968854742, 0.9981893408038354, 0.9982406163037952, 0.9877243457275071, 0.011471827476509955, 0.11777997530668702, 0.08378864044184228, 0.3055821004349542, 0.0028892634635118027, 0.48981513540241267, 0.06019473652762963, 0.8486960373234393, 0.04825528465438078, 0.042285558717756355, 0.056771691501676054, 0.9054725480014155, 0.028026531247662863, 0.009701491585729452, 0.9996821496311646, 0.9824412276484249, 0.01722482228902243, 0.022987803124217835, 0.8062150952850683, 0.1702192088483749, 0.1730762921806449, 0.062331671659463024, 0.7643194301543864, 0.9957244131514241, 0.0014318403667874181, 0.06156913577185898, 0.18112780639860837, 0.7531480329301818, 0.0023864006113123635, 0.018338716238856956, 0.03368335635708421, 0.014970380603148536, 0.9330289710912326, 0.20606996824395313, 0.7832016750227345, 0.010184677178449083, 0.3926690879872888, 0.6044772859087844, 0.002813391623245672, 0.9996182297073941, 0.28305231283002996, 0.0487011094519974, 0.6680840165050319, 0.9985136514916041, 0.01087143242013312, 0.4413450871205655, 0.547604571743157, 0.999023517779627, 0.9301732289382802, 0.06959073786871578, 0.16399976534510374, 0.3500667774033101, 0.4854794276882582, 0.24700631653803756, 0.7529228684834157, 0.00799105296579878, 0.969314724751392, 0.022374948304236586, 0.09025747965290143, 0.05403951011065436, 0.004599107243459946, 0.031043973893354632, 0.08163415357141403, 0.715736064763454, 0.021845759406434743, 0.9986239331883805, 0.0010601103324717415, 0.22649003596260328, 0.04450330531195012, 0.6423840201278513, 0.05033111910280073, 0.03602648525253105, 0.9989683265184099, 0.9529264528527486, 0.03261694570167126, 0.014070055008564073, 0.12249418474998039, 0.8094322016880534, 0.014391393290298241, 0.03346835648906568, 0.018909621416322107, 0.0011713924771172988, 0.9990828696755076, 0.7218121735987665, 0.07196954223565413, 0.009374184072711253, 0.09555619893473406, 0.06894561188961824, 0.032356054702584, 0.039023039602224405, 0.1160935428166176, 0.007414377524422636, 0.1143375060345175, 0.18672524449664377, 0.018731059009067713, 0.056388292225214263, 0.1763841390020543, 0.007804607920444881, 0.2745270836016487, 0.0027316127721557083, 0.9674662093085473, 0.013412732256839414, 0.018078030433131383, 0.9992270250590414, 0.010477850504501425, 0.0007666719881342507, 0.07641164148404699, 0.18757907976351332, 0.05238925252250713, 0.03858915673609062, 0.23179049774592178, 0.37848040480894174, 0.014566767774550763, 0.008177834540098674, 0.0005111146587561671, 0.9970563241473813, 0.9994963076055104, 0.7757564343123687, 0.11812781000136285, 0.015649410726676274, 0.05972017061180011, 0.02892616885930808, 0.00181735092309789, 0.9974992333941352, 0.999815336728569, 0.99961795505961, 0.9995659505401823, 0.9455801596158736, 0.054312858409364465, 0.9305041063858273, 0.03301963379263261, 0.03626746662469484, 0.880118799989464, 0.11953731399488576, 0.9053953868126725, 0.09343938155717972, 0.9007824484376151, 0.01539001853401051, 0.08371237354105716, 0.9997532309485251, 0.9972053007051779, 0.11289193088710596, 0.031001411072624954, 0.13511935769389366, 0.7208315517955626, 0.99771201890596, 0.9981517021284565, 0.9975641652824077, 0.6214556659814946, 0.17272623458619688, 0.16785709740943464, 0.02601144333901926, 0.011788437375319073, 0.9341843175767857, 0.000633130679482742, 0.06489589464698105, 0.009071090651824295, 0.877344548981131, 0.11338863314780367, 0.9994294949615511, 0.9979035499319476, 0.9996962317127958, 0.9984325776541338, 0.9944493915682195, 0.9971723332457819, 0.9788995983369502, 0.02045641447047099, 0.1644417500281336, 0.8248258602206913, 0.004798035146709468, 0.0061065901867211414, 0.9984610391724333, 0.07707000201110442, 0.6555339123222412, 0.004740068460819634, 0.1077926679608613, 0.15466667829563324, 0.3239392153052823, 0.02570946153216526, 0.02956588076199005, 0.6202407594634869, 0.8932458108541517, 0.07678889192628202, 0.018008359426366645, 7.795826591500712e-05, 0.011849656419081082, 0.9129341109781491, 0.02472566159811123, 0.062162402750181055, 0.9998142611311412, 0.9968656808032325, 0.031891345933855, 0.011240392419309549, 0.9567403780156499, 0.9992931283126736, 0.14786169990103498, 0.022610642238387643, 0.8291560515577152, 0.9982794884638463, 0.13700176941128978, 0.04269516969137817, 0.0054869294382494035, 0.1452321635686639, 0.29646565621041304, 0.0500682311240258, 0.0029149312640699954, 0.048696498764463456, 0.02486264901706761, 0.19701506014214262, 0.01697518794958409, 0.03275011008455112, 0.08811919080675178, 0.06179787407226748, 0.011558491261664843, 0.053443717021757244, 0.7743044740240033, 0.0010299645678711247, 0.009727443141005066, 0.9998037162155335, 0.99868297095422, 0.060742046809697886, 0.7854180935082761, 0.01679977588151569, 0.016685491691845515, 0.12034125172269403, 0.257874092545873, 0.5674692114492811, 0.008955230712082053, 0.042948555455903724, 0.023210495927233076, 0.011331108247940556, 0.08224191470279436, 0.005848313934420932, 0.9988463268260879, 0.4142163371025747, 0.15431589029311607, 0.431288879208043, 0.6136892122710333, 0.07678193133784104, 0.05186744034326136, 0.027066197035020664, 0.0006794861180339915, 0.0079273380437299, 0.03329481978366559, 0.18867064544077167, 0.03263127786605123, 0.9401335731138004, 0.02557586643555367, 0.9815537023488845, 0.011249899167322459, 0.006562441180938101, 0.13773731387308455, 0.08617789156765182, 0.08673031394949575, 0.08516511720093797, 0.013902629943072035, 0.12190120559355878, 0.015744037882551777, 0.21811477043137517, 0.039037848316970485, 0.00828633572765883, 9.2070396973987e-05, 0.12724128861805004, 0.05993782843006553, 0.9981254020533472, 0.916973877943105, 0.06215685965093025, 0.019864563393596265, 0.9997323810567867, 0.9970208821486876, 0.9979532238650154, 0.99839792264594, 0.9847943583964939, 0.014500813215825454, 0.5420194171942555, 0.003256853744976408, 0.13017545726132976, 0.10757486612194801, 0.02743652548798307, 0.18939097989726444, 0.9970697912667009, 0.012720889303052728, 0.20035400652308047, 0.7863099700449467, 0.16418679746318526, 0.17087050780239457, 0.0014529805085237634, 0.46030422510032826, 0.2025454828882126, 0.9974960823226839, 0.14528987871436705, 0.04549102077241318, 0.0639688168387336, 0.13637926639812117, 0.009942367426548035, 0.11762008257444563, 0.14697820525849786, 0.23608432842095667, 0.002907673492669709, 0.06453159235344386, 0.028982939007578708, 0.0017821224632491763, 0.046640207399602666, 0.13477016984793164, 0.09499723224949745, 0.1676758376451973, 0.01516522081091375, 0.0002861362417153538, 0.033477940280696394, 0.015451357052629103, 0.4601070766782889, 0.031474986588688914, 0.03781684791677349, 0.36670882828386414, 0.051950417340214085, 0.011459650883870754, 0.49161902291805537, 0.03399696428881657, 0.006111813804731069, 0.9994540730020184, 0.9981732560671868, 0.9986157511308104, 0.20431691391537765, 0.5687741117103756, 0.0699463308899491, 0.08782734780918422, 0.06915746249645344, 0.9985758504067758, 0.051615514127730834, 0.058212985858343044, 0.0011642597171668608, 0.04385378267995176, 0.844864468090752, 0.9996032970124505, 0.02841323808117201, 0.9710641955977022, 0.9993829107110951, 0.04236958762218536, 0.09385668144154985, 0.027352518591537384, 0.007240372568348131, 0.012871773454841123, 0.009117506197179128, 0.6934667948795654, 0.003754267257661994, 0.10699661684336682, 0.0026816194697585672, 0.9951975517174272, 0.0391976958395095, 0.009476366027134165, 0.9157615533494198, 0.016368268592322648, 0.01593752468199837, 0.0030152073722699616, 0.9979297286740516, 0.9974912086025414, 0.9959630333550383, 0.9986599401068701, 0.043964490860738135, 0.004058260694837367, 0.17315245631306098, 0.048022751555575505, 0.031789708776226035, 0.698020839512027, 0.017497205583060185, 0.9696368093945853, 0.012393853954667633, 0.9976148679358811, 0.1610050172063685, 0.11030955989357609, 0.1323714718722913, 0.5956716234253109, 0.9987280733452298, 0.9975583438050213, 0.9995763776111006, 0.9994460597171255, 0.9977730824687459, 0.5188240653223699, 0.01633053265237567, 0.04172231323609022, 0.3897012823007908, 6.762125321894688e-05, 0.03330346721033133, 0.999502861901746, 0.9955942388897238, 0.9998065290118587, 0.06254070970909589, 0.3816897803776556, 0.14850227703374094, 0.0003190852536178362, 0.036471444488518676, 0.03762015140154289, 0.30415206374852144, 0.02680316130389824, 0.0018826029963452335, 0.8020539073748877, 0.17061584113143732, 0.027107189712471353, 0.0072307271540581666, 0.934571484662018, 0.05784581723246533, 0.9992792687491332, 0.9158209819189116, 0.08357301736142159, 0.9509329981678324, 0.04843703661079596, 0.9994880732329819, 0.9979191754569459, 0.22401251141113962, 0.09819244412208633, 0.677756628201103, 0.1114740613790359, 0.1104189737940869, 0.200913024349329, 0.059612448549619126, 0.059693609133076746, 0.09966519648595273, 0.03583239759653757, 0.049913758826433986, 0.034168605635656435, 0.06683574047734697, 0.03818605451680844, 0.09455207972812292, 0.015461091148675893, 0.017733587485489147, 0.005478339383389096, 0.030909615990352822, 0.6769811972789039, 0.29182313920303693, 0.9989935460240313, 0.9994089006947571, 0.04130763287488894, 0.7217965323401647, 0.1737292310862554, 0.0015811534114790026, 0.01818326423200853, 0.04288878628636795, 0.9953156563768609, 0.0036193296595522216, 0.9988014284789745, 0.9986551125568699, 0.023870841449305423, 0.019450315254989605, 0.22191041495465413, 0.020334420493852767, 0.7143570330014364, 0.010506478233002181, 0.987608953902205, 0.9990811068946428, 0.9975610604257236, 0.9990062813105971, 0.997927074527314, 0.9980051608453304, 0.9985022861972196, 0.05746552908806904, 0.9411335707253572, 0.1832360775534689, 0.10882301885225924, 0.691725312011735, 0.015077155684558823, 0.0009727197215844401, 0.8432584275513608, 0.027947379370727065, 0.02740992976744385, 0.004837046429548915, 0.029291003378935098, 0.0671812004104016, 0.07154665753223523, 0.003380157048767019, 0.8585598903868228, 0.06084282687780634, 0.005633595081278365, 7.816670537207505e-05, 0.31774765733748506, 0.1410127364912234, 0.04830702391994238, 0.05651452798401026, 0.09903721570641909, 0.15477007663670858, 0.003283001625627152, 0.07253870258528565, 0.040959353614967324, 0.039396019507525824, 0.0004690002322324503, 0.02587317947815684, 0.0023589333551115215, 0.8323103187951818, 0.16473217929862125, 0.999542902963365, 0.9978799894744103, 0.12792154933912978, 0.005472579650871862, 0.8249913823689332, 0.04104434738153896, 0.9984073065852451, 0.9936889047251395, 0.0058907085867366555, 0.014392139745725107, 0.08948156450603001, 0.0412991836181677, 0.015643630158396857, 0.8384985764900714, 0.046150200580466386, 0.1081760701606132, 0.2281665916698258, 0.05131902304547862, 0.536819133151985, 0.009968443325380738, 0.019198483441474016, 0.028833808800457113, 0.08323722163150828, 0.28997019038950267, 0.5978935070132522, 0.007603488495427131, 0.8868708981066206, 0.1052322807767115, 0.2105807459546949, 0.01265785904645707, 0.011046858804180716, 0.046719007026014274, 0.01541957374750225, 0.0793992976550489, 0.0826212981396016, 0.2323292492254257, 0.033370719304295915, 0.0898707992298452, 0.02911307580685126, 0.004602857835075298, 0.1521244514492386, 0.00011507144587688245, 0.8105830536382441, 0.18903954786634763, 0.858640602391647, 0.016846099809110792, 0.03471317536422829, 0.08933537777558753, 0.9951527101508125, 0.9992134904930737, 0.9978903856304079, 0.019554749250889573, 0.04549472274696758, 0.07143469624304558, 0.5203957759828572, 0.17479551371203333, 0.037912268955806315, 0.07103561972772131, 0.059861477298641545, 0.9965945355619705, 0.9990040058405102, 0.10807763662609811, 0.8917605884282273, 0.9977197373387383, 0.7155029791500063, 0.2844463979611378, 0.9987601389579501, 0.9974876146964623, 0.9972913222249642, 0.07495053051805568, 0.07495053051805568, 0.8494393458712978, 0.15164431325165453, 0.8474241034651282, 0.19397513117608203, 0.04565346988453731, 0.4264117472548907, 0.026474843266375517, 0.19887401949702554, 0.07254523981652504, 0.01167394663714196, 0.00031269499920915967, 0.0006253899984183193, 0.02334789327428392, 0.9985706940346597, 0.998897160965358, 0.9967041366050415, 0.9901867382560168, 0.007312148220967508, 0.0024373827403225026, 0.023305146905649086, 0.026331789360928184, 0.008474598874781485, 0.8928595243073351, 0.01694919774956297, 0.0057506206650302935, 0.026029125115400276, 0.9975789086322768, 0.07789236828258644, 0.7417681278404927, 0.01656331969227413, 0.16339491047783938, 0.2386652719515824, 0.7568057554861628, 0.004008119070942605, 0.9994456039831207, 0.06645897725364523, 0.10948444229646757, 0.8044225339256249, 0.01959195283199946, 0.9990488299823856, 0.9987355281171482, 0.007388279957542431, 0.8457117791400236, 0.02709035984432225, 0.07339024757825482, 0.017731871898101836, 0.020194631883949314, 0.008373383951881423, 0.9976730510270345, 0.7556574518850444, 0.20452525045032338, 0.039215755986050205, 0.014358282474713168, 0.0026105968135842123, 0.08179870015897199, 0.08092850122111059, 0.1035536736055071, 0.6450349626897658, 0.010659936988802202, 0.055475182288664514, 0.0056562930960991275, 0.02826372108569898, 0.022634929174564014, 0.00023952306004829644, 0.05053936567019055, 0.02982062097601291, 0.7276710564267246, 0.0203594601041052, 0.12024057614424481, 0.9981744191067058, 0.998795713844443, 0.9988734293122921, 0.9992702805642877, 0.9981416622199019, 0.9982101669209571, 0.9977838379394954, 0.9954479102499068, 0.06444531225886653, 0.016582419528597236, 0.19408968311880853, 0.72472710803392, 0.08776811659446257, 0.00452412972136405, 0.4819706196493168, 0.012064345923637467, 0.011461128627455594, 0.4017427192571276, 0.9975581257091884, 0.06447761789216871, 0.039356468064051034, 0.8951503055419266, 0.005123310120222279, 0.1374754882259645, 0.056071782982432726, 0.0025616550601111395, 0.7386105423320453, 0.025047293921086698, 0.017646957080765628, 0.01736232874075328, 0.9993764765595686, 0.9954965398910869, 0.9987722714567681, 0.9992341634174253, 0.1018127657056828, 0.7803859181896985, 0.024113549772398556, 0.008930944360147615, 0.0467981484471735, 0.015539843186656849, 0.007501993262523996, 0.01482536763784504, 0.9997092184387412, 0.9973737073350893, 0.999291971355068, 0.9984630470901029, 0.13743513242294655, 0.05512622070512753, 0.03707359384937058, 0.0680604782607848, 0.019920139978766283, 0.01888263268820554, 0.10568740933178779, 0.29209288586920146, 0.025246010736978103, 0.012242586028616779, 0.028151031150548185, 0.0676454753445605, 0.13238593027555093, 0.9977643771248359, 0.6063096732553684, 0.0822771059296848, 0.3113220493486456, 0.027847287822793446, 0.005465355554006191, 0.008588415870581156, 0.5246741331845943, 0.00026025502638124716, 0.05048947511796195, 0.38231463375405206, 0.8656115565288771, 0.13407673517099325, 0.011913344766211106, 0.06837763506439916, 0.18378816248706925, 0.004715698969958562, 0.020724255999554735, 0.10709600555458525, 0.06601978557941987, 0.5370932932100173, 0.08966252458453906, 0.14414496139806107, 0.7113849606794158, 0.054482436813522, 0.03508653676716674, 0.30900774486171406, 0.09325632140746949, 0.5626156948279017, 0.0003578254040190187, 0.16097031389369854, 0.00015335374457957942, 0.05643417800528523, 0.4592433471009805, 0.006440857272342336, 0.06200603072500995, 0.05602523468640635, 0.004191669018508504, 0.021725113815440417, 0.0724852032712812, 0.00541849897514514, 0.09451702457588079, 0.9996039007317579, 0.01610975657346437, 0.3501701578543453, 0.08228516381535993, 0.08103111090844353, 0.010418285688228454, 0.33714730074405974, 0.03492055017721019, 0.04668935438057937, 0.00549853966878724, 0.03559580943478055, 0.034971717494658536, 0.09708931360405201, 0.021031941989794644, 0.005380264229947467, 0.04671047581454392, 0.04450945862956541, 0.018586367339818523, 0.5412056700397156, 0.03179247044968958, 0.026656763684739723, 0.016629907619837625, 0.009782298599904485, 0.007092166484930752, 0.0988012158590353, 0.08823213479899378, 0.02670183026811654, 0.8846432462741218, 0.9944664944864138, 0.9591763446292699, 0.03987587050705954, 0.037615475767309205, 0.02694840054971406, 0.03115908813560688, 0.9038942684383257, 0.18313197254465782, 0.04197867565493589, 0.035681874306695505, 0.04932494389454967, 0.028335606067081725, 0.03515714086100881, 0.6107897307793172, 0.01521726992491426, 0.14469176086925184, 0.03772637936774971, 0.03240030228053799, 0.0559238094157231, 0.06080604674566718, 0.61027966624301, 0.05814300820206132, 0.9997820801144717, 0.9985574117645962, 0.05824851015304473, 0.940861528404265, 0.9995399252207869, 0.10038019453600937, 0.0571933666542379, 0.01634096190121083, 0.003501634693116606, 0.8228841528824025, 0.9979081255241637, 0.9990415093965441, 0.000744257394633631, 0.9985595584516861, 0.15611864002314163, 0.8296590584086956, 0.013381597716269284, 0.9991321219333958, 0.9989594245529004, 0.07448137422712085, 0.0029359877807371287, 0.8226946812970776, 0.09966905887239201, 0.021747650661174622, 0.7859057257681978, 0.009514597164263897, 0.013048590396704772, 0.0008155368997940482, 0.054912817919465916, 0.0005436912665293655, 0.05029144215396631, 0.06334003255067108, 0.009335657764310104, 0.06391334930950764, 0.040215141138566605, 0.02441633569127258, 0.036624503536908874, 0.06534960435017073, 0.0631952217891761, 0.6973018222419316, 0.02692843324443689, 0.9718716361855858, 0.19982918395254204, 0.0013547741284918105, 0.7979619616816763, 0.9988993958351363, 0.41021466374701077, 0.18531447434771212, 0.09178553101339366, 0.06030155557081058, 0.0018459659868615484, 0.009434937266181248, 0.24100111495136883, 0.9978388537910248, 0.0015992298303351621, 0.05117535457072519, 0.9451448297280808, 0.06078722728907452, 0.005673474546980289, 0.02350439455177548, 0.029988365462610096, 0.880199051145799, 0.9996309451051432, 0.9993084762720738, 0.9998444123591621, 0.9992054056559247, 0.997298693353725, 0.3082449908523561, 0.21172196432270413, 0.014977711013221864, 0.06379395431557461, 0.38590719610609914, 0.0027736501876336785, 0.012388970838097096, 0.0001849100125089119, 0.9997146296850028, 0.06001684987299345, 0.13164073203274507, 0.05180699776772548, 0.055487276297673194, 0.015853507513620912, 0.05746896473687581, 0.6276290385303136, 0.9990128721811143, 0.9809824170090642, 0.017761520085122332, 0.999258240420499, 0.8819369336451894, 0.008478221838658264, 0.025232803091244833, 0.017158306102046487, 0.006257735166628718, 0.006257735166628718, 0.032499850381523344, 0.01796575580096632, 0.0040372484945991735, 0.9946807677258251, 0.9983996442504501, 0.9997900356199249, 0.9983179765782796, 0.9992494486146388, 0.02518316660436067, 0.9746818185761815, 0.9976703673037597, 0.0036363347313184266, 0.04879726607188598, 0.8248614784074573, 0.04680314702567911, 0.022169911749005893, 0.04609934030348844, 0.006920766101541522, 0.0005865056018255527, 0.9999466248901133, 0.9980628780439366, 0.9033593586260624, 0.09650211697597055, 0.9995857214372172, 0.9980098960740859, 0.09918825292673644, 0.16305947640228644, 0.02705134170729176, 0.00676283542682294, 0.08190545128041116, 0.6221808592677105, 0.022372055566516915, 0.6399157793327743, 0.01049861825467833, 0.02062228585740386, 0.1103604752247734, 0.01637284513527216, 0.014873042527460967, 0.12135902768205545, 0.04361925917717544, 0.10738754786300642, 0.7646625099304074, 0.08211988954229903, 0.016423977908459807, 0.029373652797822343, 0.6427186213566222, 0.018924199341505583, 0.16851339367122065, 0.00255256642280773, 0.12555986214259401, 0.03661612523751778, 0.005061123079704982, 0.998671469807966, 0.06308110302409145, 0.06334726801575429, 0.33643254946182105, 0.4708458702515518, 0.06627508292404545, 0.02246052278728374, 0.9747866889681143, 0.005426522129895299, 0.2751246719856917, 0.031473828353392734, 0.20385634801306673, 0.04657764828160132, 0.007868457088348184, 0.20322325376457895, 0.05290859076647917, 0.04006582172572696, 0.0644851713102558, 0.06900727308516856, 0.05930172861271757, 0.9109280568103909, 0.02207094410774075, 0.007579920198618035, 0.08824557028731495, 0.26347605985784034, 0.028322625892214414, 0.09303604410291204, 0.3384427729019212, 0.0023532152076617316, 0.09185943649908117, 0.015548029050622155, 0.07866462265612074, 0.11746560270868783, 0.8809920203151588, 0.000813051025663001, 0.9989686935312739, 0.9996854483580441, 0.2549990530182734, 0.7445708783220903, 0.9918541005170539, 0.007742139553038582, 0.997504548330363, 0.0341912224659373, 0.023312197135866342, 0.5472667789850935, 0.1487836226093514, 0.012122342510650497, 0.010568196034926074, 0.1047494724638261, 0.08599610499008473, 0.005594927312607922, 0.00020721953009658972, 0.027249368207701546, 0.9987618411307512, 0.0013517720989132968, 0.13697957268988076, 0.06263210724964942, 0.02973898617609253, 0.05677442815435847, 0.4897920905062512, 0.19465518224351475, 0.027936623377541468, 0.008573561824770768, 0.06966018982626249, 0.8294921065465718, 0.09109409438818941, 0.9031120976164397, 0.039355802419065035, 0.046605555496261226, 0.010356790110280272, 0.9940906163684051, 0.9992436906523576, 0.9982451583776638], \"Term\": [\"abk\", \"acara\", \"acara\", \"acara\", \"acara\", \"acara\", \"acara\", \"acara\", \"acara\", \"acara\", \"afghanistan\", \"afrika\", \"afrika\", \"afrika\", \"agama\", \"agama\", \"agama\", \"agama\", \"agama\", \"agama\", \"agama\", \"ahsan\", \"air\", \"air\", \"air\", \"air\", \"air\", \"air\", \"air\", \"air\", \"air\", \"air\", \"air\", \"airlines\", \"aja\", \"aja\", \"aja\", \"aja\", \"aja\", \"ajang\", \"ajang\", \"ajang\", \"ajang\", \"ajang\", \"aki\", \"akibat\", \"akibat\", \"akibat\", \"akibat\", \"akibat\", \"akibat\", \"akibat\", \"akibat\", \"akibat\", \"akibat\", \"akibat\", \"akp\", \"akun\", \"akun\", \"akun\", \"akun\", \"akun\", \"akun\", \"alam\", \"alam\", \"alam\", \"alam\", \"alam\", \"alam\", \"album\", \"amazon\", \"amerika\", \"amerika\", \"amerika\", \"amin\", \"amin\", \"anak\", \"anak\", \"anak\", \"anak\", \"anak\", \"anak\", \"anak\", \"anak\", \"anaknya\", \"anaknya\", \"anang\", \"android\", \"anggota\", \"anggota\", \"anggota\", \"anggota\", \"anggota\", \"anggota\", \"anggota\", \"anggota\", \"anggota\", \"angkutan\", \"angkutan\", \"anies\", \"anies\", \"antam\", \"anthony\", \"anthony\", \"apd\", \"aplikasi\", \"aplikasi\", \"aplikasi\", \"aplikasi\", \"aplikasi\", \"aplikasi\", \"apriyani\", \"arab\", \"arab\", \"arah\", \"arah\", \"arah\", \"arah\", \"arah\", \"arah\", \"arah\", \"arah\", \"arah\", \"arah\", \"arah\", \"arema\", \"arsenal\", \"artis\", \"artis\", \"artis\", \"arus\", \"arus\", \"arus\", \"as\", \"as\", \"as\", \"as\", \"asam\", \"ashanty\", \"ashraf\", \"asia\", \"asia\", \"asia\", \"asia\", \"asupan\", \"asuransi\", \"atalanta\", \"atraksi\", \"aturan\", \"aturan\", \"aturan\", \"aturan\", \"aturan\", \"aturan\", \"aturan\", \"aturan\", \"australia\", \"australia\", \"australia\", \"australia\", \"australia\", \"awards\", \"ayah\", \"ayah\", \"ayam\", \"ayam\", \"ayat\", \"ayat\", \"ayu\", \"ayu\", \"babak\", \"babak\", \"bahagia\", \"bahagia\", \"bahan\", \"bahan\", \"bahan\", \"bahan\", \"bahan\", \"bahan\", \"bahan\", \"baim\", \"bakteri\", \"bakteri\", \"balap\", \"balapan\", \"bali\", \"bali\", \"bali\", \"bali\", \"bali\", \"bali\", \"bali\", \"bandara\", \"bandara\", \"banget\", \"bangka\", \"bangka\", \"bangka\", \"bangsa\", \"bangsa\", \"bangsa\", \"bangsa\", \"bangsa\", \"banjir\", \"banjir\", \"bank\", \"barang\", \"barang\", \"barang\", \"barang\", \"barang\", \"barang\", \"barang\", \"barang\", \"barang\", \"barang\", \"barat\", \"barat\", \"barat\", \"barat\", \"barat\", \"barat\", \"barat\", \"barat\", \"barat\", \"barat\", \"barat\", \"barcelona\", \"basket\", \"batam\", \"baterai\", \"batuk\", \"bawaslu\", \"bawaslu\", \"beasiswa\", \"bek\", \"bekasi\", \"bekasi\", \"bekasi\", \"bekasi\", \"belajar\", \"belajar\", \"belajar\", \"belajar\", \"belajar\", \"belajar\", \"belajar\", \"bencana\", \"bencana\", \"bencana\", \"benua\", \"benua\", \"berat\", \"berat\", \"berat\", \"berat\", \"berat\", \"berat\", \"berat\", \"berat\", \"berat\", \"berat\", \"berat\", \"berhasil\", \"berhasil\", \"berhasil\", \"berhasil\", \"berhasil\", \"berhasil\", \"berhasil\", \"berhasil\", \"berhasil\", \"berhasil\", \"berhasil\", \"berhasil\", \"berinisial\", \"berinvestasi\", \"bermain\", \"bermain\", \"bermain\", \"bermain\", \"bermain\", \"bermain\", \"berwisata\", \"bi\", \"bir\", \"bisnis\", \"bisnis\", \"bisnis\", \"bisnis\", \"bkn\", \"bmkg\", \"bni\", \"bobotoh\", \"bodi\", \"boeing\", \"bola\", \"bola\", \"bola\", \"bpbd\", \"bpk\", \"bps\", \"bri\", \"brigjen\", \"brigjen\", \"brunei\", \"bts\", \"bts\", \"budaya\", \"budaya\", \"budaya\", \"budaya\", \"budaya\", \"budaya\", \"buku\", \"buku\", \"buku\", \"buku\", \"buku\", \"buku\", \"buku\", \"buku\", \"bumbu\", \"bumn\", \"bumn\", \"bundaran\", \"bus\", \"cagar\", \"caleg\", \"calon\", \"calon\", \"calon\", \"calon\", \"calon\", \"calon\", \"candi\", \"capim\", \"capres\", \"cawapres\", \"cc\", \"cerita\", \"cerita\", \"cerita\", \"champions\", \"chelsea\", \"chen\", \"china\", \"china\", \"china\", \"china\", \"china\", \"cikampek\", \"cikarang\", \"ciliwung\", \"cinta\", \"com\", \"com\", \"com\", \"com\", \"com\", \"com\", \"com\", \"com\", \"com\", \"com\", \"com\", \"com\", \"com\", \"com\", \"corona\", \"cov\", \"covid\", \"cpns\", \"curah\", \"daerah\", \"daerah\", \"daerah\", \"daerah\", \"daerah\", \"daerah\", \"daerah\", \"daerah\", \"daerah\", \"daerah\", \"daging\", \"daihatsu\", \"dakwaan\", \"dana\", \"dana\", \"dana\", \"dana\", \"dana\", \"danau\", \"danau\", \"darah\", \"darah\", \"darah\", \"darah\", \"data\", \"data\", \"data\", \"data\", \"data\", \"data\", \"data\", \"data\", \"data\", \"data\", \"dbd\", \"debat\", \"dedi\", \"dedi\", \"dedi\", \"demonstran\", \"denda\", \"densus\", \"depresi\", \"desa\", \"desa\", \"desa\", \"desa\", \"desain\", \"desain\", \"desain\", \"desain\", \"destinasi\", \"destinasi\", \"dhani\", \"diamankan\", \"diamankan\", \"diamankan\", \"diansyah\", \"dibanderol\", \"dibawa\", \"dibawa\", \"dibawa\", \"dibawa\", \"dibawa\", \"dibawa\", \"dibawa\", \"dibawa\", \"dibawa\", \"dibawa\", \"dibawa\", \"diduga\", \"diduga\", \"diduga\", \"diduga\", \"diduga\", \"diduga\", \"diduga\", \"diet\", \"digelar\", \"digelar\", \"digelar\", \"digelar\", \"digelar\", \"digelar\", \"digelar\", \"digelar\", \"digelar\", \"digelar\", \"dijual\", \"dijual\", \"dijual\", \"dijual\", \"dijual\", \"dikonsumsi\", \"diler\", \"dinas\", \"dinas\", \"dinas\", \"dinas\", \"dinas\", \"dinas\", \"dinas\", \"dinyatakan\", \"dinyatakan\", \"dinyatakan\", \"dinyatakan\", \"dinyatakan\", \"dinyatakan\", \"dinyatakan\", \"dinyatakan\", \"dirawat\", \"dirawat\", \"dirawat\", \"direktur\", \"direktur\", \"direktur\", \"direktur\", \"direktur\", \"direktur\", \"direktur\", \"direktur\", \"direktur\", \"direktur\", \"direktur\", \"direktur\", \"disabilitas\", \"disabilitas\", \"dishub\", \"disinfektan\", \"diskon\", \"diskon\", \"distancing\", \"ditangkap\", \"ditangkap\", \"ditangkap\", \"ditangkap\", \"ditangkap\", \"ditemukan\", \"ditemukan\", \"ditemukan\", \"ditemukan\", \"ditemukan\", \"ditemukan\", \"ditemukan\", \"ditemukan\", \"ditlantas\", \"djarum\", \"dki\", \"dki\", \"dki\", \"dki\", \"doel\", \"dokter\", \"dokter\", \"dokter\", \"dokter\", \"dollar\", \"dollar\", \"donald\", \"dpd\", \"dpd\", \"dpp\", \"dpr\", \"dpr\", \"dpr\", \"dprd\", \"dprd\", \"dprd\", \"draf\", \"drone\", \"ducati\", \"dunia\", \"dunia\", \"dunia\", \"dunia\", \"dunia\", \"dunia\", \"dunia\", \"dunia\", \"dunia\", \"dunia\", \"durian\", \"dusun\", \"ekonomi\", \"ekonomi\", \"ekonomi\", \"ekonomi\", \"ekonomi\", \"ekspor\", \"ekspor\", \"erdogan\", \"eropa\", \"eropa\", \"eropa\", \"eropa\", \"erupsi\", \"esdm\", \"event\", \"event\", \"fachrul\", \"fahri\", \"fairuz\", \"fc\", \"febri\", \"febri\", \"febri\", \"festival\", \"film\", \"film\", \"firli\", \"fitur\", \"formasi\", \"formasi\", \"formasi\", \"formasi\", \"foto\", \"foto\", \"foto\", \"foto\", \"foto\", \"galaxy\", \"galih\", \"galih\", \"gambut\", \"ganda\", \"ganda\", \"gang\", \"gardu\", \"garuda\", \"garuda\", \"garuda\", \"garuda\", \"gawang\", \"gb\", \"gedung\", \"gedung\", \"gedung\", \"gedung\", \"gedung\", \"gedung\", \"gedung\", \"gedung\", \"gejala\", \"gejala\", \"gelar\", \"gelar\", \"gelar\", \"gelar\", \"gelar\", \"gelar\", \"gelar\", \"gempa\", \"geofisika\", \"gerai\", \"gerbang\", \"gerbang\", \"gereja\", \"gereja\", \"gereja\", \"gereja\", \"gerindra\", \"gim\", \"gisel\", \"gizi\", \"gizi\", \"glenn\", \"gol\", \"golf\", \"golkar\", \"google\", \"google\", \"goreng\", \"gratifikasi\", \"gue\", \"gugatan\", \"gugus\", \"gula\", \"gunung\", \"gunung\", \"gunung\", \"guru\", \"guru\", \"guru\", \"guru\", \"guru\", \"guru\", \"habibie\", \"hak\", \"hak\", \"hak\", \"hak\", \"hak\", \"hak\", \"hakim\", \"halte\", \"ham\", \"ham\", \"ham\", \"ham\", \"ham\", \"harga\", \"harga\", \"haris\", \"haris\", \"haris\", \"haris\", \"harun\", \"hasil\", \"hasil\", \"hasil\", \"hasil\", \"hasil\", \"hasil\", \"hasil\", \"hasil\", \"hasil\", \"hasil\", \"hasil\", \"hasil\", \"hati\", \"hati\", \"hati\", \"hati\", \"hati\", \"hati\", \"hati\", \"hati\", \"hati\", \"hati\", \"hati\", \"hendi\", \"hendra\", \"hendra\", \"hendra\", \"hewan\", \"hewan\", \"hewan\", \"hewan\", \"hidangan\", \"hidup\", \"hidup\", \"hidup\", \"hidup\", \"hidup\", \"hidup\", \"hidup\", \"hidup\", \"hidup\", \"hidup\", \"hijriah\", \"hijriah\", \"hilal\", \"hisab\", \"honda\", \"honda\", \"honda\", \"hong\", \"hong\", \"hormon\", \"hotel\", \"hotel\", \"hotel\", \"hotel\", \"hotel\", \"hotel\", \"hotel\", \"hotel\", \"huawei\", \"huawei\", \"hujan\", \"hujan\", \"hujan\", \"hujan\", \"hukum\", \"hukum\", \"hukum\", \"hukum\", \"hukuman\", \"hukuman\", \"hukuman\", \"hukuman\", \"ibadah\", \"ibadah\", \"ibadah\", \"ibadah\", \"ibadah\", \"idham\", \"ikan\", \"ikan\", \"ikan\", \"ikan\", \"imbang\", \"imsak\", \"inci\", \"india\", \"india\", \"india\", \"indonesia\", \"indonesia\", \"indonesia\", \"indonesia\", \"indonesia\", \"indonesia\", \"indonesia\", \"indonesia\", \"indonesia\", \"indonesia\", \"indonesia\", \"indonesia\", \"indonesia\", \"industri\", \"industri\", \"industri\", \"industri\", \"infeksi\", \"informasi\", \"informasi\", \"informasi\", \"informasi\", \"informasi\", \"informasi\", \"informasi\", \"informasi\", \"informasi\", \"informasi\", \"informasi\", \"informasi\", \"informasi\", \"informasi\", \"informasi\", \"infrastruktur\", \"infrastruktur\", \"infrastruktur\", \"inggris\", \"inggris\", \"inggris\", \"inggris\", \"inggris\", \"inggris\", \"instagram\", \"instagram\", \"instagram\", \"instagram\", \"inter\", \"internasional\", \"internasional\", \"internasional\", \"internasional\", \"internasional\", \"internasional\", \"internasional\", \"interval\", \"investasi\", \"investor\", \"iphone\", \"iptu\", \"irak\", \"iran\", \"isbat\", \"isis\", \"isis\", \"isolasi\", \"israel\", \"istri\", \"istri\", \"istri\", \"iuran\", \"jakarta\", \"jakarta\", \"jakarta\", \"jakarta\", \"jakarta\", \"jakarta\", \"jakarta\", \"jakarta\", \"jakarta\", \"jakarta\", \"jakarta\", \"jakarta\", \"jakarta\", \"jaksa\", \"jaksa\", \"jalan\", \"jalan\", \"jalan\", \"jalan\", \"jalan\", \"jalan\", \"jalan\", \"jalan\", \"jalan\", \"jalan\", \"jalur\", \"jalur\", \"jalur\", \"jalur\", \"jalur\", \"jalur\", \"jalur\", \"jalur\", \"jantung\", \"jantung\", \"jantung\", \"jantung\", \"jasad\", \"jawa\", \"jawa\", \"jawa\", \"jawa\", \"jawa\", \"jawa\", \"jawa\", \"jawa\", \"jawa\", \"jembatan\", \"jembatan\", \"jenazah\", \"jenazah\", \"jenazah\", \"jenderal\", \"jenderal\", \"jenderal\", \"jenderal\", \"jenderal\", \"jenderal\", \"jenderal\", \"jenderal\", \"jenis\", \"jenis\", \"jenis\", \"jenis\", \"jenis\", \"jenis\", \"jenis\", \"jepang\", \"jepang\", \"jepang\", \"jepang\", \"jepang\", \"jepang\", \"jepang\", \"joko\", \"joko\", \"joko\", \"joko\", \"joko\", \"joko\", \"jokowi\", \"jonatan\", \"jpo\", \"jpu\", \"juara\", \"juara\", \"jumat\", \"jumat\", \"jumat\", \"jumat\", \"jumat\", \"jumat\", \"jumat\", \"jumat\", \"jumat\", \"jumat\", \"jumat\", \"jumat\", \"jumat\", \"jumat\", \"juncto\", \"juri\", \"jurnal\", \"juta\", \"juta\", \"juta\", \"juta\", \"juta\", \"juta\", \"juta\", \"juta\", \"jutaan\", \"jutaan\", \"jutaan\", \"jutaan\", \"juventus\", \"ka\", \"ka\", \"ka\", \"kabupaten\", \"kabupaten\", \"kabupaten\", \"kabupaten\", \"kabupaten\", \"kabupaten\", \"kabupaten\", \"kabupaten\", \"kabupaten\", \"kabupaten\", \"kadar\", \"kader\", \"kafe\", \"kafe\", \"kafe\", \"kai\", \"kai\", \"kai\", \"kali\", \"kali\", \"kali\", \"kali\", \"kali\", \"kali\", \"kali\", \"kali\", \"kali\", \"kali\", \"kali\", \"kali\", \"kali\", \"kali\", \"kali\", \"kalla\", \"kalori\", \"kamera\", \"kamera\", \"kamera\", \"kamis\", \"kamis\", \"kamis\", \"kamis\", \"kamis\", \"kamis\", \"kamis\", \"kamis\", \"kamis\", \"kamis\", \"kamis\", \"kamis\", \"kamis\", \"kamis\", \"kamp\", \"kampanye\", \"kampanye\", \"kampanye\", \"kampanye\", \"kampanye\", \"kampanye\", \"kampus\", \"kampus\", \"kampus\", \"kang\", \"kapal\", \"kapal\", \"kapolres\", \"kapolri\", \"kapolri\", \"kapolsek\", \"karantina\", \"karbohidrat\", \"karhutla\", \"kasat\", \"kasat\", \"kasih\", \"kasih\", \"kasih\", \"kasih\", \"kasih\", \"kasih\", \"kasih\", \"kasih\", \"kasih\", \"kasih\", \"kasih\", \"kawah\", \"kawasan\", \"kawasan\", \"kawasan\", \"kawasan\", \"kawasan\", \"kawasan\", \"kawasan\", \"kawasan\", \"kayak\", \"kayak\", \"kayak\", \"keberangkatan\", \"kecamatan\", \"kecamatan\", \"kecamatan\", \"kegiatan\", \"kegiatan\", \"kegiatan\", \"kegiatan\", \"kegiatan\", \"kegiatan\", \"kegiatan\", \"kegiatan\", \"kegiatan\", \"kegiatan\", \"kegiatan\", \"kehamilan\", \"keindahan\", \"kejadian\", \"kejadian\", \"kejadian\", \"kejadian\", \"kejadian\", \"kejadian\", \"kejagung\", \"kejuaraan\", \"kejuaraan\", \"kelas\", \"kelas\", \"kelas\", \"kelas\", \"kelas\", \"kelas\", \"kelas\", \"kelas\", \"kelompok\", \"kelompok\", \"kelompok\", \"kelompok\", \"kelompok\", \"kelompok\", \"kelompok\", \"kelompok\", \"kelompok\", \"kelompok\", \"kelompok\", \"kelompok\", \"keluarga\", \"keluarga\", \"keluarga\", \"keluarga\", \"keluarga\", \"keluarga\", \"keluarga\", \"keluarga\", \"keluarga\", \"keluarga\", \"kemacetan\", \"kemenangan\", \"kemenangan\", \"kemenangan\", \"kemendagri\", \"kemendikbud\", \"kemenpora\", \"kementan\", \"kementerian\", \"kementerian\", \"kementerian\", \"kementerian\", \"kementerian\", \"kementerian\", \"kementerian\", \"kemiskinan\", \"kenaikan\", \"kenaikan\", \"kenaikan\", \"kenaikan\", \"kendaraan\", \"kendaraan\", \"kendaraan\", \"kepala\", \"kepala\", \"kepala\", \"kepala\", \"kepala\", \"kepala\", \"kepala\", \"kepala\", \"kepala\", \"kepala\", \"kepala\", \"kepala\", \"kepala\", \"kepala\", \"kerajaan\", \"kerajaan\", \"kereta\", \"kereta\", \"kericuhan\", \"kerja\", \"kerja\", \"kerja\", \"kerja\", \"kerja\", \"kerja\", \"kerja\", \"kerja\", \"kerja\", \"kerja\", \"kerja\", \"kertajati\", \"kesehatan\", \"kesehatan\", \"kesehatan\", \"kesehatan\", \"kesehatan\", \"ketua\", \"ketua\", \"ketua\", \"ketua\", \"ketua\", \"ketua\", \"ketua\", \"ketua\", \"keuangan\", \"keuangan\", \"kevin\", \"kevin\", \"khas\", \"khas\", \"khas\", \"khas\", \"kilometer\", \"kilometer\", \"kilometer\", \"kilometer\", \"kilometer\", \"kisah\", \"kisah\", \"kivlan\", \"klasemen\", \"klasemen\", \"klimatologi\", \"klub\", \"komisi\", \"komisi\", \"komisi\", \"komisi\", \"komisi\", \"komisi\", \"komnas\", \"komoditas\", \"komodo\", \"kompas\", \"kompas\", \"kompas\", \"kompas\", \"kompas\", \"kompas\", \"kompas\", \"kompas\", \"kompas\", \"kompas\", \"kompas\", \"kompas\", \"kompas\", \"kompas\", \"kompetisi\", \"kompetisi\", \"kompetisi\", \"kompetisi\", \"kondisi\", \"kondisi\", \"kondisi\", \"kondisi\", \"kondisi\", \"kondisi\", \"kondisi\", \"kondisi\", \"kondisi\", \"kondisi\", \"kondisi\", \"kondisi\", \"kong\", \"kong\", \"koni\", \"konser\", \"konser\", \"konsumen\", \"konsumen\", \"koperasi\", \"kopi\", \"kopi\", \"korban\", \"korban\", \"korban\", \"korea\", \"korea\", \"korea\", \"korea\", \"korupsi\", \"korupsi\", \"kota\", \"kota\", \"kota\", \"kota\", \"kota\", \"kota\", \"kota\", \"kota\", \"kota\", \"kota\", \"kota\", \"kpk\", \"kpk\", \"kpps\", \"kpu\", \"kredit\", \"kredit\", \"kriss\", \"krl\", \"krl\", \"kuasa\", \"kuasa\", \"kuliah\", \"kuliah\", \"kuliner\", \"kuliner\", \"kulit\", \"kulit\", \"kulit\", \"kulit\", \"laba\", \"laga\", \"laga\", \"lagu\", \"lagu\", \"lajur\", \"langsung\", \"langsung\", \"langsung\", \"langsung\", \"langsung\", \"langsung\", \"langsung\", \"langsung\", \"langsung\", \"langsung\", \"langsung\", \"langsung\", \"langsung\", \"langsung\", \"langsung\", \"laode\", \"lapas\", \"laporan\", \"laporan\", \"laporan\", \"laporan\", \"laporan\", \"layang\", \"lee\", \"lemak\", \"leste\", \"liga\", \"lintas\", \"lintas\", \"lintas\", \"lintas\", \"lion\", \"listrik\", \"listrik\", \"listrik\", \"listrik\", \"liverpool\", \"lockdown\", \"lokasi\", \"lokasi\", \"lokasi\", \"lokasi\", \"lokasi\", \"lokasi\", \"lokasi\", \"lokasi\", \"lokasi\", \"lokasi\", \"lokasi\", \"longsor\", \"lrt\", \"ltmpt\", \"luka\", \"luka\", \"luka\", \"lulusan\", \"lulusan\", \"lulusan\", \"luna\", \"ma\", \"ma\", \"ma\", \"mabes\", \"madrid\", \"mahasiswa\", \"mahasiswa\", \"mahasiswa\", \"mahasiswa\", \"majelis\", \"majelis\", \"makan\", \"makan\", \"makan\", \"makan\", \"makan\", \"makan\", \"makanan\", \"makanan\", \"makanan\", \"makanan\", \"makanan\", \"malam\", \"malam\", \"malam\", \"malam\", \"malam\", \"malam\", \"malam\", \"malam\", \"malam\", \"malam\", \"malam\", \"malam\", \"malam\", \"mama\", \"man\", \"man\", \"mancanegara\", \"mancanegara\", \"manchester\", \"mandalika\", \"mane\", \"mantan\", \"mantan\", \"mantan\", \"mantan\", \"mantan\", \"mantan\", \"mantan\", \"mantan\", \"manusia\", \"manusia\", \"manusia\", \"manusia\", \"manusia\", \"manusia\", \"manusia\", \"manusia\", \"manusia\", \"manusia\", \"manusia\", \"mapolres\", \"marcus\", \"marcus\", \"marga\", \"marquez\", \"maskapai\", \"masker\", \"masuk\", \"masuk\", \"masuk\", \"masuk\", \"masuk\", \"masuk\", \"masuk\", \"masuk\", \"masuk\", \"masuk\", \"masuk\", \"masuk\", \"masuk\", \"masuk\", \"masuk\", \"masyarakat\", \"masyarakat\", \"masyarakat\", \"masyarakat\", \"masyarakat\", \"masyarakat\", \"masyarakat\", \"masyarakat\", \"masyarakat\", \"masyarakat\", \"masyarakat\", \"masyarakat\", \"matematika\", \"mayat\", \"mcgregor\", \"medali\", \"medali\", \"media\", \"media\", \"media\", \"media\", \"media\", \"media\", \"media\", \"media\", \"media\", \"media\", \"media\", \"media\", \"medis\", \"medis\", \"megapiksel\", \"megawati\", \"melanggar\", \"melanggar\", \"melanggar\", \"melanggar\", \"melawan\", \"melawan\", \"melawan\", \"melawan\", \"melawan\", \"melawan\", \"melawan\", \"melawan\", \"melawan\", \"memadamkan\", \"membantu\", \"membantu\", \"membantu\", \"membantu\", \"membantu\", \"membantu\", \"membantu\", \"membantu\", \"membantu\", \"membantu\", \"membantu\", \"membantu\", \"member\", \"memiliki\", \"memiliki\", \"memiliki\", \"memiliki\", \"memiliki\", \"memiliki\", \"memiliki\", \"memiliki\", \"memiliki\", \"memiliki\", \"memiliki\", \"memiliki\", \"memiliki\", \"memiliki\", \"memiliki\", \"menarik\", \"menarik\", \"menarik\", \"menarik\", \"menarik\", \"menarik\", \"menarik\", \"menarik\", \"menarik\", \"menarik\", \"menarik\", \"mencapai\", \"mencapai\", \"mencapai\", \"mencapai\", \"mencapai\", \"mencapai\", \"mencapai\", \"mencapai\", \"mencapai\", \"mencapai\", \"mencapai\", \"mendaki\", \"mengaku\", \"mengaku\", \"mengaku\", \"mengaku\", \"mengaku\", \"mengaku\", \"mengaku\", \"mengaku\", \"mengaku\", \"mengaku\", \"mengaku\", \"mengaku\", \"mengandung\", \"mengandung\", \"mengandung\", \"mengikuti\", \"mengikuti\", \"mengikuti\", \"mengikuti\", \"mengikuti\", \"mengikuti\", \"mengikuti\", \"mengikuti\", \"mengikuti\", \"mengikuti\", \"mengikuti\", \"mengikuti\", \"mengikuti\", \"mengikuti\", \"mengikuti\", \"mengonsumsi\", \"mengonsumsi\", \"mengonsumsi\", \"mengunggah\", \"mengunggah\", \"mengungsi\", \"menikah\", \"menikmati\", \"menikmati\", \"menikmati\", \"menikmati\", \"menikmati\", \"menikmati\", \"menikmati\", \"meninggal\", \"meninggal\", \"meninggal\", \"meninggal\", \"menit\", \"menit\", \"menit\", \"menit\", \"menit\", \"menit\", \"menit\", \"menit\", \"menit\", \"menit\", \"menteri\", \"menteri\", \"menteri\", \"menteri\", \"menteri\", \"menteri\", \"menteri\", \"menular\", \"menyebabkan\", \"menyebabkan\", \"menyebabkan\", \"menyebabkan\", \"menyebabkan\", \"menyebabkan\", \"menyebabkan\", \"meraih\", \"meraih\", \"meraih\", \"meraih\", \"merapi\", \"merek\", \"mesin\", \"mesin\", \"mesin\", \"mesin\", \"mesin\", \"mesin\", \"messi\", \"meteorologi\", \"migas\", \"milan\", \"miliar\", \"miliar\", \"miliar\", \"miliar\", \"militer\", \"militer\", \"minum\", \"minum\", \"minum\", \"minum\", \"minum\", \"minuman\", \"minuman\", \"mitsubishi\", \"mobil\", \"mobil\", \"mobil\", \"model\", \"model\", \"model\", \"model\", \"model\", \"moeldoko\", \"monas\", \"motogp\", \"motor\", \"motor\", \"motor\", \"motor\", \"mudik\", \"mudik\", \"mudik\", \"mulan\", \"mulyani\", \"mulyani\", \"mulyani\", \"museum\", \"musik\", \"musik\", \"musik\", \"musim\", \"musim\", \"musim\", \"musim\", \"musim\", \"musim\", \"musim\", \"nadia\", \"nadiem\", \"nama\", \"nama\", \"nama\", \"nama\", \"nama\", \"nama\", \"nama\", \"nama\", \"nama\", \"nama\", \"nama\", \"napi\", \"narapidana\", \"nasa\", \"nasabah\", \"nasdem\", \"nasi\", \"nasional\", \"nasional\", \"nasional\", \"nasional\", \"nasional\", \"nasional\", \"nasional\", \"nasional\", \"nasional\", \"nasional\", \"nasional\", \"nasional\", \"natuna\", \"negara\", \"negara\", \"negara\", \"negara\", \"negara\", \"negara\", \"negara\", \"negara\", \"negeri\", \"negeri\", \"negeri\", \"negeri\", \"negeri\", \"negeri\", \"negeri\", \"negeri\", \"negeri\", \"negeri\", \"negeri\", \"negeri\", \"netizen\", \"nikita\", \"nilai\", \"nilai\", \"nilai\", \"nilai\", \"nilai\", \"nilai\", \"nilai\", \"nilai\", \"nilai\", \"nilai\", \"nomor\", \"nomor\", \"nomor\", \"nomor\", \"nomor\", \"nomor\", \"nomor\", \"nomor\", \"nomor\", \"nomor\", \"nomor\", \"note\", \"novel\", \"novel\", \"nuklir\", \"nunung\", \"nuril\", \"nutrisi\", \"nya\", \"nya\", \"nya\", \"nya\", \"nya\", \"nya\", \"nya\", \"nya\", \"nya\", \"nya\", \"nya\", \"obat\", \"obat\", \"obat\", \"obat\", \"odp\", \"of\", \"of\", \"of\", \"of\", \"of\", \"of\", \"of\", \"of\", \"of\", \"ojk\", \"olahraga\", \"olahraga\", \"olahraga\", \"olimpiade\", \"olimpiade\", \"open\", \"oppo\", \"orang\", \"orang\", \"orang\", \"orang\", \"orang\", \"orang\", \"orang\", \"orang\", \"orang\", \"orang\", \"orang\", \"orang\", \"orang\", \"orang\", \"otopsi\", \"otot\", \"otot\", \"ott\", \"pajak\", \"pajak\", \"pajak\", \"pakistan\", \"pandemi\", \"pandemi\", \"pantai\", \"pantai\", \"papua\", \"papua\", \"papua\", \"papua\", \"papua\", \"paripurna\", \"pariwisata\", \"pariwisata\", \"parpol\", \"partai\", \"partai\", \"partai\", \"paru\", \"paru\", \"pasal\", \"pasal\", \"pasangan\", \"pasangan\", \"pasangan\", \"pasangan\", \"pasar\", \"pasar\", \"pasar\", \"pasar\", \"pasar\", \"pasar\", \"pasien\", \"paslon\", \"paspor\", \"pasukan\", \"pasukan\", \"pasukan\", \"pasukan\", \"patung\", \"patung\", \"paus\", \"pbb\", \"pbb\", \"pbb\", \"pdi\", \"pdi\", \"pdp\", \"pebalap\", \"pebulu\", \"pedagang\", \"pedagang\", \"pedagang\", \"pedagang\", \"pedagang\", \"pedagang\", \"pejalan\", \"pelabuhan\", \"pelabuhan\", \"pelabuhan\", \"pelabuhan\", \"pelabuhan\", \"pelabuhan\", \"pelaku\", \"pelaku\", \"pelaku\", \"pelaku\", \"pelamar\", \"pelanggan\", \"pelanggan\", \"pelanggan\", \"pelanggan\", \"pelanggaran\", \"pelanggaran\", \"pelanggaran\", \"pelatih\", \"pemain\", \"pemain\", \"pemain\", \"pemandangan\", \"pemandangan\", \"pemandangan\", \"pembangkit\", \"pembangunan\", \"pembangunan\", \"pembangunan\", \"pembangunan\", \"pembangunan\", \"pembatasan\", \"pembatasan\", \"pembatasan\", \"pembatasan\", \"pembayaran\", \"pembayaran\", \"pembayaran\", \"pemberantasan\", \"pemberantasan\", \"pembiayaan\", \"pemenangan\", \"pemerintah\", \"pemerintah\", \"pemerintah\", \"pemerintah\", \"pemerintah\", \"pemerintah\", \"pemerintah\", \"pemerintah\", \"pemilih\", \"pemilihan\", \"pemilihan\", \"pemilihan\", \"pemilihan\", \"pemilik\", \"pemilik\", \"pemilik\", \"pemilik\", \"pemilik\", \"pemilik\", \"pemilik\", \"pemilik\", \"pemilik\", \"pemilik\", \"pemilik\", \"pemilu\", \"pemkot\", \"pemkot\", \"pemohon\", \"pemprov\", \"pemprov\", \"pemprov\", \"pemprov\", \"pemulangan\", \"pemungutan\", \"penalti\", \"penanganan\", \"penanganan\", \"penanganan\", \"penanganan\", \"penanganan\", \"penanganan\", \"pendaftar\", \"pendaftaran\", \"pendaftaran\", \"pendaftaran\", \"pendaki\", \"pendakian\", \"pendapatan\", \"pendapatan\", \"pendidikan\", \"pendidikan\", \"pendidikan\", \"pendidikan\", \"pendidikan\", \"peneliti\", \"peneliti\", \"peneliti\", \"peneliti\", \"penelitian\", \"penelitian\", \"penelitian\", \"penelitian\", \"penerbangan\", \"pengadilan\", \"pengadilan\", \"pengendara\", \"pengendara\", \"pengendara\", \"penggemar\", \"penggemar\", \"penggemar\", \"penggugat\", \"pengguna\", \"pengguna\", \"pengguna\", \"pengguna\", \"pengguna\", \"pengunjung\", \"pengunjung\", \"pengunjung\", \"pengunjung\", \"penjara\", \"penjara\", \"penjara\", \"penjualan\", \"penjualan\", \"penjualan\", \"penularan\", \"penumpang\", \"penumpang\", \"penumpang\", \"penuntut\", \"penyakit\", \"penyakit\", \"penyakit\", \"penyaluran\", \"penyebaran\", \"penyebaran\", \"penyidik\", \"penyidik\", \"penyidik\", \"perairan\", \"perairan\", \"perang\", \"perang\", \"perang\", \"perangkat\", \"perangkat\", \"perangkat\", \"perangkat\", \"perangkat\", \"perangkat\", \"perangkat\", \"perasaan\", \"perasaan\", \"peraturan\", \"peraturan\", \"peraturan\", \"peraturan\", \"peraturan\", \"perbankan\", \"perekonomian\", \"perekonomian\", \"perekonomian\", \"perempuan\", \"perempuan\", \"perempuan\", \"perempuan\", \"perempuan\", \"perempuan\", \"perguruan\", \"peristiwa\", \"peristiwa\", \"peristiwa\", \"peristiwa\", \"peristiwa\", \"peristiwa\", \"perjalanan\", \"perjalanan\", \"perjalanan\", \"perjalanan\", \"perjalanan\", \"perjalanan\", \"perjalanan\", \"perjalanan\", \"perjalanan\", \"perjalanan\", \"perjalanan\", \"permohonan\", \"permohonan\", \"permohonan\", \"pernikahan\", \"pernyataan\", \"pernyataan\", \"pernyataan\", \"pernyataan\", \"pernyataan\", \"pernyataan\", \"pernyataan\", \"pernyataan\", \"pernyataan\", \"pernyataan\", \"pernyataan\", \"perppu\", \"persebaya\", \"persen\", \"persen\", \"persen\", \"persen\", \"persen\", \"persen\", \"perseroan\", \"persib\", \"persidangan\", \"persija\", \"pertandingan\", \"pertandingan\", \"pertanian\", \"pertanian\", \"pertanian\", \"pertumbuhan\", \"pertumbuhan\", \"pertunjukan\", \"pertunjukan\", \"perusahaan\", \"perusahaan\", \"perusahaan\", \"pesawat\", \"pesepak\", \"peserta\", \"peserta\", \"peserta\", \"peserta\", \"petarung\", \"petinju\", \"petir\", \"petugas\", \"petugas\", \"petugas\", \"petugas\", \"petugas\", \"piala\", \"piala\", \"piala\", \"pidana\", \"pidana\", \"pidana\", \"pilkada\", \"pilot\", \"pilpres\", \"pisang\", \"pizza\", \"pkl\", \"pks\", \"pks\", \"plastik\", \"plastik\", \"plastik\", \"plastik\", \"pn\", \"poin\", \"poin\", \"poin\", \"poin\", \"poin\", \"pol\", \"pol\", \"pol\", \"pol\", \"polisi\", \"polisi\", \"polisi\", \"polisi\", \"polisi\", \"politik\", \"politik\", \"politik\", \"polres\", \"polresta\", \"polri\", \"polri\", \"polri\", \"polsek\", \"ponsel\", \"ponsel\", \"ponsel\", \"pori\", \"posisi\", \"posisi\", \"posisi\", \"posisi\", \"posisi\", \"posisi\", \"posisi\", \"posisi\", \"posisi\", \"posisi\", \"posisi\", \"posisi\", \"positif\", \"positif\", \"positif\", \"positif\", \"positif\", \"positif\", \"positif\", \"prabowo\", \"praveen\", \"presiden\", \"presiden\", \"presiden\", \"presiden\", \"presiden\", \"pria\", \"pria\", \"pria\", \"pria\", \"pria\", \"pria\", \"pria\", \"pria\", \"prodi\", \"produk\", \"produk\", \"produk\", \"program\", \"program\", \"program\", \"program\", \"program\", \"program\", \"program\", \"program\", \"promo\", \"promo\", \"promo\", \"properti\", \"properti\", \"properti\", \"proses\", \"proses\", \"proses\", \"proses\", \"proses\", \"proses\", \"proses\", \"proses\", \"proses\", \"proses\", \"proses\", \"proses\", \"proses\", \"protein\", \"protokol\", \"protokol\", \"protokol\", \"psbb\", \"psikolog\", \"psis\", \"psm\", \"pssi\", \"pssi\", \"pt\", \"pt\", \"pt\", \"pt\", \"pt\", \"pt\", \"ptn\", \"puasa\", \"puasa\", \"puasa\", \"pulau\", \"pulau\", \"pulau\", \"pulau\", \"pulau\", \"pupuk\", \"pusat\", \"pusat\", \"pusat\", \"pusat\", \"pusat\", \"pusat\", \"pusat\", \"pusat\", \"pusat\", \"pusat\", \"pusat\", \"pusat\", \"putra\", \"putra\", \"putra\", \"putra\", \"putra\", \"putra\", \"putra\", \"putra\", \"putra\", \"putra\", \"putri\", \"putri\", \"putri\", \"putri\", \"putri\", \"putri\", \"putri\", \"putusan\", \"radiasi\", \"raffi\", \"rakyat\", \"rakyat\", \"rakyat\", \"rakyat\", \"rakyat\", \"ram\", \"ramadhan\", \"ramadhan\", \"ramadhan\", \"ramadhan\", \"ramadhan\", \"rambut\", \"rapid\", \"rapid\", \"ratna\", \"raya\", \"raya\", \"raya\", \"raya\", \"raya\", \"raya\", \"raya\", \"raya\", \"raya\", \"raya\", \"razi\", \"real\", \"real\", \"real\", \"real\", \"real\", \"real\", \"rektor\", \"rem\", \"rendy\", \"reskrim\", \"restoran\", \"restoran\", \"restoran\", \"restoran\", \"restoran\", \"restoran\", \"revisi\", \"revisi\", \"revisi\", \"rian\", \"riau\", \"riau\", \"riau\", \"riau\", \"risma\", \"romy\", \"ronaldo\", \"rossi\", \"roti\", \"rp\", \"rp\", \"rp\", \"rp\", \"rp\", \"rp\", \"ruas\", \"rudal\", \"ruf\", \"rumah\", \"rumah\", \"rumah\", \"rumah\", \"rumah\", \"rumah\", \"rumah\", \"rumah\", \"rumah\", \"rumahnya\", \"rumahnya\", \"rumahnya\", \"rusia\", \"rusia\", \"rusia\", \"ruu\", \"rw\", \"rw\", \"sabu\", \"sabu\", \"saham\", \"sahur\", \"sakit\", \"sakit\", \"sakit\", \"salah\", \"salah\", \"salah\", \"salah\", \"salah\", \"salah\", \"salah\", \"salah\", \"salah\", \"salah\", \"salah\", \"salah\", \"salah\", \"salah\", \"salah\", \"sampah\", \"sampah\", \"sampah\", \"samsung\", \"sandiaga\", \"sang\", \"sang\", \"sang\", \"sang\", \"sang\", \"sang\", \"sar\", \"sar\", \"sarapan\", \"sars\", \"satgas\", \"satgas\", \"satgas\", \"satgas\", \"satgas\", \"satpol\", \"satpol\", \"saudi\", \"saut\", \"sayur\", \"sayuran\", \"sdn\", \"sedih\", \"seharga\", \"seharga\", \"sekolah\", \"sekolah\", \"sekolah\", \"sekolah\", \"sekolah\", \"sektor\", \"sektor\", \"sektor\", \"sektor\", \"sektor\", \"sektor\", \"sel\", \"sel\", \"sel\", \"sel\", \"sel\", \"selatan\", \"selatan\", \"selatan\", \"selatan\", \"selatan\", \"selatan\", \"selatan\", \"selatan\", \"selatan\", \"selatan\", \"selatan\", \"selatan\", \"selatan\", \"seleksi\", \"seleksi\", \"seleksi\", \"sembuh\", \"senen\", \"seni\", \"seni\", \"seni\", \"seni\", \"sensor\", \"sepak\", \"sepak\", \"sepatu\", \"sepatu\", \"sepatu\", \"sepatu\", \"sepatu\", \"serangan\", \"serangan\", \"serangan\", \"serangan\", \"serangan\", \"serangan\", \"serangan\", \"seri\", \"seri\", \"seri\", \"seri\", \"serikat\", \"serikat\", \"serikat\", \"sesuai\", \"sesuai\", \"sesuai\", \"sesuai\", \"sesuai\", \"sesuai\", \"sesuai\", \"sesuai\", \"sesuai\", \"sesuai\", \"sesuai\", \"sesuai\", \"sesuai\", \"sesuai\", \"sidang\", \"sidang\", \"sih\", \"sih\", \"sih\", \"sih\", \"silver\", \"sim\", \"sinetron\", \"singapura\", \"singapura\", \"singapura\", \"singapura\", \"singapura\", \"singapura\", \"singapura\", \"singapura\", \"singel\", \"sirkuit\", \"siswa\", \"siswa\", \"skd\", \"skor\", \"skor\", \"skuad\", \"skuter\", \"smartphone\", \"smk\", \"smk\", \"smk\", \"soekarno\", \"soekarno\", \"sosial\", \"sosial\", \"sosial\", \"sosial\", \"sosial\", \"sosial\", \"sosial\", \"sosial\", \"sosial\", \"sosial\", \"spanduk\", \"spesifikasi\", \"spesimen\", \"stadion\", \"stadion\", \"stadion\", \"stasiun\", \"stasiun\", \"stasiun\", \"stasiun\", \"stasiun\", \"stasiun\", \"stasiun\", \"store\", \"studi\", \"studi\", \"studi\", \"studi\", \"suami\", \"suami\", \"suami\", \"suap\", \"suara\", \"suara\", \"suara\", \"suara\", \"subianto\", \"subsidi\", \"suka\", \"suka\", \"suka\", \"suka\", \"suka\", \"suka\", \"suka\", \"sumut\", \"sungai\", \"sungai\", \"sungai\", \"surabaya\", \"surabaya\", \"surabaya\", \"surabaya\", \"surabaya\", \"surabaya\", \"surabaya\", \"surabaya\", \"surabaya\", \"surat\", \"surat\", \"surat\", \"surat\", \"surat\", \"surat\", \"surat\", \"surat\", \"suriah\", \"susi\", \"susu\", \"sutradara\", \"suv\", \"swab\", \"syuting\", \"taktik\", \"taman\", \"taman\", \"taman\", \"taman\", \"tampil\", \"tampil\", \"tampil\", \"tampil\", \"tampil\", \"tampil\", \"tampung\", \"tanaman\", \"tanaman\", \"tanaman\", \"tangerang\", \"tangerang\", \"tangerang\", \"tangerang\", \"tangerang\", \"tangerang\", \"tangerang\", \"tangerang\", \"tangkis\", \"tarian\", \"tawon\", \"telur\", \"teman\", \"teman\", \"teman\", \"teman\", \"teman\", \"teman\", \"teman\", \"teman\", \"terdakwa\", \"terendam\", \"terinfeksi\", \"terjangkit\", \"terkait\", \"terkait\", \"terkait\", \"terkait\", \"terkait\", \"terkait\", \"terkait\", \"terkait\", \"terkait\", \"terkait\", \"terkait\", \"terkait\", \"terkait\", \"terkonfirmasi\", \"tersangka\", \"tersangka\", \"tersangka\", \"tes\", \"tes\", \"tes\", \"tes\", \"tes\", \"tes\", \"tes\", \"tewas\", \"tewas\", \"the\", \"the\", \"the\", \"the\", \"the\", \"the\", \"the\", \"the\", \"tidur\", \"tidur\", \"tidur\", \"tidur\", \"tiket\", \"tiket\", \"tiket\", \"tiket\", \"tim\", \"tim\", \"tim\", \"tim\", \"tim\", \"tim\", \"tim\", \"tim\", \"tim\", \"tim\", \"tim\", \"tim\", \"tim\", \"timnas\", \"timur\", \"timur\", \"timur\", \"timur\", \"timur\", \"timur\", \"timur\", \"timur\", \"timur\", \"timur\", \"titik\", \"titik\", \"titik\", \"titik\", \"titik\", \"titik\", \"titik\", \"titik\", \"titik\", \"titik\", \"titik\", \"titik\", \"titik\", \"titik\", \"tito\", \"tito\", \"tito\", \"tki\", \"tkp\", \"tkp\", \"tni\", \"tni\", \"tni\", \"tni\", \"to\", \"to\", \"to\", \"to\", \"to\", \"to\", \"to\", \"to\", \"toko\", \"toko\", \"toko\", \"toko\", \"toko\", \"toko\", \"toko\", \"tol\", \"tottenham\", \"toyota\", \"toyota\", \"tps\", \"tradisi\", \"tradisi\", \"tradisi\", \"tradisi\", \"tradisi\", \"transjakarta\", \"triliun\", \"triliun\", \"trotoar\", \"truk\", \"truk\", \"truk\", \"trump\", \"tsunami\", \"tubuh\", \"tubuh\", \"tubuh\", \"tubuh\", \"tulis\", \"tulis\", \"tulis\", \"tulis\", \"tulis\", \"tulis\", \"tulis\", \"tulis\", \"tulis\", \"tunggal\", \"tunggal\", \"tunggal\", \"tunggal\", \"tunggal\", \"tunggal\", \"tunggal\", \"tunggal\", \"turki\", \"turki\", \"turnamen\", \"turnamen\", \"turnamen\", \"tyson\", \"uang\", \"uang\", \"uang\", \"uang\", \"uang\", \"uang\", \"uang\", \"ufc\", \"ugm\", \"ugm\", \"ugm\", \"ujian\", \"ujian\", \"ujian\", \"ujian\", \"ujian\", \"ular\", \"umkm\", \"undang\", \"unggahan\", \"uni\", \"unit\", \"unit\", \"unit\", \"unit\", \"unit\", \"unit\", \"unit\", \"unit\", \"united\", \"universitas\", \"universitas\", \"universitas\", \"universitas\", \"universitas\", \"universitas\", \"universitas\", \"uno\", \"upah\", \"upah\", \"urut\", \"usaha\", \"usaha\", \"usaha\", \"usaha\", \"usaha\", \"usaha\", \"usaha\", \"usaha\", \"usaha\", \"utami\", \"utbk\", \"uu\", \"va\", \"vaksin\", \"varian\", \"varian\", \"venezuela\", \"video\", \"video\", \"video\", \"video\", \"video\", \"video\", \"video\", \"video\", \"virus\", \"vonis\", \"vs\", \"vs\", \"wabah\", \"wagub\", \"wahyu\", \"wahyu\", \"wahyu\", \"wahyu\", \"wahyu\", \"wahyu\", \"wakil\", \"wakil\", \"wakil\", \"wakil\", \"wakil\", \"wakil\", \"wakil\", \"wakil\", \"wakil\", \"wanita\", \"wanita\", \"wanita\", \"wanita\", \"wanita\", \"warga\", \"warga\", \"warga\", \"warga\", \"warga\", \"warga\", \"warga\", \"warganet\", \"warna\", \"warna\", \"warna\", \"warna\", \"warna\", \"washington\", \"washington\", \"wib\", \"wib\", \"wib\", \"wib\", \"wib\", \"wib\", \"wib\", \"wib\", \"wib\", \"wib\", \"wib\", \"widodo\", \"widodo\", \"widodo\", \"widodo\", \"wilayah\", \"wilayah\", \"wilayah\", \"wilayah\", \"wilayah\", \"wilayah\", \"wilayah\", \"wilayah\", \"wilayah\", \"wiranto\", \"wiranto\", \"wisata\", \"wisata\", \"wisatawan\", \"wni\", \"wni\", \"wuhan\", \"wuhan\", \"xiaomi\", \"ya\", \"ya\", \"ya\", \"ya\", \"ya\", \"ya\", \"ya\", \"ya\", \"ya\", \"ya\", \"ya\", \"yasonna\", \"yogyakarta\", \"yogyakarta\", \"yogyakarta\", \"yogyakarta\", \"yogyakarta\", \"yogyakarta\", \"yogyakarta\", \"yogyakarta\", \"york\", \"york\", \"york\", \"york\", \"youtube\", \"youtube\", \"youtube\", \"youtube\", \"yuan\", \"yuri\", \"zat\"]}, \"R\": 30, \"lambda.step\": 0.01, \"plot.opts\": {\"xlab\": \"PC1\", \"ylab\": \"PC2\"}, \"topic.order\": [13, 7, 2, 9, 1, 4, 8, 3, 15, 6, 5, 11, 10, 14, 12]};\n",
       "\n",
       "function LDAvis_load_lib(url, callback){\n",
       "  var s = document.createElement('script');\n",
       "  s.src = url;\n",
       "  s.async = true;\n",
       "  s.onreadystatechange = s.onload = callback;\n",
       "  s.onerror = function(){console.warn(\"failed to load library \" + url);};\n",
       "  document.getElementsByTagName(\"head\")[0].appendChild(s);\n",
       "}\n",
       "\n",
       "if(typeof(LDAvis) !== \"undefined\"){\n",
       "   // already loaded: just create the visualization\n",
       "   !function(LDAvis){\n",
       "       new LDAvis(\"#\" + \"ldavis_el1167214323197427368659094486\", ldavis_el1167214323197427368659094486_data);\n",
       "   }(LDAvis);\n",
       "}else if(typeof define === \"function\" && define.amd){\n",
       "   // require.js is available: use it to load d3/LDAvis\n",
       "   require.config({paths: {d3: \"https://d3js.org/d3.v5\"}});\n",
       "   require([\"d3\"], function(d3){\n",
       "      window.d3 = d3;\n",
       "      LDAvis_load_lib(\"https://cdn.jsdelivr.net/gh/bmabey/pyLDAvis@3.4.0/pyLDAvis/js/ldavis.v3.0.0.js\", function(){\n",
       "        new LDAvis(\"#\" + \"ldavis_el1167214323197427368659094486\", ldavis_el1167214323197427368659094486_data);\n",
       "      });\n",
       "    });\n",
       "}else{\n",
       "    // require.js not available: dynamically load d3 & LDAvis\n",
       "    LDAvis_load_lib(\"https://d3js.org/d3.v5.js\", function(){\n",
       "         LDAvis_load_lib(\"https://cdn.jsdelivr.net/gh/bmabey/pyLDAvis@3.4.0/pyLDAvis/js/ldavis.v3.0.0.js\", function(){\n",
       "                 new LDAvis(\"#\" + \"ldavis_el1167214323197427368659094486\", ldavis_el1167214323197427368659094486_data);\n",
       "            })\n",
       "         });\n",
       "}\n",
       "</script>"
      ],
      "text/plain": [
       "PreparedData(topic_coordinates=              x         y  topics  cluster       Freq\n",
       "topic                                                \n",
       "12    -0.038986  0.071672       1        1  11.566777\n",
       "6     -0.113310  0.059439       2        1  11.067967\n",
       "1      0.099670  0.048344       3        1  10.621357\n",
       "8     -0.058147 -0.127516       4        1   7.106228\n",
       "0      0.237995 -0.137553       5        1   7.041773\n",
       "3      0.061092  0.237916       6        1   6.968499\n",
       "7     -0.124820  0.058702       7        1   6.743491\n",
       "2     -0.164201 -0.142329       8        1   6.649476\n",
       "14    -0.145277  0.072567       9        1   6.106963\n",
       "5      0.098517  0.191592      10        1   5.202370\n",
       "4      0.040049 -0.101027      11        1   4.753487\n",
       "10     0.101060  0.062401      12        1   4.452897\n",
       "9      0.278203 -0.139873      13        1   4.311426\n",
       "13    -0.083359 -0.012507      14        1   4.070812\n",
       "11    -0.188485 -0.141828      15        1   3.336478, topic_info=           Term          Freq         Total Category  logprob  loglift\n",
       "195          rp  29576.000000  29576.000000  Default  30.0000  30.0000\n",
       "33        jalan  21492.000000  21492.000000  Default  29.0000  29.0000\n",
       "18        covid  16185.000000  16185.000000  Default  28.0000  28.0000\n",
       "150   indonesia  45339.000000  45339.000000  Default  27.0000  27.0000\n",
       "126       virus  15166.000000  15166.000000  Default  26.0000  26.0000\n",
       "..          ...           ...           ...      ...      ...      ...\n",
       "212     anggota   1416.208626  10870.319187  Topic15  -5.3123   1.3622\n",
       "164  masyarakat   1496.866358  23478.166960  Topic15  -5.2569   0.6476\n",
       "37        kamis   1223.272853  12779.925559  Topic15  -5.4587   1.0539\n",
       "340     menteri   1079.069429  10223.353254  Topic15  -5.5841   1.1517\n",
       "233       jumat   1068.578233  11929.714599  Topic15  -5.5939   0.9876\n",
       "\n",
       "[1051 rows x 6 columns], token_table=      Topic      Freq     Term\n",
       "term                          \n",
       "4977     14  0.998296      abk\n",
       "283       1  0.025132    acara\n",
       "283       3  0.334853    acara\n",
       "283       4  0.183643    acara\n",
       "283       7  0.006880    acara\n",
       "...     ...       ...      ...\n",
       "2626     10  0.046606  youtube\n",
       "2626     13  0.010357  youtube\n",
       "8826     11  0.994091     yuan\n",
       "4754      7  0.999244     yuri\n",
       "9658      6  0.998245      zat\n",
       "\n",
       "[2951 rows x 3 columns], R=30, lambda_step=0.01, plot_opts={'xlab': 'PC1', 'ylab': 'PC2'}, topic_order=[13, 7, 2, 9, 1, 4, 8, 3, 15, 6, 5, 11, 10, 14, 12])"
      ]
     },
     "execution_count": 36,
     "metadata": {},
     "output_type": "execute_result"
    }
   ],
   "source": [
    "# Visualisasi dengan pyLDAvis\n",
    "pyLDAvis.enable_notebook()\n",
    "panel = pyLDAvis.gensim_models.prepare(lda_model, corpus, dictionary)\n",
    "panel"
   ]
  },
  {
   "cell_type": "markdown",
   "id": "24c316a0",
   "metadata": {},
   "source": [
    "### BERTopic"
   ]
  },
  {
   "cell_type": "code",
   "execution_count": null,
   "id": "75e900f6",
   "metadata": {},
   "outputs": [],
   "source": [
    "# # Reduksi dimensi untuk evaluasi\n",
    "# pca = PCA(n_components=5)\n",
    "# embeddings_pca = pca.fit_transform(embeddings)\n",
    "\n",
    "# # Filter out outlier topics (-1, -2)\n",
    "# valid_idx = [i for i, t in enumerate(topics) if t >= 0]\n",
    "# filtered_embeddings = embeddings_pca[valid_idx]\n",
    "# filtered_topics = [topics[i] for i in valid_idx]\n",
    "\n",
    "# # Hitung Silhouette Score\n",
    "# score = silhouette_score(filtered_embeddings, filtered_topics)\n",
    "# print(f\"\\nSilhouette Score: {score:.4f}\")"
   ]
  },
  {
   "cell_type": "code",
   "execution_count": 26,
   "id": "cf28f40d",
   "metadata": {},
   "outputs": [
    {
     "name": "stdout",
     "output_type": "stream",
     "text": [
      "Silhouette Score: -0.29867706\n",
      "Calinski-Harabasz: 59.655736412796756\n",
      "Davies-Bouldin: 2.822230872515802\n"
     ]
    }
   ],
   "source": [
    "# Dapatkan embeddings\n",
    "embeddings = topic_model._extract_embeddings(docs, method=\"document\")\n",
    "\n",
    "# Reduksi dimensi\n",
    "pca = PCA(n_components=10)\n",
    "embeddings_pca = pca.fit_transform(embeddings)\n",
    "\n",
    "# Evaluasi\n",
    "print(\"Silhouette Score:\", silhouette_score(embeddings_pca, topics))\n",
    "print(\"Calinski-Harabasz:\", calinski_harabasz_score(embeddings_pca, topics))\n",
    "print(\"Davies-Bouldin:\", davies_bouldin_score(embeddings_pca, topics))"
   ]
  },
  {
   "cell_type": "markdown",
   "id": "da985390",
   "metadata": {},
   "source": [
    "### Menampilkan Topik antara LDA dan BERTopic"
   ]
  },
  {
   "cell_type": "code",
   "execution_count": 27,
   "id": "1bb7544a",
   "metadata": {},
   "outputs": [
    {
     "data": {
      "text/plain": [
       "[['jakarta', 'dki', 'kota', 'surat', 'kpu'],\n",
       " ['anak', 'video', 'akun', 'orang', 'media', 'ya'],\n",
       " ['laga', 'gol', 'pertandingan', 'liga', 'pemain', 'united'],\n",
       " ['menteri', 'indonesia', 'kapal', 'presiden', 'pesawat', 'bandara'],\n",
       " ['partai', 'jokowi', 'prabowo', 'presiden', 'makanan', 'ketua'],\n",
       " ['orang', 'indonesia', 'as', 'film', 'dunia', 'negara'],\n",
       " ['memiliki', 'mobil', 'produk', 'air', 'ponsel', 'fitur'],\n",
       " ['persen', 'pemerintah', 'rp', 'indonesia', 'negara', 'masyarakat'],\n",
       " ['polisi', 'jakarta', 'kota', 'tersangka', 'polda', 'wilayah'],\n",
       " ['jalan', 'kendaraan', 'tol', 'jakarta', 'penumpang', 'bus'],\n",
       " ['korban', 'warga', 'rumah', 'pelaku', 'desa', 'kecamatan'],\n",
       " ['pemain', 'indonesia', 'tim', 'klub', 'musim', 'timnas'],\n",
       " ['covid', 'orang', 'virus', 'corona', 'pasien'],\n",
       " ['rp', 'juta', 'harga', 'wisata', 'rumah'],\n",
       " ['pasal', 'hukum', 'undang', 'hakim', 'pengadilan', 'pidana']]"
      ]
     },
     "execution_count": 27,
     "metadata": {},
     "output_type": "execute_result"
    }
   ],
   "source": [
    "topic(model_lda)"
   ]
  },
  {
   "cell_type": "code",
   "execution_count": 29,
   "id": "41ab5e57",
   "metadata": {},
   "outputs": [
    {
     "name": "stdout",
     "output_type": "stream",
     "text": [
      "   Topic  Count                                    Name  \\\n",
      "0     -1  24384         -1_orang_indonesia_anak_jakarta   \n",
      "1      0    727               0_lagu_konser_musik_album   \n",
      "2      1    536       1_hakim_terdakwa_pengadilan_jaksa   \n",
      "3      2    504  2_pesawat_penerbangan_bandara_maskapai   \n",
      "4      3    429       3_film_sutradara_karakter_bioskop   \n",
      "5      4    358          4_pebalap_rossi_marquez_motogp   \n",
      "6      5    352                  5_kpu_suara_pemilu_tps   \n",
      "7      6    304                6_gim_ganda_ahsan_marcus   \n",
      "8      7    301           7_sepatu_koleksi_busana_warna   \n",
      "9      8    297             8_banjir_air_hujan_genangan   \n",
      "\n",
      "                                      Representation  \\\n",
      "0  [orang, indonesia, anak, jakarta, rumah, masya...   \n",
      "1  [lagu, konser, musik, album, band, penyanyi, p...   \n",
      "2  [hakim, terdakwa, pengadilan, jaksa, majelis h...   \n",
      "3  [pesawat, penerbangan, bandara, maskapai, penu...   \n",
      "4  [film, sutradara, karakter, bioskop, tayang, a...   \n",
      "5  [pebalap, rossi, marquez, motogp, balapan, yam...   \n",
      "6  [kpu, suara, pemilu, tps, pemilih, surat suara...   \n",
      "7  [gim, ganda, ahsan, marcus, ahsan hendra, hend...   \n",
      "8  [sepatu, koleksi, busana, warna, desain, pakai...   \n",
      "9  [banjir, air, hujan, genangan, sungai, normali...   \n",
      "\n",
      "                                 Representative_Docs  \n",
      "0  [pemerintah meluncurkandi kartu diperuntukkan ...  \n",
      "1  [menyikapiloro atidengan elegan nyanyi dijoget...  \n",
      "2  [managing director pt rohde and schwarz indone...  \n",
      "3  [pesawat milikpada selasa philadelphia orlando...  \n",
      "4  [mengecewakan penggemar film film dinantikan m...  \n",
      "5  [kejutan sesi kualifikasi motogp jerez sabtu p...  \n",
      "6  [sekretaris jenderalpriyo budi santoso polemik...  \n",
      "7  [wakil wakil indonesia menjalani laga babak ke...  \n",
      "8  [sekian nama brand jepang hype incaran orang a...  \n",
      "9  [hujan deras cuaca ekstrem rabu pekan menyebab...  \n",
      "\n",
      "Topik 0:\n",
      "[('lagu', 0.03322914568306411), ('konser', 0.021228964985903803), ('musik', 0.0188181514219316), ('album', 0.012737535683433214), ('band', 0.011198879752750673), ('penyanyi', 0.01098648342244711), ('penonton', 0.010100464795921174), ('panggung', 0.010026847641890886), ('musisi', 0.008233862250555196), ('singel', 0.006705210351794885)]\n",
      "\n",
      "Topik 1:\n",
      "[('hakim', 0.021366141725208825), ('terdakwa', 0.020101068430873684), ('pengadilan', 0.015449818384750819), ('jaksa', 0.013949747569790113), ('majelis hakim', 0.012964423973724503), ('putusan', 0.012554947239882371), ('sidang', 0.01238881774927317), ('majelis', 0.012152368705269393), ('pengadilan negeri', 0.010550133858150047), ('pidana', 0.009413039576481744)]\n",
      "\n",
      "Topik 2:\n",
      "[('pesawat', 0.031951726523742965), ('penerbangan', 0.027268109079153547), ('bandara', 0.022099370589333308), ('maskapai', 0.014737294278571428), ('penumpang', 0.013314568718228413), ('terbang', 0.010856751738091775), ('pilot', 0.010487070775401019), ('lion', 0.01034936508183639), ('lion air', 0.010114496928397786), ('boeing', 0.009791046494020949)]\n",
      "\n",
      "Topik 3:\n",
      "[('film', 0.05261479214800118), ('sutradara', 0.01533691722061502), ('karakter', 0.014760072459939457), ('bioskop', 0.013643667222766878), ('tayang', 0.01312811715679197), ('aktor', 0.01006789875785286), ('adegan', 0.009825025231896819), ('marvel', 0.008716617961287806), ('dibintangi', 0.008485136018196952), ('pemeran', 0.007452550394277604)]\n",
      "\n",
      "Topik 4:\n",
      "[('pebalap', 0.054180876461462184), ('rossi', 0.04740087034634903), ('marquez', 0.043562672654257596), ('motogp', 0.04254248807315637), ('balapan', 0.038858088521738894), ('yamaha', 0.03149783944926662), ('lorenzo', 0.030375993116584118), ('honda', 0.02285622182888661), ('ducati', 0.020659205632155297), ('quartararo', 0.02040809730179262)]\n",
      "\n",
      "Topik 5:\n",
      "[('kpu', 0.0331152602670124), ('suara', 0.02524193247257661), ('pemilu', 0.021537471166024582), ('tps', 0.020262985903560474), ('pemilih', 0.01979199206242108), ('surat suara', 0.019600669093190897), ('bawaslu', 0.015507080180188256), ('pemungutan', 0.0141989372514728), ('pemilihan', 0.014183323128688835), ('pemungutan suara', 0.013252877404437714)]\n",
      "\n",
      "Topik 6:\n",
      "[('gim', 0.03524788830263989), ('ganda', 0.03045654137861742), ('ahsan', 0.027640779515278005), ('marcus', 0.02555374371075204), ('ahsan hendra', 0.025116041873750012), ('hendra', 0.02392823626195474), ('open', 0.020862561595874386), ('kevin', 0.020850896453867958), ('apriyani', 0.01958329166451905), ('praveen', 0.019096405175139084)]\n",
      "\n",
      "Topik 7:\n",
      "[('sepatu', 0.034901438545919566), ('koleksi', 0.021537573616448223), ('busana', 0.018248494935426164), ('warna', 0.01515081121128505), ('desain', 0.011789166968401061), ('pakaian', 0.010431375311004042), ('motif', 0.010351073358634916), ('sneakers', 0.00929747907568806), ('nike', 0.0085613720820272), ('adidas', 0.008315576662030989)]\n",
      "\n",
      "Topik 8:\n",
      "[('banjir', 0.03085440699354891), ('air', 0.01699477826196685), ('hujan', 0.010839780175896799), ('genangan', 0.01038638460212012), ('sungai', 0.00928217900280915), ('normalisasi', 0.008958673077148033), ('terendam', 0.008899309252557277), ('ciliwung', 0.00838986843732911), ('jakarta', 0.007983212492061532), ('bendungan', 0.00794977560748472)]\n",
      "\n",
      "Topik 9:\n",
      "[('wisata', 0.020362184919963562), ('wisatawan', 0.014782500135620566), ('pantai', 0.01216527305899365), ('pariwisata', 0.011225075061477194), ('destinasi', 0.010407496543634289), ('pengunjung', 0.008801297549257603), ('menikmati', 0.0075103079530733545), ('keindahan', 0.007407730815104288), ('taman', 0.007330800516522022), ('air terjun', 0.0072765166781330135)]\n"
     ]
    }
   ],
   "source": [
    "# Info topik\n",
    "topic_info = topic_model.get_topic_info()\n",
    "print(topic_info.head(10))\n",
    "\n",
    "# Top kata kunci per topik\n",
    "for i in range(10):\n",
    "    print(f\"\\nTopik {i}:\")\n",
    "    print(topic_model.get_topic(i))\n",
    "\n"
   ]
  },
  {
   "cell_type": "markdown",
   "id": "88a46155",
   "metadata": {},
   "source": [
    "**Noted**\n",
    "\n",
    "berdasarkan hasil dari topic modelling perbandingan hasil antara LDA dan BERTopic seperti hasil yang terlihat. LDA lebih memberikan hasil yang baik dibandingkan BERTopic. alasannya yaitu karenanilai evaluasi yang didapatkan oleh model BERTopic tidak maksimal dan perlu dilakukan peningkatan lagi. \n",
    "\n",
    "dari segi respon topic antara model BERTopic dan LDA. LDA memberikan topic yang mudah untuk dipahami dan difenisikan topic tersebut membahasa tentang apa, sama juga seperti BERTopic topic yang diberikan masih cuku mudah untuk dipahami dan didefenisikan."
   ]
  },
  {
   "cell_type": "markdown",
   "id": "052f1fb7",
   "metadata": {},
   "source": [
    "## Kesimpulan"
   ]
  },
  {
   "cell_type": "markdown",
   "id": "7ffc099f",
   "metadata": {},
   "source": [
    "- Berdasarkan hal yang telah dijelaskan sebelumnya model LDA mempu menghasilkan topic yang lebih baik dibandingkan model BERTopic hal ini dapat dilihat dari hasil evaluasi yang telah dilakukan. terutama pada perbandingan hasil topic yang dihasilkan.\n",
    "\n",
    "- keunggulan LDA yaitu cendrung ringan, mampu menangani data yang besar, setiap topik yang ada didasarkan dari distribusi kata.\n",
    "- keunggulan BERTopic adalah mudah dalam menyatukan topic topic yag mirip, memiliki sifat yang lebih fleksibel\n",
    "- untuk topic yang sering muncul dari kedua model yang digunakan yaitu FILM, Politic, Sport, transportasi, teknologi"
   ]
  },
  {
   "cell_type": "markdown",
   "id": "06686448",
   "metadata": {},
   "source": [
    "# Tambahan"
   ]
  },
  {
   "cell_type": "code",
   "execution_count": 38,
   "id": "acfc48b3",
   "metadata": {},
   "outputs": [
    {
     "data": {
      "text/plain": [
       "['Util/lda_model.pkl']"
      ]
     },
     "execution_count": 38,
     "metadata": {},
     "output_type": "execute_result"
    }
   ],
   "source": [
    "import joblib\n",
    "\n",
    "# Simpan model LDA ke file\n",
    "joblib.dump(lda, 'Util/lda_model.pkl')"
   ]
  },
  {
   "cell_type": "code",
   "execution_count": 39,
   "id": "ad062cac",
   "metadata": {},
   "outputs": [],
   "source": [
    "from scipy.sparse import save_npz\n",
    "\n",
    "\n",
    "save_npz(\"Util/bow_matrix.npz\", bow)\n",
    "joblib.dump(vectorizer, \"Util/count_vectorizer.pkl\")\n",
    "df.to_csv(\"Data/dataset.csv\", index=False, encoding='utf-8')\n"
   ]
  },
  {
   "cell_type": "code",
   "execution_count": null,
   "id": "7d72ff57",
   "metadata": {},
   "outputs": [],
   "source": []
  }
 ],
 "metadata": {
  "kernelspec": {
   "display_name": "Python 3",
   "language": "python",
   "name": "python3"
  },
  "language_info": {
   "codemirror_mode": {
    "name": "ipython",
    "version": 3
   },
   "file_extension": ".py",
   "mimetype": "text/x-python",
   "name": "python",
   "nbconvert_exporter": "python",
   "pygments_lexer": "ipython3",
   "version": "3.11.9"
  }
 },
 "nbformat": 4,
 "nbformat_minor": 5
}
